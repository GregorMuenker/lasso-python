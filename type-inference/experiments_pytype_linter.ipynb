{
 "cells": [
  {
   "cell_type": "code",
   "id": "initial_id",
   "metadata": {
    "collapsed": true,
    "ExecuteTime": {
     "end_time": "2024-07-17T15:32:32.285156Z",
     "start_time": "2024-07-17T15:32:32.278857Z"
    }
   },
   "source": [
    "import builtins\n",
    "import copy\n",
    "\n",
    "from pytype.main import _run_pytype\n",
    "from pytype import config\n",
    "from ast import Name\n",
    "\n",
    "options = config.Options.create(\"temp.py\")"
   ],
   "outputs": [],
   "execution_count": 81
  },
  {
   "metadata": {
    "ExecuteTime": {
     "end_time": "2024-07-17T15:32:32.682172Z",
     "start_time": "2024-07-17T15:32:32.638455Z"
    }
   },
   "cell_type": "code",
   "source": [
    "import ast\n",
    "\n",
    "with open(\"temp.py\", \"r\") as file:\n",
    "    source = file.read()\n",
    "    original_tree = ast.parse(source)"
   ],
   "id": "a7ae2e8c868e2477",
   "outputs": [],
   "execution_count": 82
  },
  {
   "metadata": {
    "ExecuteTime": {
     "end_time": "2024-07-17T15:39:07.787552Z",
     "start_time": "2024-07-17T15:39:07.734530Z"
    }
   },
   "cell_type": "code",
   "source": [
    "tree = copy.deepcopy(original_tree)\n",
    "tree.body[0].args.args[0].annotation = ast.Name('str')\n",
    "tree.body[0].args.args[1].annotation = ast.Name('int')\n",
    "with open(\"temp.py\", \"w\") as file:\n",
    "    file.write(ast.unparse(tree))"
   ],
   "id": "ea580cd77efb64a1",
   "outputs": [],
   "execution_count": 108
  },
  {
   "metadata": {
    "ExecuteTime": {
     "end_time": "2024-07-17T15:39:09.356347Z",
     "start_time": "2024-07-17T15:39:09.209776Z"
    }
   },
   "cell_type": "code",
   "source": [
    "from pytype.io import *\n",
    "\n",
    "res = check_or_generate_pyi(options)\n",
    "\n",
    "errorlog = res.context.errorlog\n",
    "len(errorlog)"
   ],
   "id": "62eaf9b13aa48769",
   "outputs": [
    {
     "data": {
      "text/plain": [
       "1"
      ]
     },
     "execution_count": 109,
     "metadata": {},
     "output_type": "execute_result"
    }
   ],
   "execution_count": 109
  },
  {
   "metadata": {},
   "cell_type": "code",
   "outputs": [],
   "execution_count": null,
   "source": "",
   "id": "245fa1c5492a29b2"
  }
 ],
 "metadata": {
  "kernelspec": {
   "display_name": "Python 3",
   "language": "python",
   "name": "python3"
  },
  "language_info": {
   "codemirror_mode": {
    "name": "ipython",
    "version": 2
   },
   "file_extension": ".py",
   "mimetype": "text/x-python",
   "name": "python",
   "nbconvert_exporter": "python",
   "pygments_lexer": "ipython2",
   "version": "2.7.6"
  }
 },
 "nbformat": 4,
 "nbformat_minor": 5
}
