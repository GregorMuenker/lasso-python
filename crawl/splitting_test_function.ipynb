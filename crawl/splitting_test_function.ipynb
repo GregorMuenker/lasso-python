{
 "cells": [
  {
   "cell_type": "code",
   "execution_count": 1,
   "outputs": [],
   "source": [
    "from _ast import *\n",
    "import ast"
   ],
   "metadata": {
    "collapsed": false,
    "ExecuteTime": {
     "end_time": "2024-05-01T10:27:48.889401Z",
     "start_time": "2024-05-01T10:27:48.885211Z"
    }
   },
   "id": "92d95f292c0e86bb"
  },
  {
   "cell_type": "code",
   "execution_count": 4,
   "id": "initial_id",
   "metadata": {
    "collapsed": true,
    "ExecuteTime": {
     "end_time": "2024-05-01T10:31:56.511525Z",
     "start_time": "2024-05-01T10:31:56.502652Z"
    }
   },
   "outputs": [],
   "source": [
    "from os import listdir\n",
    "from os.path import isfile, join, isdir\n",
    "\n",
    "def get_all_functions_path(module_name, path):\n",
    "    function_dict = {}\n",
    "    class_dict = {}\n",
    "    prefix = module_name + \".\"\n",
    "    for element in sorted(listdir(path)):\n",
    "        if isfile(join(path, element)):\n",
    "            sub_module_name = element.split(\".py\")[0]\n",
    "            source = open(join(path, element), \"r\").read()\n",
    "            tree = ast.parse(source)\n",
    "            function_list = []\n",
    "            class_list = []\n",
    "            for element in tree.body:\n",
    "                if type(element) == FunctionDef and element.name[0] != \"_\":\n",
    "                    function_list.append(element)\n",
    "                elif type(element) == ClassDef and element.name[0] != \"_\":\n",
    "                    class_list.append(element)\n",
    "            if len(function_list) > 0:\n",
    "                function_dict[prefix + sub_module_name] = function_list\n",
    "            if len(class_list) > 0:\n",
    "                class_dict[prefix + sub_module_name] = class_list\n",
    "        elif isdir(join(path, element)):\n",
    "            res_function_dict, res_class_dict = get_all_functions_path(prefix + element, join(path, element))\n",
    "            function_dict.update(res_function_dict)\n",
    "            class_dict.update(res_class_dict)\n",
    "    return function_dict, class_dict\n",
    "    \n",
    "function_dict, class_dict = get_all_functions_path(\"calculator\", \"crawl/packages/calculator-0.0.1/calculator\")"
   ]
  },
  {
   "cell_type": "code",
   "execution_count": 8,
   "outputs": [],
   "source": [
    "def get_class_functions(class_dict):\n",
    "    class_function_dict = {}\n",
    "    for module in class_dict.keys():\n",
    "        class_function_list = []\n",
    "        for class_def in class_dict[module]:\n",
    "            for element in class_def.body:\n",
    "                if type(element) == FunctionDef and element.name[0] != \"_\":\n",
    "                    class_function_list.append({\n",
    "                        \"dependend_object\": class_def.name,\n",
    "                        \"function\": element\n",
    "                    })\n",
    "        class_function_dict[module] = class_function_list\n",
    "    return class_function_dict\n",
    "class_function_dict = get_class_functions(class_dict)"
   ],
   "metadata": {
    "collapsed": false,
    "ExecuteTime": {
     "end_time": "2024-05-01T10:34:27.339756Z",
     "start_time": "2024-05-01T10:34:27.336933Z"
    }
   },
   "id": "9975b54ff685d681"
  },
  {
   "cell_type": "code",
   "execution_count": 56,
   "outputs": [
    {
     "name": "stdout",
     "output_type": "stream",
     "text": [
      "self.list.append\n"
     ]
    }
   ],
   "source": [
    "source = open(\"crawl/packages/calculator-0.0.1/calculator/list_functions.py\", \"r\").read()\n",
    "tree = ast.parse(source)\n",
    "\n",
    "for node in ast.walk(tree.body[2].body[1]):\n",
    "    if type(node) == Call:\n",
    "        trace_node = node.func\n",
    "        function_trace = trace_node.attr\n",
    "        while True:\n",
    "            try:\n",
    "                trace_node = trace_node.value\n",
    "                function_trace = \"{}.\".format(trace_node.attr) + function_trace\n",
    "            except:\n",
    "                function_trace = \"{}.\".format(trace_node.id) + function_trace\n",
    "                break\n",
    "        print(function_trace)"
   ],
   "metadata": {
    "collapsed": false,
    "ExecuteTime": {
     "end_time": "2024-05-01T12:38:11.650014Z",
     "start_time": "2024-05-01T12:38:11.647572Z"
    }
   },
   "id": "e45e187c1a300d66"
  },
  {
   "cell_type": "code",
   "execution_count": 63,
   "outputs": [
    {
     "name": "stdout",
     "output_type": "stream",
     "text": [
      "add\n"
     ]
    }
   ],
   "source": [
    "import builtins\n",
    "\n",
    "source = open(\"crawl/packages/calculator-0.0.1/calculator/base_functions.py\", \"r\").read()\n",
    "tree = ast.parse(source)\n",
    "\n",
    "for node in ast.walk(tree.body[2]):\n",
    "    if type(node) == Call:\n",
    "        trace_node = node.func\n",
    "        if type(trace_node) == Attribute:\n",
    "            function_trace = trace_node.attr\n",
    "            while True:\n",
    "                try:\n",
    "                    trace_node = trace_node.value\n",
    "                    function_trace = \"{}.\".format(trace_node.attr) + function_trace\n",
    "                except:\n",
    "                    function_trace = \"{}.\".format(trace_node.id) + function_trace\n",
    "                    break\n",
    "            print(function_trace)\n",
    "        else:\n",
    "            if trace_node.id not in dir(builtins):\n",
    "                print(trace_node.id)"
   ],
   "metadata": {
    "collapsed": false,
    "ExecuteTime": {
     "end_time": "2024-05-01T12:49:51.788738Z",
     "start_time": "2024-05-01T12:49:51.783139Z"
    }
   },
   "id": "836da9d7e3fb0075"
  },
  {
   "cell_type": "code",
   "execution_count": null,
   "outputs": [],
   "source": [],
   "metadata": {
    "collapsed": false
   },
   "id": "312bbdb11fb7ab4d"
  }
 ],
 "metadata": {
  "kernelspec": {
   "display_name": "Python 3",
   "language": "python",
   "name": "python3"
  },
  "language_info": {
   "codemirror_mode": {
    "name": "ipython",
    "version": 2
   },
   "file_extension": ".py",
   "mimetype": "text/x-python",
   "name": "python",
   "nbconvert_exporter": "python",
   "pygments_lexer": "ipython2",
   "version": "2.7.6"
  }
 },
 "nbformat": 4,
 "nbformat_minor": 5
}
