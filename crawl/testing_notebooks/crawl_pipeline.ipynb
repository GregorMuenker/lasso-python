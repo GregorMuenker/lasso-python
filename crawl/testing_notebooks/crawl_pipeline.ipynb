{
 "cells": [
  {
   "metadata": {
    "ExecuteTime": {
     "end_time": "2024-07-18T15:49:31.480740Z",
     "start_time": "2024-07-18T15:49:31.111098Z"
    }
   },
   "cell_type": "code",
   "source": [
    "import json\n",
    "\n",
    "from sshtunnel import SSHTunnelForwarder\n",
    "import os\n",
    "import dotenv\n",
    "\n",
    "dotenv.load_dotenv()\n",
    "\n",
    "server = SSHTunnelForwarder(\n",
    "        os.environ[\"SERVER_ADDRESS\"],\n",
    "        ssh_username=os.environ[\"SERVER_USER\"],\n",
    "        ssh_password=os.environ[\"SERVER_PASSWORD\"],\n",
    "        remote_bind_address=('127.0.0.1', 8983),\n",
    "        local_bind_address=('127.0.0.1', 8983),\n",
    "    )\n",
    "    \n",
    "server.start()"
   ],
   "id": "d884ad128556db5b",
   "outputs": [
    {
     "name": "stderr",
     "output_type": "stream",
     "text": [
      "2024-07-18 17:49:31,158| ERROR   | Password is required for key /Users/maxlautenbach/.ssh/id_rsa\n"
     ]
    }
   ],
   "execution_count": 1
  },
  {
   "metadata": {
    "ExecuteTime": {
     "end_time": "2024-07-28T13:22:27.205029Z",
     "start_time": "2024-07-28T13:22:27.194025Z"
    }
   },
   "cell_type": "code",
   "source": [
    "import pysolr\n",
    "\n",
    "def upload_index(index):\n",
    "    solr_url = \"http://localhost:8983/solr/lasso_quickstart\"\n",
    "    solr = pysolr.Solr(solr_url, always_commit=True)\n",
    "    solr.add(index)"
   ],
   "id": "479fb2ee76dfe097",
   "outputs": [],
   "execution_count": 6
  },
  {
   "metadata": {
    "ExecuteTime": {
     "end_time": "2024-07-19T08:10:39.407557Z",
     "start_time": "2024-07-19T08:10:39.403697Z"
    }
   },
   "cell_type": "code",
   "source": [
    "from crawl import install, run, splitting\n",
    "\n",
    "\n",
    "def index_package(name):\n",
    "    #install.install(name)\n",
    "    folders = run.move(name)\n",
    "    index = splitting.get_module_index(name)\n",
    "    run.remove(folders)\n",
    "    return index\n",
    "    \n",
    "#index = index_package(\"numpy\")"
   ],
   "id": "62cdae8c19c3ab0d",
   "outputs": [],
   "execution_count": 11
  },
  {
   "metadata": {
    "ExecuteTime": {
     "end_time": "2024-07-28T13:22:28.874537Z",
     "start_time": "2024-07-28T13:22:28.871612Z"
    }
   },
   "cell_type": "code",
   "source": [
    "solr_url = \"http://localhost:8983/solr/lasso_quickstart\"\n",
    "solr = pysolr.Solr(solr_url, always_commit=True)"
   ],
   "id": "314301c4ad7ec234",
   "outputs": [],
   "execution_count": 7
  },
  {
   "metadata": {
    "ExecuteTime": {
     "end_time": "2024-07-28T13:22:11.340608Z",
     "start_time": "2024-07-28T13:22:11.278927Z"
    }
   },
   "cell_type": "code",
   "source": [
    "import requests\n",
    "\n",
    "#res = requests.post('http://localhost:8983/solr/lasso_quickstart/update/json/docs', json=index)\n",
    "#res.json()"
   ],
   "id": "bcf62d079bf55092",
   "outputs": [
    {
     "name": "stderr",
     "output_type": "stream",
     "text": [
      "/Users/maxlautenbach/Documents/GitHub/lasso-python/venv/lib/python3.9/site-packages/urllib3/__init__.py:35: NotOpenSSLWarning: urllib3 v2 only supports OpenSSL 1.1.1+, currently the 'ssl' module is compiled with 'LibreSSL 2.8.3'. See: https://github.com/urllib3/urllib3/issues/3020\n",
      "  warnings.warn(\n"
     ]
    }
   ],
   "execution_count": 2
  },
  {
   "metadata": {
    "ExecuteTime": {
     "end_time": "2024-07-28T13:22:11.721384Z",
     "start_time": "2024-07-28T13:22:11.472362Z"
    }
   },
   "cell_type": "code",
   "source": [
    "res = requests.post('http://localhost:8983/solr/lasso_quickstart/update?commit=true', json={ \"delete\": {\"query\":\"*:*\"} })\n",
    "res.json()"
   ],
   "id": "3969fb4f695aa378",
   "outputs": [
    {
     "data": {
      "text/plain": [
       "{'responseHeader': {'status': 0, 'QTime': 92}}"
      ]
     },
     "execution_count": 3,
     "metadata": {},
     "output_type": "execute_result"
    }
   ],
   "execution_count": 3
  },
  {
   "metadata": {
    "ExecuteTime": {
     "end_time": "2024-07-19T10:38:27.330597Z",
     "start_time": "2024-07-19T10:38:27.248868Z"
    }
   },
   "cell_type": "code",
   "source": [
    "res = solr.search(\"name:mean AND arguments.name:('a' AND 'axis')\", rows=3000)\n",
    "res.docs"
   ],
   "id": "f6bb0312886cf4bc",
   "outputs": [
    {
     "data": {
      "text/plain": [
       "[{'module': ['numpy._core.fromnumeric'],\n",
       "  'name': ['mean'],\n",
       "  'dependend_class': ['None'],\n",
       "  'arguments.name': ['a', 'axis', 'dtype', 'out', 'keepdims', 'where'],\n",
       "  'arguments.datatype': ['Any', 'Any', 'Any', 'Any', 'Any', 'Any'],\n",
       "  'arguments.keyword_arg': [False, False, False, False, False, True],\n",
       "  'arguments.has_default_val': [False, True, True, True, True, True],\n",
       "  'arguments.default_val': ['NODEFAULT',\n",
       "   'None',\n",
       "   'None',\n",
       "   'None',\n",
       "   'np._NoValue',\n",
       "   'np._NoValue'],\n",
       "  'return_types': ['Any'],\n",
       "  'default_index': [1],\n",
       "  'count_positional_args': [5],\n",
       "  'count_positional_non_default_args': [1],\n",
       "  'count_kw_args': [1],\n",
       "  'id': '2cc55f9657e51a97efa01305dc3119c0',\n",
       "  '_version_': 1805003408362438656}]"
      ]
     },
     "execution_count": 65,
     "metadata": {},
     "output_type": "execute_result"
    }
   ],
   "execution_count": 65
  },
  {
   "metadata": {
    "ExecuteTime": {
     "end_time": "2024-07-28T13:22:31.013793Z",
     "start_time": "2024-07-28T13:22:30.966565Z"
    }
   },
   "cell_type": "code",
   "source": [
    "res = solr.search(\"module:numpy.matrixlib.defmatrix\", rows=3000)\n",
    "res"
   ],
   "id": "75e9b1e1c3f5312b",
   "outputs": [
    {
     "data": {
      "text/plain": [
       "<pysolr.Results at 0x110d4cd90>"
      ]
     },
     "execution_count": 8,
     "metadata": {},
     "output_type": "execute_result"
    }
   ],
   "execution_count": 8
  },
  {
   "metadata": {
    "ExecuteTime": {
     "end_time": "2024-07-19T10:40:52.313434Z",
     "start_time": "2024-07-19T10:40:52.310534Z"
    }
   },
   "cell_type": "code",
   "source": [
    "with open(\"test_query.json\", \"w\") as file:\n",
    "    file.write(json.dumps(res.docs))"
   ],
   "id": "45ea67768c455536",
   "outputs": [],
   "execution_count": 67
  },
  {
   "metadata": {},
   "cell_type": "code",
   "outputs": [],
   "execution_count": null,
   "source": "",
   "id": "f07ed104d334a910"
  }
 ],
 "metadata": {
  "kernelspec": {
   "display_name": "Python 3",
   "language": "python",
   "name": "python3"
  },
  "language_info": {
   "codemirror_mode": {
    "name": "ipython",
    "version": 2
   },
   "file_extension": ".py",
   "mimetype": "text/x-python",
   "name": "python",
   "nbconvert_exporter": "python",
   "pygments_lexer": "ipython2",
   "version": "2.7.6"
  }
 },
 "nbformat": 4,
 "nbformat_minor": 5
}
