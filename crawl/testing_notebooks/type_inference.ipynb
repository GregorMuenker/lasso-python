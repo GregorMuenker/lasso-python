{
 "cells": [
  {
   "cell_type": "code",
   "id": "initial_id",
   "metadata": {
    "collapsed": true,
    "ExecuteTime": {
     "end_time": "2024-08-03T12:17:11.942947Z",
     "start_time": "2024-08-03T12:17:11.930242Z"
    }
   },
   "source": [
    "from crawl.run import move_active, remove_active\n",
    "from crawl.install import installHandler\n",
    "\n",
    "installHandler = installHandler()\n",
    "installHandler.install(\"urllib3\")\n",
    "move_active(\"urllib3-2.2.2\")"
   ],
   "outputs": [
    {
     "name": "stdout",
     "output_type": "stream",
     "text": [
      "urllib3 already installed!\n",
      "Moving package urllib3-2.2.2 and depencies\n"
     ]
    }
   ],
   "execution_count": 16
  },
  {
   "metadata": {
    "ExecuteTime": {
     "end_time": "2024-08-03T12:32:39.526728Z",
     "start_time": "2024-08-03T12:32:38.371478Z"
    }
   },
   "cell_type": "code",
   "source": [
    "import os\n",
    "import importlib\n",
    "\n",
    "package = importlib.import_module(\"numpy\")\n",
    "module = importlib.import_module(\"numpy.core.fromnumeric\")\n",
    "\n",
    "def infer_datatypes_module(package_path, module_path):\n",
    "    os.system(f\"hityper infer -s {module_path} -d ../temp -p {package_path}\")\n",
    "    \n",
    "infer_datatypes_module(package.__file__.replace('/__init__.py',''), module.__file__)"
   ],
   "id": "ff0cbfbcb81dcbc",
   "outputs": [
    {
     "name": "stderr",
     "output_type": "stream",
     "text": [
      "/Users/maxlautenbach/Documents/GitHub/lasso-python/venv/lib/python3.9/site-packages/urllib3/__init__.py:35: NotOpenSSLWarning: urllib3 v2 only supports OpenSSL 1.1.1+, currently the 'ssl' module is compiled with 'LibreSSL 2.8.3'. See: https://github.com/urllib3/urllib3/issues/3020\n",
      "  warnings.warn(\n",
      "None of PyTorch, TensorFlow >= 2.0, or Flax have been found. Models won't be available and only tokenizers, configuration and file/data utilities can be used.\n"
     ]
    }
   ],
   "execution_count": 11
  },
  {
   "metadata": {
    "ExecuteTime": {
     "end_time": "2024-08-03T13:01:50.296829Z",
     "start_time": "2024-08-03T13:01:50.291206Z"
    }
   },
   "cell_type": "code",
   "source": [
    "import json\n",
    "\n",
    "def get_inferred_datatypes_functions(module_path, function_name, dependent_class):\n",
    "    if dependent_class is None:\n",
    "        dependent_class = \"global\"\n",
    "    inferred_datatypes_module = json.load(open(f\"../temp/{module_path.replace('/','_').replace('.py','_INFERREDTYPES.json')}\", \"r\"))\n",
    "    inferred_datatypes_function = inferred_datatypes_module[f\"{function_name}@{dependent_class}\"]\n",
    "    inferred_datatypes_function_dict = {x[\"name\"]:x[\"type\"] for x in inferred_datatypes_function}\n",
    "    inferred_datatypes_function_dict[\"return\"] = inferred_datatypes_function_dict.pop(function_name)\n",
    "    return inferred_datatypes_function_dict"
   ],
   "id": "ada18a6093cf4db7",
   "outputs": [],
   "execution_count": 15
  },
  {
   "metadata": {
    "ExecuteTime": {
     "end_time": "2024-08-03T13:01:50.692128Z",
     "start_time": "2024-08-03T13:01:50.687556Z"
    }
   },
   "cell_type": "code",
   "source": "get_inferred_datatypes_functions(importlib.import_module(\"urllib3.connection\").__file__, \"__init__\", \"HTTPConnection\")",
   "id": "90fd7008e5b92624",
   "outputs": [
    {
     "data": {
      "text/plain": [
       "{'host': [],\n",
       " 'port': ['None'],\n",
       " 'timeout': [],\n",
       " 'source_address': ['None'],\n",
       " 'blocksize': ['int'],\n",
       " 'socket_options': [],\n",
       " 'proxy': ['None'],\n",
       " 'proxy_config': ['None'],\n",
       " '_has_connected_to_proxy': ['bool'],\n",
       " '_response_options': ['None'],\n",
       " '_tunnel_host': ['None'],\n",
       " '_tunnel_port': ['None'],\n",
       " '_tunnel_scheme': ['None'],\n",
       " 'return': ['None']}"
      ]
     },
     "execution_count": 16,
     "metadata": {},
     "output_type": "execute_result"
    }
   ],
   "execution_count": 16
  },
  {
   "metadata": {},
   "cell_type": "code",
   "outputs": [],
   "execution_count": null,
   "source": [
    "temp_folder = \"../temp\"\n",
    "\n",
    "def clear_type_inferences():\n",
    "    global temp_folder\n",
    "    for x in [x for x in os.listdir(temp_folder) if \"INFERREDTYPES\" in x]:\n",
    "        os.remove(os.path.join(temp_folder, x))"
   ],
   "id": "59320b4f709071db"
  },
  {
   "metadata": {
    "ExecuteTime": {
     "end_time": "2024-08-03T12:19:50.554112Z",
     "start_time": "2024-08-03T12:19:50.547712Z"
    }
   },
   "cell_type": "code",
   "source": "remove_active()",
   "id": "e6adaa2950cca29e",
   "outputs": [
    {
     "name": "stdout",
     "output_type": "stream",
     "text": [
      "Removing active packages\n"
     ]
    }
   ],
   "execution_count": 20
  },
  {
   "metadata": {
    "ExecuteTime": {
     "end_time": "2024-08-03T13:23:07.920282Z",
     "start_time": "2024-08-03T13:22:41.021712Z"
    }
   },
   "cell_type": "code",
   "source": "%pip install tensorflow",
   "id": "48f0cfcc67b2a721",
   "outputs": [
    {
     "name": "stdout",
     "output_type": "stream",
     "text": [
      "Collecting tensorflow\r\n",
      "  Obtaining dependency information for tensorflow from https://files.pythonhosted.org/packages/42/92/12efc318ccb5be11813ee5ec465650667935ae543d8a498eb7ac52a9c847/tensorflow-2.17.0-cp39-cp39-macosx_12_0_arm64.whl.metadata\r\n",
      "  Downloading tensorflow-2.17.0-cp39-cp39-macosx_12_0_arm64.whl.metadata (4.1 kB)\r\n",
      "Collecting absl-py>=1.0.0 (from tensorflow)\r\n",
      "  Obtaining dependency information for absl-py>=1.0.0 from https://files.pythonhosted.org/packages/a2/ad/e0d3c824784ff121c03cc031f944bc7e139a8f1870ffd2845cc2dd76f6c4/absl_py-2.1.0-py3-none-any.whl.metadata\r\n",
      "  Using cached absl_py-2.1.0-py3-none-any.whl.metadata (2.3 kB)\r\n",
      "Collecting astunparse>=1.6.0 (from tensorflow)\r\n",
      "  Obtaining dependency information for astunparse>=1.6.0 from https://files.pythonhosted.org/packages/2b/03/13dde6512ad7b4557eb792fbcf0c653af6076b81e5941d36ec61f7ce6028/astunparse-1.6.3-py2.py3-none-any.whl.metadata\r\n",
      "  Using cached astunparse-1.6.3-py2.py3-none-any.whl.metadata (4.4 kB)\r\n",
      "Collecting flatbuffers>=24.3.25 (from tensorflow)\r\n",
      "  Obtaining dependency information for flatbuffers>=24.3.25 from https://files.pythonhosted.org/packages/41/f0/7e988a019bc54b2dbd0ad4182ef2d53488bb02e58694cd79d61369e85900/flatbuffers-24.3.25-py2.py3-none-any.whl.metadata\r\n",
      "  Using cached flatbuffers-24.3.25-py2.py3-none-any.whl.metadata (850 bytes)\r\n",
      "Collecting gast!=0.5.0,!=0.5.1,!=0.5.2,>=0.2.1 (from tensorflow)\r\n",
      "  Obtaining dependency information for gast!=0.5.0,!=0.5.1,!=0.5.2,>=0.2.1 from https://files.pythonhosted.org/packages/a3/61/8001b38461d751cd1a0c3a6ae84346796a5758123f3ed97a1b121dfbf4f3/gast-0.6.0-py3-none-any.whl.metadata\r\n",
      "  Downloading gast-0.6.0-py3-none-any.whl.metadata (1.3 kB)\r\n",
      "Collecting google-pasta>=0.1.1 (from tensorflow)\r\n",
      "  Obtaining dependency information for google-pasta>=0.1.1 from https://files.pythonhosted.org/packages/a3/de/c648ef6835192e6e2cc03f40b19eeda4382c49b5bafb43d88b931c4c74ac/google_pasta-0.2.0-py3-none-any.whl.metadata\r\n",
      "  Using cached google_pasta-0.2.0-py3-none-any.whl.metadata (814 bytes)\r\n",
      "Collecting h5py>=3.10.0 (from tensorflow)\r\n",
      "  Obtaining dependency information for h5py>=3.10.0 from https://files.pythonhosted.org/packages/3c/fb/e213586de5ea56f1747a843e725c62eef350512be57452186996ba660d52/h5py-3.11.0-cp39-cp39-macosx_11_0_arm64.whl.metadata\r\n",
      "  Using cached h5py-3.11.0-cp39-cp39-macosx_11_0_arm64.whl.metadata (2.5 kB)\r\n",
      "Collecting libclang>=13.0.0 (from tensorflow)\r\n",
      "  Obtaining dependency information for libclang>=13.0.0 from https://files.pythonhosted.org/packages/4b/49/f5e3e7e1419872b69f6f5e82ba56e33955a74bd537d8a1f5f1eff2f3668a/libclang-18.1.1-1-py2.py3-none-macosx_11_0_arm64.whl.metadata\r\n",
      "  Downloading libclang-18.1.1-1-py2.py3-none-macosx_11_0_arm64.whl.metadata (5.2 kB)\r\n",
      "Collecting ml-dtypes<0.5.0,>=0.3.1 (from tensorflow)\r\n",
      "  Obtaining dependency information for ml-dtypes<0.5.0,>=0.3.1 from https://files.pythonhosted.org/packages/4f/df/455704233905ce4fab09b2a80d81ab61d850d530b7ae68acb7f8ef99d349/ml_dtypes-0.4.0-cp39-cp39-macosx_10_9_universal2.whl.metadata\r\n",
      "  Using cached ml_dtypes-0.4.0-cp39-cp39-macosx_10_9_universal2.whl.metadata (20 kB)\r\n",
      "Collecting opt-einsum>=2.3.2 (from tensorflow)\r\n",
      "  Obtaining dependency information for opt-einsum>=2.3.2 from https://files.pythonhosted.org/packages/bc/19/404708a7e54ad2798907210462fd950c3442ea51acc8790f3da48d2bee8b/opt_einsum-3.3.0-py3-none-any.whl.metadata\r\n",
      "  Using cached opt_einsum-3.3.0-py3-none-any.whl.metadata (6.5 kB)\r\n",
      "Requirement already satisfied: packaging in /Users/maxlautenbach/Documents/GitHub/lasso-python/venv/lib/python3.9/site-packages (from tensorflow) (24.1)\r\n",
      "Collecting protobuf!=4.21.0,!=4.21.1,!=4.21.2,!=4.21.3,!=4.21.4,!=4.21.5,<5.0.0dev,>=3.20.3 (from tensorflow)\r\n",
      "  Obtaining dependency information for protobuf!=4.21.0,!=4.21.1,!=4.21.2,!=4.21.3,!=4.21.4,!=4.21.5,<5.0.0dev,>=3.20.3 from https://files.pythonhosted.org/packages/34/ca/bf85ffe3dd16f1f2aaa6c006da8118800209af3da160ae4d4f47500eabd9/protobuf-4.25.4-cp37-abi3-macosx_10_9_universal2.whl.metadata\r\n",
      "  Downloading protobuf-4.25.4-cp37-abi3-macosx_10_9_universal2.whl.metadata (541 bytes)\r\n",
      "Requirement already satisfied: requests<3,>=2.21.0 in /Users/maxlautenbach/Documents/GitHub/lasso-python/venv/lib/python3.9/site-packages (from tensorflow) (2.32.3)\r\n",
      "Requirement already satisfied: setuptools in /Users/maxlautenbach/Documents/GitHub/lasso-python/venv/lib/python3.9/site-packages (from tensorflow) (68.2.0)\r\n",
      "Requirement already satisfied: six>=1.12.0 in /Users/maxlautenbach/Documents/GitHub/lasso-python/venv/lib/python3.9/site-packages (from tensorflow) (1.16.0)\r\n",
      "Collecting termcolor>=1.1.0 (from tensorflow)\r\n",
      "  Obtaining dependency information for termcolor>=1.1.0 from https://files.pythonhosted.org/packages/d9/5f/8c716e47b3a50cbd7c146f45881e11d9414def768b7cd9c5e6650ec2a80a/termcolor-2.4.0-py3-none-any.whl.metadata\r\n",
      "  Using cached termcolor-2.4.0-py3-none-any.whl.metadata (6.1 kB)\r\n",
      "Requirement already satisfied: typing-extensions>=3.6.6 in /Users/maxlautenbach/Documents/GitHub/lasso-python/venv/lib/python3.9/site-packages (from tensorflow) (4.12.2)\r\n",
      "Requirement already satisfied: wrapt>=1.11.0 in /Users/maxlautenbach/Documents/GitHub/lasso-python/venv/lib/python3.9/site-packages (from tensorflow) (1.16.0)\r\n",
      "Collecting grpcio<2.0,>=1.24.3 (from tensorflow)\r\n",
      "  Obtaining dependency information for grpcio<2.0,>=1.24.3 from https://files.pythonhosted.org/packages/26/15/65a1612e87ed05545c19fe6d919a1ee5bef07a35f4d959f66d805379e8bc/grpcio-1.65.4-cp39-cp39-macosx_10_9_universal2.whl.metadata\r\n",
      "  Downloading grpcio-1.65.4-cp39-cp39-macosx_10_9_universal2.whl.metadata (3.3 kB)\r\n",
      "Collecting tensorboard<2.18,>=2.17 (from tensorflow)\r\n",
      "  Obtaining dependency information for tensorboard<2.18,>=2.17 from https://files.pythonhosted.org/packages/0a/32/2e8545fb0592f33e3aca5951e8b01008b76d61b440658cbdc37b4eaebf0b/tensorboard-2.17.0-py3-none-any.whl.metadata\r\n",
      "  Downloading tensorboard-2.17.0-py3-none-any.whl.metadata (1.6 kB)\r\n",
      "Collecting keras>=3.2.0 (from tensorflow)\r\n",
      "  Obtaining dependency information for keras>=3.2.0 from https://files.pythonhosted.org/packages/46/43/03fa53f027e78af4a6bee3564d05cb34d9f5b924dc69c85f8ef5cb950ff1/keras-3.4.1-py3-none-any.whl.metadata\r\n",
      "  Downloading keras-3.4.1-py3-none-any.whl.metadata (5.8 kB)\r\n",
      "Collecting tensorflow-io-gcs-filesystem>=0.23.1 (from tensorflow)\r\n",
      "  Obtaining dependency information for tensorflow-io-gcs-filesystem>=0.23.1 from https://files.pythonhosted.org/packages/7a/f9/ce6a0efde262a79361f0d67392fdf0d0406781a1ee4fc48d0d8b0553b311/tensorflow_io_gcs_filesystem-0.37.1-cp39-cp39-macosx_12_0_arm64.whl.metadata\r\n",
      "  Downloading tensorflow_io_gcs_filesystem-0.37.1-cp39-cp39-macosx_12_0_arm64.whl.metadata (14 kB)\r\n",
      "Requirement already satisfied: numpy<2.0.0,>=1.23.5 in /Users/maxlautenbach/Documents/GitHub/lasso-python/venv/lib/python3.9/site-packages (from tensorflow) (1.26.4)\r\n",
      "Requirement already satisfied: wheel<1.0,>=0.23.0 in /Users/maxlautenbach/Documents/GitHub/lasso-python/venv/lib/python3.9/site-packages (from astunparse>=1.6.0->tensorflow) (0.41.2)\r\n",
      "Requirement already satisfied: rich in /Users/maxlautenbach/Documents/GitHub/lasso-python/venv/lib/python3.9/site-packages (from keras>=3.2.0->tensorflow) (13.7.1)\r\n",
      "Collecting namex (from keras>=3.2.0->tensorflow)\r\n",
      "  Obtaining dependency information for namex from https://files.pythonhosted.org/packages/73/59/7854fbfb59f8ae35483ce93493708be5942ebb6328cd85b3a609df629736/namex-0.0.8-py3-none-any.whl.metadata\r\n",
      "  Using cached namex-0.0.8-py3-none-any.whl.metadata (246 bytes)\r\n",
      "Collecting optree (from keras>=3.2.0->tensorflow)\r\n",
      "  Obtaining dependency information for optree from https://files.pythonhosted.org/packages/6c/1d/a7b6b66e38e99e7a715dbb31d643b5ea9a6d80614f36b4080acf7e97b5b3/optree-0.12.1-cp39-cp39-macosx_11_0_arm64.whl.metadata\r\n",
      "  Downloading optree-0.12.1-cp39-cp39-macosx_11_0_arm64.whl.metadata (47 kB)\r\n",
      "\u001B[2K     \u001B[90m━━━━━━━━━━━━━━━━━━━━━━━━━━━━━━━━━━━━━━━━\u001B[0m \u001B[32m47.8/47.8 kB\u001B[0m \u001B[31m2.6 MB/s\u001B[0m eta \u001B[36m0:00:00\u001B[0m\r\n",
      "\u001B[?25hRequirement already satisfied: charset-normalizer<4,>=2 in /Users/maxlautenbach/Documents/GitHub/lasso-python/venv/lib/python3.9/site-packages (from requests<3,>=2.21.0->tensorflow) (3.3.2)\r\n",
      "Requirement already satisfied: idna<4,>=2.5 in /Users/maxlautenbach/Documents/GitHub/lasso-python/venv/lib/python3.9/site-packages (from requests<3,>=2.21.0->tensorflow) (3.7)\r\n",
      "Requirement already satisfied: urllib3<3,>=1.21.1 in /Users/maxlautenbach/Documents/GitHub/lasso-python/venv/lib/python3.9/site-packages (from requests<3,>=2.21.0->tensorflow) (2.2.2)\r\n",
      "Requirement already satisfied: certifi>=2017.4.17 in /Users/maxlautenbach/Documents/GitHub/lasso-python/venv/lib/python3.9/site-packages (from requests<3,>=2.21.0->tensorflow) (2024.6.2)\r\n",
      "Collecting markdown>=2.6.8 (from tensorboard<2.18,>=2.17->tensorflow)\r\n",
      "  Obtaining dependency information for markdown>=2.6.8 from https://files.pythonhosted.org/packages/fc/b3/0c0c994fe49cd661084f8d5dc06562af53818cc0abefaca35bdc894577c3/Markdown-3.6-py3-none-any.whl.metadata\r\n",
      "  Using cached Markdown-3.6-py3-none-any.whl.metadata (7.0 kB)\r\n",
      "Collecting tensorboard-data-server<0.8.0,>=0.7.0 (from tensorboard<2.18,>=2.17->tensorflow)\r\n",
      "  Obtaining dependency information for tensorboard-data-server<0.8.0,>=0.7.0 from https://files.pythonhosted.org/packages/7a/13/e503968fefabd4c6b2650af21e110aa8466fe21432cd7c43a84577a89438/tensorboard_data_server-0.7.2-py3-none-any.whl.metadata\r\n",
      "  Using cached tensorboard_data_server-0.7.2-py3-none-any.whl.metadata (1.1 kB)\r\n",
      "Collecting werkzeug>=1.0.1 (from tensorboard<2.18,>=2.17->tensorflow)\r\n",
      "  Obtaining dependency information for werkzeug>=1.0.1 from https://files.pythonhosted.org/packages/9d/6e/e792999e816d19d7fcbfa94c730936750036d65656a76a5a688b57a656c4/werkzeug-3.0.3-py3-none-any.whl.metadata\r\n",
      "  Using cached werkzeug-3.0.3-py3-none-any.whl.metadata (3.7 kB)\r\n",
      "Requirement already satisfied: importlib-metadata>=4.4 in /Users/maxlautenbach/Documents/GitHub/lasso-python/venv/lib/python3.9/site-packages (from markdown>=2.6.8->tensorboard<2.18,>=2.17->tensorflow) (7.1.0)\r\n",
      "Requirement already satisfied: MarkupSafe>=2.1.1 in /Users/maxlautenbach/Documents/GitHub/lasso-python/venv/lib/python3.9/site-packages (from werkzeug>=1.0.1->tensorboard<2.18,>=2.17->tensorflow) (2.1.5)\r\n",
      "Requirement already satisfied: markdown-it-py>=2.2.0 in /Users/maxlautenbach/Documents/GitHub/lasso-python/venv/lib/python3.9/site-packages (from rich->keras>=3.2.0->tensorflow) (3.0.0)\r\n",
      "Requirement already satisfied: pygments<3.0.0,>=2.13.0 in /Users/maxlautenbach/Documents/GitHub/lasso-python/venv/lib/python3.9/site-packages (from rich->keras>=3.2.0->tensorflow) (2.18.0)\r\n",
      "Requirement already satisfied: zipp>=0.5 in /Users/maxlautenbach/Documents/GitHub/lasso-python/venv/lib/python3.9/site-packages (from importlib-metadata>=4.4->markdown>=2.6.8->tensorboard<2.18,>=2.17->tensorflow) (3.19.2)\r\n",
      "Requirement already satisfied: mdurl~=0.1 in /Users/maxlautenbach/Documents/GitHub/lasso-python/venv/lib/python3.9/site-packages (from markdown-it-py>=2.2.0->rich->keras>=3.2.0->tensorflow) (0.1.2)\r\n",
      "Downloading tensorflow-2.17.0-cp39-cp39-macosx_12_0_arm64.whl (236.1 MB)\r\n",
      "\u001B[2K   \u001B[90m━━━━━━━━━━━━━━━━━━━━━━━━━━━━━━━━━━━━━━━━\u001B[0m \u001B[32m236.1/236.1 MB\u001B[0m \u001B[31m10.6 MB/s\u001B[0m eta \u001B[36m0:00:00\u001B[0m00:01\u001B[0m00:01\u001B[0m\r\n",
      "\u001B[?25hUsing cached absl_py-2.1.0-py3-none-any.whl (133 kB)\r\n",
      "Using cached astunparse-1.6.3-py2.py3-none-any.whl (12 kB)\r\n",
      "Using cached flatbuffers-24.3.25-py2.py3-none-any.whl (26 kB)\r\n",
      "Downloading gast-0.6.0-py3-none-any.whl (21 kB)\r\n",
      "Using cached google_pasta-0.2.0-py3-none-any.whl (57 kB)\r\n",
      "Downloading grpcio-1.65.4-cp39-cp39-macosx_10_9_universal2.whl (10.5 MB)\r\n",
      "\u001B[2K   \u001B[90m━━━━━━━━━━━━━━━━━━━━━━━━━━━━━━━━━━━━━━━━\u001B[0m \u001B[32m10.5/10.5 MB\u001B[0m \u001B[31m19.7 MB/s\u001B[0m eta \u001B[36m0:00:00\u001B[0m00:01\u001B[0m0:01\u001B[0m\r\n",
      "\u001B[?25hUsing cached h5py-3.11.0-cp39-cp39-macosx_11_0_arm64.whl (3.0 MB)\r\n",
      "Downloading keras-3.4.1-py3-none-any.whl (1.1 MB)\r\n",
      "\u001B[2K   \u001B[90m━━━━━━━━━━━━━━━━━━━━━━━━━━━━━━━━━━━━━━━━\u001B[0m \u001B[32m1.1/1.1 MB\u001B[0m \u001B[31m19.5 MB/s\u001B[0m eta \u001B[36m0:00:00\u001B[0ma \u001B[36m0:00:01\u001B[0m\r\n",
      "\u001B[?25hDownloading libclang-18.1.1-1-py2.py3-none-macosx_11_0_arm64.whl (25.8 MB)\r\n",
      "\u001B[2K   \u001B[90m━━━━━━━━━━━━━━━━━━━━━━━━━━━━━━━━━━━━━━━━\u001B[0m \u001B[32m25.8/25.8 MB\u001B[0m \u001B[31m18.3 MB/s\u001B[0m eta \u001B[36m0:00:00\u001B[0m00:01\u001B[0m00:01\u001B[0m\r\n",
      "\u001B[?25hUsing cached ml_dtypes-0.4.0-cp39-cp39-macosx_10_9_universal2.whl (390 kB)\r\n",
      "Using cached opt_einsum-3.3.0-py3-none-any.whl (65 kB)\r\n",
      "Downloading protobuf-4.25.4-cp37-abi3-macosx_10_9_universal2.whl (394 kB)\r\n",
      "\u001B[2K   \u001B[90m━━━━━━━━━━━━━━━━━━━━━━━━━━━━━━━━━━━━━━━━\u001B[0m \u001B[32m394.2/394.2 kB\u001B[0m \u001B[31m14.9 MB/s\u001B[0m eta \u001B[36m0:00:00\u001B[0m\r\n",
      "\u001B[?25hDownloading tensorboard-2.17.0-py3-none-any.whl (5.5 MB)\r\n",
      "\u001B[2K   \u001B[90m━━━━━━━━━━━━━━━━━━━━━━━━━━━━━━━━━━━━━━━━\u001B[0m \u001B[32m5.5/5.5 MB\u001B[0m \u001B[31m19.0 MB/s\u001B[0m eta \u001B[36m0:00:00\u001B[0m00:01\u001B[0m00:01\u001B[0m\r\n",
      "\u001B[?25hDownloading tensorflow_io_gcs_filesystem-0.37.1-cp39-cp39-macosx_12_0_arm64.whl (3.5 MB)\r\n",
      "\u001B[2K   \u001B[90m━━━━━━━━━━━━━━━━━━━━━━━━━━━━━━━━━━━━━━━━\u001B[0m \u001B[32m3.5/3.5 MB\u001B[0m \u001B[31m19.7 MB/s\u001B[0m eta \u001B[36m0:00:00\u001B[0ma \u001B[36m0:00:01\u001B[0m\r\n",
      "\u001B[?25hUsing cached termcolor-2.4.0-py3-none-any.whl (7.7 kB)\r\n",
      "Using cached Markdown-3.6-py3-none-any.whl (105 kB)\r\n",
      "Using cached tensorboard_data_server-0.7.2-py3-none-any.whl (2.4 kB)\r\n",
      "Using cached werkzeug-3.0.3-py3-none-any.whl (227 kB)\r\n",
      "Using cached namex-0.0.8-py3-none-any.whl (5.8 kB)\r\n",
      "Downloading optree-0.12.1-cp39-cp39-macosx_11_0_arm64.whl (282 kB)\r\n",
      "\u001B[2K   \u001B[90m━━━━━━━━━━━━━━━━━━━━━━━━━━━━━━━━━━━━━━━━\u001B[0m \u001B[32m282.5/282.5 kB\u001B[0m \u001B[31m14.7 MB/s\u001B[0m eta \u001B[36m0:00:00\u001B[0m\r\n",
      "\u001B[?25hInstalling collected packages: namex, libclang, flatbuffers, werkzeug, termcolor, tensorflow-io-gcs-filesystem, tensorboard-data-server, protobuf, optree, opt-einsum, ml-dtypes, h5py, grpcio, google-pasta, gast, astunparse, absl-py, markdown, tensorboard, keras, tensorflow\r\n",
      "Successfully installed absl-py-2.1.0 astunparse-1.6.3 flatbuffers-24.3.25 gast-0.6.0 google-pasta-0.2.0 grpcio-1.65.4 h5py-3.11.0 keras-3.4.1 libclang-18.1.1 markdown-3.6 ml-dtypes-0.4.0 namex-0.0.8 opt-einsum-3.3.0 optree-0.12.1 protobuf-4.25.4 tensorboard-2.17.0 tensorboard-data-server-0.7.2 tensorflow-2.17.0 tensorflow-io-gcs-filesystem-0.37.1 termcolor-2.4.0 werkzeug-3.0.3\r\n",
      "\r\n",
      "\u001B[1m[\u001B[0m\u001B[34;49mnotice\u001B[0m\u001B[1;39;49m]\u001B[0m\u001B[39;49m A new release of pip is available: \u001B[0m\u001B[31;49m23.2.1\u001B[0m\u001B[39;49m -> \u001B[0m\u001B[32;49m24.2\u001B[0m\r\n",
      "\u001B[1m[\u001B[0m\u001B[34;49mnotice\u001B[0m\u001B[1;39;49m]\u001B[0m\u001B[39;49m To update, run: \u001B[0m\u001B[32;49mpip install --upgrade pip\u001B[0m\r\n",
      "Note: you may need to restart the kernel to use updated packages.\n"
     ]
    }
   ],
   "execution_count": 22
  },
  {
   "metadata": {},
   "cell_type": "code",
   "outputs": [],
   "execution_count": null,
   "source": [
    "from crawl import type_inference\n",
    "\n",
    "type_inference.infer_datatypes_module()"
   ],
   "id": "bea545e51db5a5a8"
  },
  {
   "metadata": {
    "ExecuteTime": {
     "end_time": "2024-08-03T13:47:19.344300Z",
     "start_time": "2024-08-03T13:47:19.338406Z"
    }
   },
   "cell_type": "code",
   "source": "\"Def\".split(\"_\")",
   "id": "ae54d2e1ebc5f33f",
   "outputs": [
    {
     "data": {
      "text/plain": [
       "['Def']"
      ]
     },
     "execution_count": 1,
     "metadata": {},
     "output_type": "execute_result"
    }
   ],
   "execution_count": 1
  },
  {
   "metadata": {},
   "cell_type": "code",
   "outputs": [],
   "execution_count": null,
   "source": "",
   "id": "b78355a70f768416"
  }
 ],
 "metadata": {
  "kernelspec": {
   "display_name": "Python 3",
   "language": "python",
   "name": "python3"
  },
  "language_info": {
   "codemirror_mode": {
    "name": "ipython",
    "version": 2
   },
   "file_extension": ".py",
   "mimetype": "text/x-python",
   "name": "python",
   "nbconvert_exporter": "python",
   "pygments_lexer": "ipython2",
   "version": "2.7.6"
  }
 },
 "nbformat": 4,
 "nbformat_minor": 5
}
