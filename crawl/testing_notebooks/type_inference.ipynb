{
 "cells": [
  {
   "metadata": {
    "ExecuteTime": {
     "end_time": "2024-08-04T12:17:22.611541Z",
     "start_time": "2024-08-04T12:17:22.607296Z"
    }
   },
   "cell_type": "code",
   "source": [
    "import json\n",
    "import os\n",
    "\n",
    "inferred_datatypes_module = json.load(open(f\"../temp/active_calculator_01_calculator_main_INFERREDTYPES.json\", \"r\"))"
   ],
   "id": "b78355a70f768416",
   "outputs": [],
   "execution_count": 25
  },
  {
   "metadata": {
    "ExecuteTime": {
     "end_time": "2024-08-04T12:17:23.057Z",
     "start_time": "2024-08-04T12:17:23.054178Z"
    }
   },
   "cell_type": "code",
   "source": [
    "for function_identifier, variable_list in inferred_datatypes_module.items():\n",
    "    if function_identifier != \"global@global\":\n",
    "        inferred_datatypes_module[function_identifier] = {x[\"name\"]: x[\"type\"] for x in variable_list}\n",
    "        inferred_datatypes_module[function_identifier][\"return\"] = inferred_datatypes_module[function_identifier].pop(function_identifier.split(\"@\")[0])"
   ],
   "id": "bcaf3d555c9ceaf6",
   "outputs": [],
   "execution_count": 26
  },
  {
   "metadata": {
    "ExecuteTime": {
     "end_time": "2024-08-04T12:17:23.590372Z",
     "start_time": "2024-08-04T12:17:23.587273Z"
    }
   },
   "cell_type": "code",
   "source": "json.dump(inferred_datatypes_module, open(\"../temp/calculator_01_calculator_main_INFERREDTYPES.json\", \"w\"))",
   "id": "44ddb1df9ef87206",
   "outputs": [],
   "execution_count": 27
  },
  {
   "metadata": {
    "ExecuteTime": {
     "end_time": "2024-08-04T12:17:23.974651Z",
     "start_time": "2024-08-04T12:17:23.972589Z"
    }
   },
   "cell_type": "code",
   "source": "os.remove(\"../temp/active_calculator_01_calculator_main_INFERREDTYPES.json\")",
   "id": "d92c75c06913fe2c",
   "outputs": [],
   "execution_count": 28
  },
  {
   "metadata": {},
   "cell_type": "code",
   "outputs": [],
   "execution_count": null,
   "source": "",
   "id": "83254677f9439eee"
  }
 ],
 "metadata": {
  "kernelspec": {
   "display_name": "Python 3",
   "language": "python",
   "name": "python3"
  },
  "language_info": {
   "codemirror_mode": {
    "name": "ipython",
    "version": 2
   },
   "file_extension": ".py",
   "mimetype": "text/x-python",
   "name": "python",
   "nbconvert_exporter": "python",
   "pygments_lexer": "ipython2",
   "version": "2.7.6"
  }
 },
 "nbformat": 4,
 "nbformat_minor": 5
}
