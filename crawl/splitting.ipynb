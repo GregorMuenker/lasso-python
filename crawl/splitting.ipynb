{
 "cells": [
  {
   "cell_type": "code",
   "execution_count": 1,
   "id": "initial_id",
   "metadata": {
    "collapsed": true,
    "ExecuteTime": {
     "end_time": "2024-04-26T08:49:56.414360Z",
     "start_time": "2024-04-26T08:49:56.405316Z"
    }
   },
   "outputs": [
    {
     "name": "stdout",
     "output_type": "stream",
     "text": [
      "Hello, John!\n"
     ]
    }
   ],
   "source": [
    "def greet(name):\n",
    "    print(\"Hello, \" + name + \"!\")\n",
    "    \n",
    "greet(\"John\")"
   ]
  },
  {
   "cell_type": "code",
   "execution_count": 2,
   "outputs": [],
   "source": [
    "import ast\n",
    "\n",
    "f = open(\"test_package.py\", \"r\")\n",
    "\n",
    "code = f.read()\n",
    "\n",
    "tree = ast.parse(code)"
   ],
   "metadata": {
    "collapsed": false,
    "ExecuteTime": {
     "end_time": "2024-04-26T08:49:56.414875Z",
     "start_time": "2024-04-26T08:49:56.409397Z"
    }
   },
   "id": "93d197510297a3fa"
  },
  {
   "cell_type": "code",
   "execution_count": 3,
   "outputs": [],
   "source": [
    "f_np = open(\"packages/numpy-2.0.0rc1/numpy/_core/fromnumeric.py\", \"r\")\n",
    "\n",
    "code_np = f_np.read()\n",
    "\n",
    "tree_np = ast.parse(code_np)"
   ],
   "metadata": {
    "collapsed": false,
    "ExecuteTime": {
     "end_time": "2024-04-26T08:49:56.422467Z",
     "start_time": "2024-04-26T08:49:56.412617Z"
    }
   },
   "id": "4ffbf5b19b268562"
  },
  {
   "cell_type": "markdown",
   "source": [
    "As a single underscore in front of a function means, that it is meant to be private, those functions will not be included in the search index."
   ],
   "metadata": {
    "collapsed": false
   },
   "id": "89f3d1a7656f094c"
  },
  {
   "cell_type": "code",
   "execution_count": 4,
   "outputs": [
    {
     "name": "stdout",
     "output_type": "stream",
     "text": [
      "take\n",
      "reshape\n",
      "choose\n",
      "repeat\n",
      "put\n",
      "swapaxes\n",
      "transpose\n",
      "matrix_transpose\n",
      "partition\n",
      "argpartition\n",
      "sort\n",
      "argsort\n",
      "argmax\n",
      "argmin\n",
      "searchsorted\n",
      "resize\n",
      "squeeze\n",
      "diagonal\n",
      "trace\n",
      "ravel\n",
      "nonzero\n",
      "shape\n",
      "compress\n",
      "clip\n",
      "sum\n",
      "any\n",
      "all\n",
      "cumsum\n",
      "ptp\n",
      "max\n",
      "amax\n",
      "min\n",
      "amin\n",
      "prod\n",
      "cumprod\n",
      "ndim\n",
      "size\n",
      "round\n",
      "around\n",
      "mean\n",
      "std\n",
      "var\n"
     ]
    }
   ],
   "source": [
    "from _ast import *\n",
    "\n",
    "for element in tree_np.body:\n",
    "    if type(element) == FunctionDef and element.name[0] != \"_\":\n",
    "        print(element.name)"
   ],
   "metadata": {
    "collapsed": false,
    "ExecuteTime": {
     "end_time": "2024-04-26T08:49:56.424595Z",
     "start_time": "2024-04-26T08:49:56.422123Z"
    }
   },
   "id": "1e003372fed90fae"
  },
  {
   "cell_type": "code",
   "execution_count": 5,
   "outputs": [],
   "source": [
    "import inspect\n",
    "import importlib\n",
    "\n",
    "m = importlib.import_module(\"numpy\")\n"
   ],
   "metadata": {
    "collapsed": false,
    "ExecuteTime": {
     "end_time": "2024-04-26T08:49:57.127082Z",
     "start_time": "2024-04-26T08:49:56.423798Z"
    }
   },
   "id": "dfda250d25d85660"
  },
  {
   "cell_type": "code",
   "execution_count": 6,
   "outputs": [
    {
     "name": "stdout",
     "output_type": "stream",
     "text": [
      "Requirement already satisfied: numpy in /Users/maxlautenbach/Documents/GitHub/lasso-python/.venv/lib/python3.9/site-packages (1.26.4)\n"
     ]
    },
    {
     "name": "stderr",
     "output_type": "stream",
     "text": [
      "\n",
      "\u001B[1m[\u001B[0m\u001B[34;49mnotice\u001B[0m\u001B[1;39;49m]\u001B[0m\u001B[39;49m A new release of pip is available: \u001B[0m\u001B[31;49m23.2.1\u001B[0m\u001B[39;49m -> \u001B[0m\u001B[32;49m24.0\u001B[0m\n",
      "\u001B[1m[\u001B[0m\u001B[34;49mnotice\u001B[0m\u001B[1;39;49m]\u001B[0m\u001B[39;49m To update, run: \u001B[0m\u001B[32;49mpip install --upgrade pip\u001B[0m\n",
      "/Applications/Xcode.app/Contents/Developer/Library/Frameworks/Python3.framework/Versions/3.9/lib/python3.9/importlib/__init__.py:127: UserWarning: The numpy.array_api submodule is still experimental. See NEP 47.\n",
      "  return _bootstrap._gcd_import(name[level:], package, level)\n"
     ]
    },
    {
     "name": "stdout",
     "output_type": "stream",
     "text": [
      "I made it!\n"
     ]
    },
    {
     "ename": "RuntimeError",
     "evalue": "The new DType API is currently in an exploratory phase and should NOT be used for production code.  Expect modifications and crashes!  To experiment with the new API you must set `NUMPY_EXPERIMENTAL_DTYPE_API=1` as an environment variable.",
     "output_type": "error",
     "traceback": [
      "\u001B[0;31m---------------------------------------------------------------------------\u001B[0m",
      "\u001B[0;31mRuntimeError\u001B[0m                              Traceback (most recent call last)",
      "\u001B[0;31mRuntimeError\u001B[0m: The new DType API is currently in an exploratory phase and should NOT be used for production code.  Expect modifications and crashes!  To experiment with the new API you must set `NUMPY_EXPERIMENTAL_DTYPE_API=1` as an environment variable."
     ]
    },
    {
     "ename": "RuntimeError",
     "evalue": "The new DType API is currently in an exploratory phase and should NOT be used for production code.  Expect modifications and crashes!  To experiment with the new API you must set `NUMPY_EXPERIMENTAL_DTYPE_API=1` as an environment variable.",
     "output_type": "error",
     "traceback": [
      "\u001B[0;31m---------------------------------------------------------------------------\u001B[0m",
      "\u001B[0;31mRuntimeError\u001B[0m                              Traceback (most recent call last)",
      "\u001B[0;31mRuntimeError\u001B[0m: The new DType API is currently in an exploratory phase and should NOT be used for production code.  Expect modifications and crashes!  To experiment with the new API you must set `NUMPY_EXPERIMENTAL_DTYPE_API=1` as an environment variable."
     ]
    },
    {
     "ename": "RuntimeError",
     "evalue": "The new DType API is currently in an exploratory phase and should NOT be used for production code.  Expect modifications and crashes!  To experiment with the new API you must set `NUMPY_EXPERIMENTAL_DTYPE_API=1` as an environment variable.",
     "output_type": "error",
     "traceback": [
      "\u001B[0;31m---------------------------------------------------------------------------\u001B[0m",
      "\u001B[0;31mRuntimeError\u001B[0m                              Traceback (most recent call last)",
      "\u001B[0;31mRuntimeError\u001B[0m: The new DType API is currently in an exploratory phase and should NOT be used for production code.  Expect modifications and crashes!  To experiment with the new API you must set `NUMPY_EXPERIMENTAL_DTYPE_API=1` as an environment variable."
     ]
    },
    {
     "ename": "RuntimeError",
     "evalue": "The new DType API is currently in an exploratory phase and should NOT be used for production code.  Expect modifications and crashes!  To experiment with the new API you must set `NUMPY_EXPERIMENTAL_DTYPE_API=1` as an environment variable.",
     "output_type": "error",
     "traceback": [
      "\u001B[0;31m---------------------------------------------------------------------------\u001B[0m",
      "\u001B[0;31mRuntimeError\u001B[0m                              Traceback (most recent call last)",
      "\u001B[0;31mRuntimeError\u001B[0m: The new DType API is currently in an exploratory phase and should NOT be used for production code.  Expect modifications and crashes!  To experiment with the new API you must set `NUMPY_EXPERIMENTAL_DTYPE_API=1` as an environment variable."
     ]
    },
    {
     "ename": "RuntimeError",
     "evalue": "The new DType API is currently in an exploratory phase and should NOT be used for production code.  Expect modifications and crashes!  To experiment with the new API you must set `NUMPY_EXPERIMENTAL_DTYPE_API=1` as an environment variable.",
     "output_type": "error",
     "traceback": [
      "\u001B[0;31m---------------------------------------------------------------------------\u001B[0m",
      "\u001B[0;31mRuntimeError\u001B[0m                              Traceback (most recent call last)",
      "\u001B[0;31mRuntimeError\u001B[0m: The new DType API is currently in an exploratory phase and should NOT be used for production code.  Expect modifications and crashes!  To experiment with the new API you must set `NUMPY_EXPERIMENTAL_DTYPE_API=1` as an environment variable."
     ]
    },
    {
     "name": "stdout",
     "output_type": "stream",
     "text": [
      "WARN: Could not locate executable icc\n",
      "WARN: Could not locate executable ecc\n"
     ]
    }
   ],
   "source": [
    "import pkgutil\n",
    "import os\n",
    "\n",
    "def get_all_functions_importlib(module_name):\n",
    "    function_dict = {}\n",
    "    class_dict = {}\n",
    "    try:\n",
    "        module = importlib.import_module(module_name)\n",
    "    except ModuleNotFoundError as e:\n",
    "        os.system(\"pip install {}\".format(str(e).split(\"No module named \")[1][1:-1]))\n",
    "        module = importlib.import_module(module_name)\n",
    "    prefix = module.__name__ + \".\"\n",
    "    for importer, sub_module_name, ispkg in pkgutil.iter_modules(module.__path__):\n",
    "        if not ispkg and sub_module_name[0] != \"_\":\n",
    "            try:\n",
    "                sub_module = importlib.import_module(prefix + sub_module_name)\n",
    "                source = inspect.getsource(sub_module)\n",
    "                tree = ast.parse(source)\n",
    "                function_list = []\n",
    "                class_list = []\n",
    "                for element in tree.body:\n",
    "                    if type(element) == FunctionDef and element.name[0] != \"_\":\n",
    "                        function_list.append(element.name)\n",
    "                    elif type(element) == ClassDef and element.name[0] != \"_\":\n",
    "                        class_list.append(element.name)\n",
    "                if len(function_list) > 0:\n",
    "                    function_dict[prefix + sub_module_name] = function_list\n",
    "                if len(class_list) > 0:\n",
    "                    class_dict[prefix + sub_module_name] = class_list\n",
    "            except:\n",
    "                pass\n",
    "        elif ispkg:\n",
    "            res_func_dict, res_class_dict = get_all_functions_importlib(prefix + sub_module_name)\n",
    "            function_dict.update(res_func_dict)\n",
    "            class_dict.update(res_func_dict)\n",
    "    return function_dict, class_dict\n",
    "\n",
    "module_name = \"numpy\"\n",
    "os.system(\"pip install {}\".format(module_name))\n",
    "function_dict, class_dict = get_all_functions_importlib(module_name)"
   ],
   "metadata": {
    "collapsed": false,
    "ExecuteTime": {
     "end_time": "2024-04-26T08:50:04.291167Z",
     "start_time": "2024-04-26T08:49:57.130748Z"
    }
   },
   "id": "2a98a828ce8289e5"
  },
  {
   "cell_type": "code",
   "execution_count": 7,
   "outputs": [
    {
     "ename": "UnicodeDecodeError",
     "evalue": "'utf-8' codec can't decode byte 0x80 in position 3131: invalid start byte",
     "output_type": "error",
     "traceback": [
      "\u001B[0;31m---------------------------------------------------------------------------\u001B[0m",
      "\u001B[0;31mUnicodeDecodeError\u001B[0m                        Traceback (most recent call last)",
      "Cell \u001B[0;32mIn[7], line 30\u001B[0m\n\u001B[1;32m     27\u001B[0m             class_dict\u001B[38;5;241m.\u001B[39mupdate(res_class_dict)\n\u001B[1;32m     28\u001B[0m     \u001B[38;5;28;01mreturn\u001B[39;00m function_dict, class_dict\n\u001B[0;32m---> 30\u001B[0m function_dict_path, class_dict_path \u001B[38;5;241m=\u001B[39m \u001B[43mget_all_functions_path\u001B[49m\u001B[43m(\u001B[49m\u001B[38;5;124;43m\"\u001B[39;49m\u001B[38;5;124;43mnumpy\u001B[39;49m\u001B[38;5;124;43m\"\u001B[39;49m\u001B[43m,\u001B[49m\u001B[43m \u001B[49m\u001B[38;5;124;43m\"\u001B[39;49m\u001B[38;5;124;43m./packages/numpy-2.0.0rc1/numpy\u001B[39;49m\u001B[38;5;124;43m\"\u001B[39;49m\u001B[43m)\u001B[49m\n",
      "Cell \u001B[0;32mIn[7], line 11\u001B[0m, in \u001B[0;36mget_all_functions_path\u001B[0;34m(module_name, path)\u001B[0m\n\u001B[1;32m      9\u001B[0m \u001B[38;5;28;01mif\u001B[39;00m isfile(join(path, element)):\n\u001B[1;32m     10\u001B[0m     sub_module_name \u001B[38;5;241m=\u001B[39m element\u001B[38;5;241m.\u001B[39msplit(\u001B[38;5;124m\"\u001B[39m\u001B[38;5;124m.py\u001B[39m\u001B[38;5;124m\"\u001B[39m)[\u001B[38;5;241m0\u001B[39m]\n\u001B[0;32m---> 11\u001B[0m     source \u001B[38;5;241m=\u001B[39m \u001B[38;5;28;43mopen\u001B[39;49m\u001B[43m(\u001B[49m\u001B[43mjoin\u001B[49m\u001B[43m(\u001B[49m\u001B[43mpath\u001B[49m\u001B[43m,\u001B[49m\u001B[43m \u001B[49m\u001B[43melement\u001B[49m\u001B[43m)\u001B[49m\u001B[43m,\u001B[49m\u001B[43m \u001B[49m\u001B[38;5;124;43m\"\u001B[39;49m\u001B[38;5;124;43mr\u001B[39;49m\u001B[38;5;124;43m\"\u001B[39;49m\u001B[43m)\u001B[49m\u001B[38;5;241;43m.\u001B[39;49m\u001B[43mread\u001B[49m\u001B[43m(\u001B[49m\u001B[43m)\u001B[49m\n\u001B[1;32m     12\u001B[0m     tree \u001B[38;5;241m=\u001B[39m ast\u001B[38;5;241m.\u001B[39mparse(source)\n\u001B[1;32m     13\u001B[0m     function_list \u001B[38;5;241m=\u001B[39m []\n",
      "File \u001B[0;32m/Applications/Xcode.app/Contents/Developer/Library/Frameworks/Python3.framework/Versions/3.9/lib/python3.9/codecs.py:322\u001B[0m, in \u001B[0;36mBufferedIncrementalDecoder.decode\u001B[0;34m(self, input, final)\u001B[0m\n\u001B[1;32m    319\u001B[0m \u001B[38;5;28;01mdef\u001B[39;00m \u001B[38;5;21mdecode\u001B[39m(\u001B[38;5;28mself\u001B[39m, \u001B[38;5;28minput\u001B[39m, final\u001B[38;5;241m=\u001B[39m\u001B[38;5;28;01mFalse\u001B[39;00m):\n\u001B[1;32m    320\u001B[0m     \u001B[38;5;66;03m# decode input (taking the buffer into account)\u001B[39;00m\n\u001B[1;32m    321\u001B[0m     data \u001B[38;5;241m=\u001B[39m \u001B[38;5;28mself\u001B[39m\u001B[38;5;241m.\u001B[39mbuffer \u001B[38;5;241m+\u001B[39m \u001B[38;5;28minput\u001B[39m\n\u001B[0;32m--> 322\u001B[0m     (result, consumed) \u001B[38;5;241m=\u001B[39m \u001B[38;5;28;43mself\u001B[39;49m\u001B[38;5;241;43m.\u001B[39;49m\u001B[43m_buffer_decode\u001B[49m\u001B[43m(\u001B[49m\u001B[43mdata\u001B[49m\u001B[43m,\u001B[49m\u001B[43m \u001B[49m\u001B[38;5;28;43mself\u001B[39;49m\u001B[38;5;241;43m.\u001B[39;49m\u001B[43merrors\u001B[49m\u001B[43m,\u001B[49m\u001B[43m \u001B[49m\u001B[43mfinal\u001B[49m\u001B[43m)\u001B[49m\n\u001B[1;32m    323\u001B[0m     \u001B[38;5;66;03m# keep undecoded input until the next call\u001B[39;00m\n\u001B[1;32m    324\u001B[0m     \u001B[38;5;28mself\u001B[39m\u001B[38;5;241m.\u001B[39mbuffer \u001B[38;5;241m=\u001B[39m data[consumed:]\n",
      "\u001B[0;31mUnicodeDecodeError\u001B[0m: 'utf-8' codec can't decode byte 0x80 in position 3131: invalid start byte"
     ]
    }
   ],
   "source": [
    "from os import listdir\n",
    "from os.path import isfile, join, isdir\n",
    "\n",
    "def get_all_functions_path(module_name, path):\n",
    "    function_dict = {}\n",
    "    class_dict = {}\n",
    "    prefix = module_name + \".\"\n",
    "    for element in sorted(listdir(path)):\n",
    "        if isfile(join(path, element)):\n",
    "            sub_module_name = element.split(\".py\")[0]\n",
    "            source = open(join(path, element), \"r\").read()\n",
    "            tree = ast.parse(source)\n",
    "            function_list = []\n",
    "            class_list = []\n",
    "            for element in tree.body:\n",
    "                if type(element) == FunctionDef and element.name[0] != \"_\":\n",
    "                    function_list.append(element.name)\n",
    "                elif type(element) == ClassDef and element.name[0] != \"_\":\n",
    "                    class_list.append(element.name)\n",
    "            if len(function_list) > 0:\n",
    "                function_dict[prefix + sub_module_name] = function_list\n",
    "            if len(class_list) > 0:\n",
    "                class_dict[prefix + sub_module_name] = class_list\n",
    "        elif isdir(join(path, element)):\n",
    "            res_function_dict, res_class_dict = get_all_functions_path(prefix + element, join(path, element))\n",
    "            function_dict.update(res_function_dict)\n",
    "            class_dict.update(res_class_dict)\n",
    "    return function_dict, class_dict\n",
    "    \n",
    "function_dict_path, class_dict_path = get_all_functions_path(\"numpy\", \"./packages/numpy-2.0.0rc1/numpy\")"
   ],
   "metadata": {
    "collapsed": false,
    "ExecuteTime": {
     "end_time": "2024-04-26T08:50:04.528276Z",
     "start_time": "2024-04-26T08:50:04.294666Z"
    }
   },
   "id": "9122920c4b7f6fab"
  },
  {
   "cell_type": "code",
   "execution_count": null,
   "outputs": [],
   "source": [],
   "metadata": {
    "collapsed": false,
    "ExecuteTime": {
     "start_time": "2024-04-26T08:50:04.528744Z"
    }
   },
   "id": "8e6de446b712e1f5"
  }
 ],
 "metadata": {
  "kernelspec": {
   "display_name": "Python 3",
   "language": "python",
   "name": "python3"
  },
  "language_info": {
   "codemirror_mode": {
    "name": "ipython",
    "version": 2
   },
   "file_extension": ".py",
   "mimetype": "text/x-python",
   "name": "python",
   "nbconvert_exporter": "python",
   "pygments_lexer": "ipython2",
   "version": "2.7.6"
  }
 },
 "nbformat": 4,
 "nbformat_minor": 5
}
