{
 "cells": [
  {
   "cell_type": "code",
   "execution_count": 4,
   "id": "initial_id",
   "metadata": {
    "collapsed": true,
    "ExecuteTime": {
     "end_time": "2024-04-03T07:09:31.094779Z",
     "start_time": "2024-04-03T07:09:31.070806Z"
    }
   },
   "outputs": [
    {
     "name": "stdout",
     "output_type": "stream",
     "text": [
      "Hello, John!\n"
     ]
    }
   ],
   "source": [
    "def greet(name):\n",
    "    print(\"Hello, \" + name + \"!\")\n",
    "    \n",
    "greet(\"John\")"
   ]
  },
  {
   "cell_type": "code",
   "execution_count": 12,
   "outputs": [],
   "source": [
    "import ast\n",
    "\n",
    "f = open(\"test_package.py\", \"r\")\n",
    "\n",
    "code = f.read()\n",
    "\n",
    "tree = ast.parse(code)"
   ],
   "metadata": {
    "collapsed": false,
    "ExecuteTime": {
     "end_time": "2024-04-03T07:21:03.692299Z",
     "start_time": "2024-04-03T07:21:03.686902Z"
    }
   },
   "id": "93d197510297a3fa"
  },
  {
   "cell_type": "code",
   "execution_count": 14,
   "outputs": [],
   "source": [
    "f_np = open(\"packages/numpy-2.0.0rc1/numpy/_core/fromnumeric.py\", \"r\")\n",
    "\n",
    "code_np = f_np.read()\n",
    "\n",
    "tree_np = ast.parse(code_np)"
   ],
   "metadata": {
    "collapsed": false,
    "ExecuteTime": {
     "end_time": "2024-04-03T07:35:01.993289Z",
     "start_time": "2024-04-03T07:35:01.978088Z"
    }
   },
   "id": "4ffbf5b19b268562"
  },
  {
   "cell_type": "markdown",
   "source": [
    "As a single underscore in front of a function means, that it is meant to be private, those functions will not be included in the search index."
   ],
   "metadata": {
    "collapsed": false
   },
   "id": "89f3d1a7656f094c"
  },
  {
   "cell_type": "code",
   "execution_count": 7,
   "outputs": [],
   "source": [
    "from _ast import *\n",
    "\n",
    "for element in tree_np.body:\n",
    "    if type(element) == FunctionDef and element.name[0] != \"_\":\n",
    "        print(element.name)"
   ],
   "metadata": {
    "collapsed": false,
    "ExecuteTime": {
     "end_time": "2024-04-03T07:09:31.130127Z",
     "start_time": "2024-04-03T07:09:31.110032Z"
    }
   },
   "id": "1e003372fed90fae"
  },
  {
   "cell_type": "code",
   "execution_count": 8,
   "outputs": [],
   "source": [
    "import inspect\n",
    "import importlib\n",
    "\n",
    "m = importlib.import_module(\"numpy\")\n"
   ],
   "metadata": {
    "collapsed": false,
    "ExecuteTime": {
     "end_time": "2024-04-03T07:09:31.332854Z",
     "start_time": "2024-04-03T07:09:31.113153Z"
    }
   },
   "id": "dfda250d25d85660"
  },
  {
   "cell_type": "code",
   "execution_count": 11,
   "outputs": [
    {
     "name": "stdout",
     "output_type": "stream",
     "text": [
      "Requirement already satisfied: numpy in /Users/maxlautenbach/Documents/GitHub/lasso-python/.venv/lib/python3.9/site-packages (1.26.4)\n"
     ]
    },
    {
     "name": "stderr",
     "output_type": "stream",
     "text": [
      "\n",
      "\u001B[1m[\u001B[0m\u001B[34;49mnotice\u001B[0m\u001B[1;39;49m]\u001B[0m\u001B[39;49m A new release of pip is available: \u001B[0m\u001B[31;49m23.2.1\u001B[0m\u001B[39;49m -> \u001B[0m\u001B[32;49m24.0\u001B[0m\n",
      "\u001B[1m[\u001B[0m\u001B[34;49mnotice\u001B[0m\u001B[1;39;49m]\u001B[0m\u001B[39;49m To update, run: \u001B[0m\u001B[32;49mpip install --upgrade pip\u001B[0m\n",
      "/Applications/Xcode.app/Contents/Developer/Library/Frameworks/Python3.framework/Versions/3.9/lib/python3.9/importlib/__init__.py:127: UserWarning: The numpy.array_api submodule is still experimental. See NEP 47.\n",
      "  return _bootstrap._gcd_import(name[level:], package, level)\n"
     ]
    },
    {
     "name": "stdout",
     "output_type": "stream",
     "text": [
      "I made it!\n"
     ]
    },
    {
     "ename": "RuntimeError",
     "evalue": "The new DType API is currently in an exploratory phase and should NOT be used for production code.  Expect modifications and crashes!  To experiment with the new API you must set `NUMPY_EXPERIMENTAL_DTYPE_API=1` as an environment variable.",
     "output_type": "error",
     "traceback": [
      "\u001B[0;31m---------------------------------------------------------------------------\u001B[0m",
      "\u001B[0;31mRuntimeError\u001B[0m                              Traceback (most recent call last)",
      "\u001B[0;31mRuntimeError\u001B[0m: The new DType API is currently in an exploratory phase and should NOT be used for production code.  Expect modifications and crashes!  To experiment with the new API you must set `NUMPY_EXPERIMENTAL_DTYPE_API=1` as an environment variable."
     ]
    },
    {
     "ename": "RuntimeError",
     "evalue": "The new DType API is currently in an exploratory phase and should NOT be used for production code.  Expect modifications and crashes!  To experiment with the new API you must set `NUMPY_EXPERIMENTAL_DTYPE_API=1` as an environment variable.",
     "output_type": "error",
     "traceback": [
      "\u001B[0;31m---------------------------------------------------------------------------\u001B[0m",
      "\u001B[0;31mRuntimeError\u001B[0m                              Traceback (most recent call last)",
      "\u001B[0;31mRuntimeError\u001B[0m: The new DType API is currently in an exploratory phase and should NOT be used for production code.  Expect modifications and crashes!  To experiment with the new API you must set `NUMPY_EXPERIMENTAL_DTYPE_API=1` as an environment variable."
     ]
    },
    {
     "ename": "RuntimeError",
     "evalue": "The new DType API is currently in an exploratory phase and should NOT be used for production code.  Expect modifications and crashes!  To experiment with the new API you must set `NUMPY_EXPERIMENTAL_DTYPE_API=1` as an environment variable.",
     "output_type": "error",
     "traceback": [
      "\u001B[0;31m---------------------------------------------------------------------------\u001B[0m",
      "\u001B[0;31mRuntimeError\u001B[0m                              Traceback (most recent call last)",
      "\u001B[0;31mRuntimeError\u001B[0m: The new DType API is currently in an exploratory phase and should NOT be used for production code.  Expect modifications and crashes!  To experiment with the new API you must set `NUMPY_EXPERIMENTAL_DTYPE_API=1` as an environment variable."
     ]
    },
    {
     "ename": "RuntimeError",
     "evalue": "The new DType API is currently in an exploratory phase and should NOT be used for production code.  Expect modifications and crashes!  To experiment with the new API you must set `NUMPY_EXPERIMENTAL_DTYPE_API=1` as an environment variable.",
     "output_type": "error",
     "traceback": [
      "\u001B[0;31m---------------------------------------------------------------------------\u001B[0m",
      "\u001B[0;31mRuntimeError\u001B[0m                              Traceback (most recent call last)",
      "\u001B[0;31mRuntimeError\u001B[0m: The new DType API is currently in an exploratory phase and should NOT be used for production code.  Expect modifications and crashes!  To experiment with the new API you must set `NUMPY_EXPERIMENTAL_DTYPE_API=1` as an environment variable."
     ]
    },
    {
     "ename": "RuntimeError",
     "evalue": "The new DType API is currently in an exploratory phase and should NOT be used for production code.  Expect modifications and crashes!  To experiment with the new API you must set `NUMPY_EXPERIMENTAL_DTYPE_API=1` as an environment variable.",
     "output_type": "error",
     "traceback": [
      "\u001B[0;31m---------------------------------------------------------------------------\u001B[0m",
      "\u001B[0;31mRuntimeError\u001B[0m                              Traceback (most recent call last)",
      "\u001B[0;31mRuntimeError\u001B[0m: The new DType API is currently in an exploratory phase and should NOT be used for production code.  Expect modifications and crashes!  To experiment with the new API you must set `NUMPY_EXPERIMENTAL_DTYPE_API=1` as an environment variable."
     ]
    },
    {
     "name": "stdout",
     "output_type": "stream",
     "text": [
      "WARN: Could not locate executable icc\n",
      "WARN: Could not locate executable ecc\n"
     ]
    }
   ],
   "source": [
    "import pkgutil\n",
    "import os\n",
    "\n",
    "def get_all_functions_importlib(module_name):\n",
    "    function_dict = {}\n",
    "    class_dict = {}\n",
    "    try:\n",
    "        module = importlib.import_module(module_name)\n",
    "    except ModuleNotFoundError as e:\n",
    "        os.system(\"pip install {}\".format(str(e).split(\"No module named \")[1][1:-1]))\n",
    "        module = importlib.import_module(module_name)\n",
    "    prefix = module.__name__ + \".\"\n",
    "    for importer, sub_module_name, ispkg in pkgutil.iter_modules(module.__path__):\n",
    "        if not ispkg and sub_module_name[0] != \"_\":\n",
    "            try:\n",
    "                sub_module = importlib.import_module(prefix + sub_module_name)\n",
    "                source = inspect.getsource(sub_module)\n",
    "                tree = ast.parse(source)\n",
    "                function_list = []\n",
    "                class_list = []\n",
    "                for element in tree.body:\n",
    "                    if type(element) == FunctionDef and element.name[0] != \"_\":\n",
    "                        function_list.append(element.name)\n",
    "                    elif type(element) == ClassDef and element.name[0] != \"_\":\n",
    "                        class_list.append(element.name)\n",
    "                if len(function_list) > 0:\n",
    "                    function_dict[prefix + sub_module_name] = function_list\n",
    "                if len(class_list) > 0:\n",
    "                    class_dict[prefix + sub_module_name] = class_list\n",
    "            except:\n",
    "                pass\n",
    "        elif ispkg:\n",
    "            res_func_dict, res_class_dict = get_all_functions_importlib(prefix + sub_module_name)\n",
    "            function_dict.update(res_func_dict)\n",
    "            class_dict.update(res_func_dict)\n",
    "    return function_dict, class_dict\n",
    "\n",
    "module_name = \"numpy\"\n",
    "os.system(\"pip install {}\".format(module_name))\n",
    "function_dict, class_dict = get_all_functions_importlib(module_name)"
   ],
   "metadata": {
    "collapsed": false,
    "ExecuteTime": {
     "end_time": "2024-04-03T07:10:29.072376Z",
     "start_time": "2024-04-03T07:10:25.380891Z"
    }
   },
   "id": "2a98a828ce8289e5"
  },
  {
   "cell_type": "code",
   "execution_count": 10,
   "outputs": [],
   "source": [
    "from os import listdir\n",
    "from os.path import isfile, join, isdir\n",
    "\n",
    "def get_all_functions_path(module_name, path):\n",
    "    function_dict = {}\n",
    "    class_dict = {}\n",
    "    prefix = module_name + \".\"\n",
    "    for element in sorted(listdir(path)):\n",
    "        if isfile(join(path, element)):\n",
    "            sub_module_name = element.split(\".py\")[0]\n",
    "            source = open(join(path, element), \"r\").read()\n",
    "            tree = ast.parse(source)\n",
    "            function_list = []\n",
    "            class_list = []\n",
    "            for element in tree.body:\n",
    "                if type(element) == FunctionDef and element.name[0] != \"_\":\n",
    "                    function_list.append(element.name)\n",
    "                elif type(element) == ClassDef and element.name[0] != \"_\":\n",
    "                    class_list.append(element.name)\n",
    "            if len(function_list) > 0:\n",
    "                function_dict[prefix + sub_module_name] = function_list\n",
    "            if len(class_list) > 0:\n",
    "                class_dict[prefix + sub_module_name] = class_list\n",
    "        elif isdir(join(path, element)):\n",
    "            res_function_dict, res_class_dict = get_all_functions_path(prefix + element, join(path, element))\n",
    "            function_dict.update(res_function_dict)\n",
    "            class_dict.update(res_class_dict)\n",
    "    return function_dict, class_dict\n",
    "    \n",
    "function_dict_path, class_dict_path = get_all_functions_path(\"numpy\", \"./packages/numpy-2.0.0rc1/numpy\")"
   ],
   "metadata": {
    "collapsed": false,
    "ExecuteTime": {
     "end_time": "2024-04-03T07:09:41.592461Z",
     "start_time": "2024-04-03T07:09:39.390776Z"
    }
   },
   "id": "9122920c4b7f6fab"
  },
  {
   "cell_type": "code",
   "execution_count": 10,
   "outputs": [],
   "source": [],
   "metadata": {
    "collapsed": false,
    "ExecuteTime": {
     "end_time": "2024-04-03T07:09:41.596337Z",
     "start_time": "2024-04-03T07:09:41.592558Z"
    }
   },
   "id": "8e6de446b712e1f5"
  }
 ],
 "metadata": {
  "kernelspec": {
   "display_name": "Python 3",
   "language": "python",
   "name": "python3"
  },
  "language_info": {
   "codemirror_mode": {
    "name": "ipython",
    "version": 2
   },
   "file_extension": ".py",
   "mimetype": "text/x-python",
   "name": "python",
   "nbconvert_exporter": "python",
   "pygments_lexer": "ipython2",
   "version": "2.7.6"
  }
 },
 "nbformat": 4,
 "nbformat_minor": 5
}
