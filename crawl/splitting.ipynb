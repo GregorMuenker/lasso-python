{
 "cells": [
  {
   "cell_type": "code",
   "execution_count": 2,
   "id": "initial_id",
   "metadata": {
    "collapsed": true,
    "ExecuteTime": {
     "end_time": "2024-04-01T12:05:14.838703Z",
     "start_time": "2024-04-01T12:05:14.827929Z"
    }
   },
   "outputs": [
    {
     "name": "stdout",
     "output_type": "stream",
     "text": [
      "Hello, John!\n"
     ]
    }
   ],
   "source": [
    "def greet(name):\n",
    "    print(\"Hello, \" + name + \"!\")\n",
    "    \n",
    "greet(\"John\")"
   ]
  },
  {
   "cell_type": "code",
   "execution_count": 3,
   "outputs": [],
   "source": [
    "import ast\n",
    "\n",
    "f = open(\"test_package.py\", \"r\")\n",
    "\n",
    "code = f.read()\n",
    "\n",
    "tree = ast.parse(code)"
   ],
   "metadata": {
    "collapsed": false,
    "ExecuteTime": {
     "end_time": "2024-04-01T12:05:14.838974Z",
     "start_time": "2024-04-01T12:05:14.832818Z"
    }
   },
   "id": "93d197510297a3fa"
  },
  {
   "cell_type": "code",
   "execution_count": 4,
   "outputs": [],
   "source": [
    "f_np = open(\"packages/numpy-2.0.0rc1/numpy/core/fromnumeric.py\", \"r\")\n",
    "\n",
    "code_np = f_np.read()\n",
    "\n",
    "tree_np = ast.parse(code_np)"
   ],
   "metadata": {
    "collapsed": false,
    "ExecuteTime": {
     "end_time": "2024-04-01T12:05:14.839751Z",
     "start_time": "2024-04-01T12:05:14.835248Z"
    }
   },
   "id": "4ffbf5b19b268562"
  },
  {
   "cell_type": "markdown",
   "source": [
    "As a single underscore in front of a function means, that it is meant to be private, those functions will not be included in the search index."
   ],
   "metadata": {
    "collapsed": false
   },
   "id": "89f3d1a7656f094c"
  },
  {
   "cell_type": "code",
   "execution_count": 5,
   "outputs": [],
   "source": [
    "from _ast import *\n",
    "\n",
    "for element in tree_np.body:\n",
    "    if type(element) == FunctionDef and element.name[0] != \"_\":\n",
    "        print(element.name)"
   ],
   "metadata": {
    "collapsed": false,
    "ExecuteTime": {
     "end_time": "2024-04-01T12:05:14.864719Z",
     "start_time": "2024-04-01T12:05:14.839749Z"
    }
   },
   "id": "1e003372fed90fae"
  },
  {
   "cell_type": "code",
   "execution_count": 6,
   "outputs": [],
   "source": [
    "import inspect\n",
    "import importlib\n",
    "\n",
    "m = importlib.import_module(\"numpy\")\n"
   ],
   "metadata": {
    "collapsed": false,
    "ExecuteTime": {
     "end_time": "2024-04-01T12:05:15.007206Z",
     "start_time": "2024-04-01T12:05:14.842641Z"
    }
   },
   "id": "dfda250d25d85660"
  },
  {
   "cell_type": "code",
   "execution_count": 24,
   "outputs": [
    {
     "name": "stdout",
     "output_type": "stream",
     "text": [
      "Requirement already satisfied: pandas in /Users/maxlautenbach/Documents/GitHub/lasso-python/.venv/lib/python3.9/site-packages (2.2.1)\n",
      "Requirement already satisfied: numpy<2,>=1.22.4 in /Users/maxlautenbach/Documents/GitHub/lasso-python/.venv/lib/python3.9/site-packages (from pandas) (1.26.4)\n",
      "Requirement already satisfied: python-dateutil>=2.8.2 in /Users/maxlautenbach/Documents/GitHub/lasso-python/.venv/lib/python3.9/site-packages (from pandas) (2.9.0.post0)\n",
      "Requirement already satisfied: pytz>=2020.1 in /Users/maxlautenbach/Documents/GitHub/lasso-python/.venv/lib/python3.9/site-packages (from pandas) (2024.1)\n",
      "Requirement already satisfied: tzdata>=2022.7 in /Users/maxlautenbach/Documents/GitHub/lasso-python/.venv/lib/python3.9/site-packages (from pandas) (2024.1)\n",
      "Requirement already satisfied: six>=1.5 in /Users/maxlautenbach/Documents/GitHub/lasso-python/.venv/lib/python3.9/site-packages (from python-dateutil>=2.8.2->pandas) (1.16.0)\n"
     ]
    },
    {
     "name": "stderr",
     "output_type": "stream",
     "text": [
      "\n",
      "\u001B[1m[\u001B[0m\u001B[34;49mnotice\u001B[0m\u001B[1;39;49m]\u001B[0m\u001B[39;49m A new release of pip is available: \u001B[0m\u001B[31;49m23.2.1\u001B[0m\u001B[39;49m -> \u001B[0m\u001B[32;49m24.0\u001B[0m\n",
      "\u001B[1m[\u001B[0m\u001B[34;49mnotice\u001B[0m\u001B[1;39;49m]\u001B[0m\u001B[39;49m To update, run: \u001B[0m\u001B[32;49mpip install --upgrade pip\u001B[0m\n"
     ]
    }
   ],
   "source": [
    "import pkgutil\n",
    "import os\n",
    "\n",
    "def get_all_functions_importlib(module_name):\n",
    "    function_dict = {}\n",
    "    class_dict = {}\n",
    "    try:\n",
    "        module = importlib.import_module(module_name)\n",
    "    except ModuleNotFoundError as e:\n",
    "        os.system(\"pip install {}\".format(str(e).split(\"No module named \")[1][1:-1]))\n",
    "        module = importlib.import_module(module_name)\n",
    "    prefix = module.__name__ + \".\"\n",
    "    for importer, sub_module_name, ispkg in pkgutil.iter_modules(module.__path__):\n",
    "        if not ispkg and sub_module_name[0] != \"_\":\n",
    "            try:\n",
    "                sub_module = importlib.import_module(prefix + sub_module_name)\n",
    "                source = inspect.getsource(sub_module)\n",
    "                tree = ast.parse(source)\n",
    "                function_list = []\n",
    "                class_list = []\n",
    "                for element in tree.body:\n",
    "                    if type(element) == FunctionDef and element.name[0] != \"_\":\n",
    "                        function_list.append(element.name)\n",
    "                    elif type(element) == ClassDef and element.name[0] != \"_\":\n",
    "                        class_list.append(element.name)\n",
    "                if len(function_list) > 0:\n",
    "                    function_dict[prefix + sub_module_name] = function_list\n",
    "                if len(class_list) > 0:\n",
    "                    class_dict[prefix + sub_module_name] = class_list\n",
    "            except:\n",
    "                pass\n",
    "        elif ispkg:\n",
    "            res_func_dict, res_class_dict = get_all_functions_importlib(prefix + sub_module_name)\n",
    "            function_dict.update(res_func_dict)\n",
    "            class_dict.update(res_func_dict)\n",
    "    return function_dict, class_dict\n",
    "\n",
    "module_name = \"pandas\"\n",
    "os.system(\"pip install {}\".format(module_name))\n",
    "function_dict, class_dict = get_all_functions_importlib(module_name)"
   ],
   "metadata": {
    "collapsed": false,
    "ExecuteTime": {
     "end_time": "2024-04-01T12:13:24.142072Z",
     "start_time": "2024-04-01T12:13:18.797920Z"
    }
   },
   "id": "2a98a828ce8289e5"
  },
  {
   "cell_type": "code",
   "execution_count": 8,
   "outputs": [],
   "source": [
    "from os import listdir\n",
    "from os.path import isfile, join, isdir\n",
    "\n",
    "def get_all_functions_path(module_name, path):\n",
    "    function_dict = {}\n",
    "    class_dict = {}\n",
    "    prefix = module_name + \".\"\n",
    "    for element in sorted(listdir(path)):\n",
    "        if isfile(join(path, element)):\n",
    "            sub_module_name = element.split(\".py\")[0]\n",
    "            source = open(join(path, element), \"r\").read()\n",
    "            tree = ast.parse(source)\n",
    "            function_list = []\n",
    "            class_list = []\n",
    "            for element in tree.body:\n",
    "                if type(element) == FunctionDef and element.name[0] != \"_\":\n",
    "                    function_list.append(element.name)\n",
    "                elif type(element) == ClassDef and element.name[0] != \"_\":\n",
    "                    class_list.append(element.name)\n",
    "            if len(function_list) > 0:\n",
    "                function_dict[prefix + sub_module_name] = function_list\n",
    "            if len(class_list) > 0:\n",
    "                class_dict[prefix + sub_module_name] = class_list\n",
    "        elif isdir(join(path, element)):\n",
    "            res_function_dict, res_class_dict = get_all_functions_path(prefix + element, join(path, element))\n",
    "            function_dict.update(res_function_dict)\n",
    "            class_dict.update(res_class_dict)\n",
    "    return function_dict, class_dict\n",
    "    \n",
    "function_dict_path, class_dict_path = get_all_functions_path(\"numpy\", \"./packages/numpy-2.0.0rc1/numpy\")"
   ],
   "metadata": {
    "collapsed": false,
    "ExecuteTime": {
     "end_time": "2024-04-01T12:05:18.189847Z",
     "start_time": "2024-04-01T12:05:16.551354Z"
    }
   },
   "id": "9122920c4b7f6fab"
  },
  {
   "cell_type": "code",
   "execution_count": null,
   "outputs": [],
   "source": [],
   "metadata": {
    "collapsed": false
   },
   "id": "8e6de446b712e1f5"
  }
 ],
 "metadata": {
  "kernelspec": {
   "display_name": "Python 3",
   "language": "python",
   "name": "python3"
  },
  "language_info": {
   "codemirror_mode": {
    "name": "ipython",
    "version": 2
   },
   "file_extension": ".py",
   "mimetype": "text/x-python",
   "name": "python",
   "nbconvert_exporter": "python",
   "pygments_lexer": "ipython2",
   "version": "2.7.6"
  }
 },
 "nbformat": 4,
 "nbformat_minor": 5
}
