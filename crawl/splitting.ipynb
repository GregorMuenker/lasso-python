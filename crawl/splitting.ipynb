{
 "cells": [
  {
   "metadata": {
    "ExecuteTime": {
     "end_time": "2024-07-28T12:52:33.765802Z",
     "start_time": "2024-07-28T12:52:33.763155Z"
    }
   },
   "cell_type": "code",
   "source": [
    "import ast\n",
    "\n",
    "source = open(\"test_packages/calculator-0.0.1/calculator/list_functions.py\", \"r\").read()\n",
    "tree = ast.parse(source)"
   ],
   "id": "b88a5387193cdbd6",
   "outputs": [],
   "execution_count": 11
  },
  {
   "metadata": {
    "ExecuteTime": {
     "end_time": "2024-07-28T12:52:33.975269Z",
     "start_time": "2024-07-28T12:52:33.971370Z"
    }
   },
   "cell_type": "code",
   "source": [
    "dec = tree.body[2].body[4].decorator_list[0]\n",
    "ast.get_source_segment(source, dec)"
   ],
   "id": "6f12bab8ce1eae50",
   "outputs": [
    {
     "data": {
      "text/plain": [
       "'staticmethod'"
      ]
     },
     "execution_count": 12,
     "metadata": {},
     "output_type": "execute_result"
    }
   ],
   "execution_count": 12
  },
  {
   "metadata": {},
   "cell_type": "code",
   "outputs": [],
   "execution_count": null,
   "source": "",
   "id": "53e653073173b9da"
  }
 ],
 "metadata": {
  "kernelspec": {
   "display_name": "Python 3",
   "language": "python",
   "name": "python3"
  },
  "language_info": {
   "codemirror_mode": {
    "name": "ipython",
    "version": 2
   },
   "file_extension": ".py",
   "mimetype": "text/x-python",
   "name": "python",
   "nbconvert_exporter": "python",
   "pygments_lexer": "ipython2",
   "version": "2.7.6"
  }
 },
 "nbformat": 4,
 "nbformat_minor": 5
}
