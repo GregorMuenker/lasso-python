{
 "cells": [
  {
   "cell_type": "code",
   "execution_count": 8,
   "metadata": {},
   "outputs": [],
   "source": [
    "from adaptation import MethodSignature, InterfaceSpecification, AdaptationHandler, execute_test, create_adapted_module\n",
    "from stimulus_sheet_reader import get_stimulus_sheet\n",
    "from solr_parser import parse_solr_response\n",
    "from solr_query import translate_to_solr_query\n",
    "import pysolr"
   ]
  },
  {
   "cell_type": "code",
   "execution_count": 9,
   "metadata": {},
   "outputs": [],
   "source": [
    "icubed = MethodSignature(\"log\", \"float\", [\"int\", \"int\"])\n",
    "iminus = MethodSignature(\"sqrd\", \"str\", [\"int\"])\n",
    "interfaceSpecification = InterfaceSpecification(\"Calculator\", [], [icubed, iminus])"
   ]
  },
  {
   "cell_type": "code",
   "execution_count": 10,
   "metadata": {},
   "outputs": [
    {
     "name": "stdout",
     "output_type": "stream",
     "text": [
      "QUERY: (name:log~0.1 AND (arguments.datatype:('int') AND arguments.datatype:('int'))) OR (name:log~0.1 AND count_positional_args:(2)) OR (name:sqrd~0.1 AND (arguments.datatype:('int'))) OR (name:sqrd~0.1 AND count_positional_args:(1))&group=true&group.field=module\n",
      "Found 3 results\n",
      "FunctionSignature(functionName='sqrt', returnType='Any', parameterTypes=['Any'], parentClass='None', firstDefault=1)\n",
      "FunctionSignature(functionName='logn', returnType='Any', parameterTypes=['Any', 'Any'], parentClass='None', firstDefault=2)\n",
      "Only considering the first module, stopping parsing.\n",
      "{}\n"
     ]
    }
   ],
   "source": [
    "solr_url = \"http://localhost:8983/solr/lasso_quickstart\"\n",
    "solr = pysolr.Solr(solr_url)\n",
    "solr_query = translate_to_solr_query(interfaceSpecification)\n",
    "print(\"QUERY:\", solr_query)\n",
    "results = solr.search(solr_query)\n",
    "print(f\"Found {len(results)} results\")\n",
    "moduleUnderTest = parse_solr_response(results)"
   ]
  },
  {
   "cell_type": "code",
   "execution_count": 11,
   "metadata": {},
   "outputs": [
    {
     "name": "stdout",
     "output_type": "stream",
     "text": [
      "\n",
      "\u001b[95m-----------------\n",
      "IDENTIFY MAPPINGS\n",
      "-----------------\u001b[0m\n",
      "\n",
      "               sqrt                       logn\n",
      "log           None  [NmRtrnCnvr, NmRtrnPrmt*]\n",
      "sqrd  [NmRtrnCnvr]                       None \n",
      "\n"
     ]
    }
   ],
   "source": [
    "adaptationHandler = AdaptationHandler(interfaceSpecification, moduleUnderTest, excludeClasses=False, useFunctionDefaultValues=False)\n",
    "adaptationHandler.identifyAdaptations(maxParamPermutationTries=2)\n",
    "adaptationHandler.visualizeAdaptations()"
   ]
  },
  {
   "cell_type": "code",
   "execution_count": 12,
   "metadata": {},
   "outputs": [
    {
     "name": "stdout",
     "output_type": "stream",
     "text": [
      "Generated 2 potential mappings.\n",
      "('log', 'logn', 1)('sqrd', 'sqrt', 0) | score=13\n",
      "('log', 'logn', 0)('sqrd', 'sqrt', 0) | score=9\n"
     ]
    }
   ],
   "source": [
    "adaptationHandler.generateMappings(onlyKeepTopN=10)"
   ]
  },
  {
   "cell_type": "code",
   "execution_count": 13,
   "metadata": {},
   "outputs": [
    {
     "name": "stdout",
     "output_type": "stream",
     "text": [
      "\n",
      "-----------------------------\n",
      "TRYING ADAPTATION FOR MAPPING ('log', 'logn', 1)('sqrd', 'sqrt', 0) | score=13.\n",
      "-----------------------------\n",
      "Trying to adapt return type of <function logn at 0x7fc551d755e0> to float.\n",
      "\u001b[91mTrying to blindly adapt parameter order of <function logn at 0x7fc551d755e0>\u001b[0m.\n",
      "Created adapted wrapper function.\n",
      "Adapted name of function <function adapt_function.<locals>.decorator.<locals>.wrapper at 0x7fc5535f3670> to log.\n",
      "Trying to adapt return type of <function sqrt at 0x7fc551d753a0> to str.\n",
      "Trying to adapt parameter types of <function sqrt at 0x7fc551d753a0> to ['Any'].\n",
      "Created adapted wrapper function.\n",
      "Adapted name of function <function adapt_function.<locals>.decorator.<locals>.wrapper at 0x7fc5535f3700> to sqrd.\n",
      "\u001b[92mSuccessful creation of submodule 0 for this mapping.\u001b[0m\n",
      "\n",
      "-----------------------------\n",
      "TRYING ADAPTATION FOR MAPPING ('log', 'logn', 0)('sqrd', 'sqrt', 0) | score=9.\n",
      "-----------------------------\n",
      "Trying to adapt return type of <function logn at 0x7fc551d755e0> to float.\n",
      "Trying to adapt parameter types of <function logn at 0x7fc551d755e0> to ['Any', 'Any'].\n",
      "Created adapted wrapper function.\n",
      "Adapted name of function <function adapt_function.<locals>.decorator.<locals>.wrapper at 0x7fc5535f3820> to log.\n",
      "Trying to adapt return type of <function sqrt at 0x7fc551d753a0> to str.\n",
      "Trying to adapt parameter types of <function sqrt at 0x7fc551d753a0> to ['Any'].\n",
      "Created adapted wrapper function.\n",
      "Adapted name of function <function adapt_function.<locals>.decorator.<locals>.wrapper at 0x7fc5535f3940> to sqrd.\n",
      "\u001b[92mSuccessful creation of submodule 1 for this mapping.\u001b[0m\n",
      "\n",
      "2/2 adapted mappings.\n"
     ]
    }
   ],
   "source": [
    "(adapted_module, number_of_submodules, submodules_metadata)  = create_adapted_module(adaptationHandler, moduleUnderTest.moduleName, use_constructor_default_values=True)"
   ]
  },
  {
   "cell_type": "code",
   "execution_count": 14,
   "metadata": {},
   "outputs": [
    {
     "name": "stdout",
     "output_type": "stream",
     "text": [
      "\n",
      "Executing stimulus sheet on numpy.lib.scimath\n",
      "\n",
      "\n",
      "Results from executing stimulus sheet:\n",
      "0 {'log': ('logn', 1, NmRtrnPrmt*), 'sqrd': ('sqrt', 0, NmRtrnCnvr)}\t\t ('sqrd(7.0)', '2.6457513110645907') ('log(3.0, 2.0)', 1.5849625007211563)\n",
      "1 {'log': ('logn', 0, NmRtrnCnvr), 'sqrd': ('sqrt', 0, NmRtrnCnvr)}\t\t ('sqrd(7.0)', '2.6457513110645907') ('log(3.0, 2.0)', 0.6309297535714574)\n"
     ]
    }
   ],
   "source": [
    "stimulus_sheet = get_stimulus_sheet(\"calc4.csv\")\n",
    "execute_test(stimulus_sheet, adapted_module, number_of_submodules, submodules_metadata)"
   ]
  }
 ],
 "metadata": {
  "kernelspec": {
   "display_name": "Python 3",
   "language": "python",
   "name": "python3"
  },
  "language_info": {
   "codemirror_mode": {
    "name": "ipython",
    "version": 3
   },
   "file_extension": ".py",
   "mimetype": "text/x-python",
   "name": "python",
   "nbconvert_exporter": "python",
   "pygments_lexer": "ipython3",
   "version": "3.9.9"
  }
 },
 "nbformat": 4,
 "nbformat_minor": 2
}
