{
 "cells": [
  {
   "cell_type": "code",
   "execution_count": 1,
   "metadata": {},
   "outputs": [],
   "source": [
    "import sys\n",
    "sys.path.insert(1, '../../backend')\n",
    "\n",
    "from adaptation import AdaptationHandler, create_adapted_module\n",
    "from execution import execute_test\n",
    "from stimulus_sheet_reader import get_stimulus_sheet\n",
    "from solr_parser import parse_solr_response\n",
    "from solr_query import translate_to_solr_query\n",
    "from lql.antlr_parser import parse_interface_spec\n",
    "import pysolr"
   ]
  },
  {
   "cell_type": "code",
   "execution_count": 2,
   "metadata": {},
   "outputs": [
    {
     "name": "stdout",
     "output_type": "stream",
     "text": [
      "Interface Specification: InterfaceSpecification(className=Calculator, constructors=[MethodSignature(methodName=Calculator, returnType=None, parameterTypes=['int'])], methods=[MethodSignature(methodName=log, returnType=float, parameterTypes=['int', 'int']), MethodSignature(methodName=sqrd, returnType=str, parameterTypes=['int'])])\n"
     ]
    }
   ],
   "source": [
    "lql_string = \"\"\"\n",
    "Calculator {\n",
    "    Calculator(int)->None\n",
    "    log(int, int)->float\n",
    "    sqrd(int)->str\n",
    "}\n",
    "\"\"\"\n",
    "interfaceSpecification = parse_interface_spec(lql_string)"
   ]
  },
  {
   "cell_type": "code",
   "execution_count": 3,
   "metadata": {},
   "outputs": [
    {
     "name": "stdout",
     "output_type": "stream",
     "text": [
      "QUERY: (name:log~0.1 AND (arguments.datatype:('int') AND arguments.datatype:('int'))) OR (name:log~0.1 AND count_positional_args:(2)) OR (name:sqrd~0.1 AND (arguments.datatype:('int'))) OR (name:sqrd~0.1 AND count_positional_args:(1))&group=true&group.field=module\n",
      "Found 3 results\n",
      "numpy.lib.scimath\n",
      "numpy.core.defchararray\n",
      "Generated 2 ModuleUnderTest objects.\n"
     ]
    }
   ],
   "source": [
    "solr_url = \"http://localhost:8983/solr/lasso_quickstart\"\n",
    "solr = pysolr.Solr(solr_url)\n",
    "solr_query = translate_to_solr_query(interfaceSpecification)\n",
    "print(\"QUERY:\", solr_query)\n",
    "results = solr.search(solr_query)\n",
    "print(f\"Found {len(results)} results\")\n",
    "\n",
    "allModulesUnderTest = parse_solr_response(results)\n",
    "moduleUnderTest = allModulesUnderTest[0]"
   ]
  },
  {
   "cell_type": "code",
   "execution_count": 4,
   "metadata": {},
   "outputs": [
    {
     "name": "stdout",
     "output_type": "stream",
     "text": [
      "\n",
      "\u001b[95m--------------------\n",
      "IDENTIFY ADAPTATIONS\n",
      "--------------------\u001b[0m\n",
      "\n",
      "                  sqrt                            logn\n",
      "log              None  [NameRtrnConvr, NameRtrnPerm*]\n",
      "sqrd  [NameRtrnConvr]                            None \n",
      "\n"
     ]
    }
   ],
   "source": [
    "adaptationHandler = AdaptationHandler(interfaceSpecification, moduleUnderTest, excludeClasses=False, useFunctionDefaultValues=False)\n",
    "adaptationHandler.identifyAdaptations(maxParamPermutationTries=2)\n",
    "adaptationHandler.visualizeAdaptations()"
   ]
  },
  {
   "cell_type": "code",
   "execution_count": 5,
   "metadata": {},
   "outputs": [
    {
     "name": "stdout",
     "output_type": "stream",
     "text": [
      "Generated 2 potential mappings.\n",
      "[log->logn via NameRtrnConvr][sqrd->sqrt via NameRtrnConvr] | distance=6\n",
      "[log->logn via NameRtrnPerm*][sqrd->sqrt via NameRtrnConvr] | distance=6\n"
     ]
    }
   ],
   "source": [
    "adaptationHandler.generateMappings(onlyKeepTopN=10)"
   ]
  },
  {
   "cell_type": "code",
   "execution_count": 6,
   "metadata": {},
   "outputs": [
    {
     "name": "stdout",
     "output_type": "stream",
     "text": [
      "\n",
      "-----------------------------\n",
      "TRYING ADAPTATION FOR MAPPING [log->logn via NameRtrnConvr][sqrd->sqrt via NameRtrnConvr] | distance=6.\n",
      "-----------------------------\n",
      "Trying to adapt return type of <function logn at 0x7fb31367b550> to float.\n",
      "Trying to adapt parameter types of <function logn at 0x7fb31367b550> to ['Any', 'Any'].\n",
      "Created adapted wrapper function.\n",
      "Adapted name of function <function adapt_function.<locals>.decorator.<locals>.wrapper at 0x7fb315349790> to log.\n",
      "Trying to adapt return type of <function sqrt at 0x7fb31367b310> to str.\n",
      "Trying to adapt parameter types of <function sqrt at 0x7fb31367b310> to ['Any'].\n",
      "Created adapted wrapper function.\n",
      "Adapted name of function <function adapt_function.<locals>.decorator.<locals>.wrapper at 0x7fb3153499d0> to sqrd.\n",
      "\u001b[92mSuccessful creation of submodule 0 for this mapping.\u001b[0m\n",
      "\n",
      "-----------------------------\n",
      "TRYING ADAPTATION FOR MAPPING [log->logn via NameRtrnPerm*][sqrd->sqrt via NameRtrnConvr] | distance=6.\n",
      "-----------------------------\n",
      "Trying to adapt return type of <function logn at 0x7fb31367b550> to float.\n",
      "Trying to blindly adapt parameter order of <function logn at 0x7fb31367b550>.\n",
      "Created adapted wrapper function.\n",
      "Adapted name of function <function adapt_function.<locals>.decorator.<locals>.wrapper at 0x7fb315349a60> to log.\n",
      "Trying to adapt return type of <function sqrt at 0x7fb31367b310> to str.\n",
      "Trying to adapt parameter types of <function sqrt at 0x7fb31367b310> to ['Any'].\n",
      "Created adapted wrapper function.\n",
      "Adapted name of function <function adapt_function.<locals>.decorator.<locals>.wrapper at 0x7fb315349b80> to sqrd.\n",
      "\u001b[92mSuccessful creation of submodule 1 for this mapping.\u001b[0m\n",
      "\n",
      "2/2 adapted mappings.\n"
     ]
    }
   ],
   "source": [
    "(adapted_module, successful_mappings)  = create_adapted_module(adaptationHandler, moduleUnderTest.moduleName, use_constructor_default_values=True)"
   ]
  },
  {
   "cell_type": "code",
   "execution_count": 7,
   "metadata": {},
   "outputs": [
    {
     "name": "stdout",
     "output_type": "stream",
     "text": [
      "\n",
      "\u001b[96m----------------------\n",
      "EXECUTE STIMULUS SHEET\n",
      "----------------------\u001b[0m\n",
      "Module: numpy.lib.scimath\n",
      "Number of submodules: 2\n",
      "\n",
      "    output_param method_name  instance_param input_params\n",
      "1         343.0        sqrd             NaN        [7.0]\n",
      "2           1.0         log             NaN   [3.0, 2.0]\n",
      "\n",
      "[log->logn via NameRtrnConvr][sqrd->sqrt via NameRtrnConvr] | distance=6\n",
      "\t\u001b[96msqrd(7.0): 2.6457513110645907\u001b[0m, Time: 621 microseconds. Covered lines: 6 in file, 2 in function (100.0% of function lines). Covered arcs: 9 in file, 3 in function.\n",
      "\t\u001b[96mlog(3.0, 2.0): 0.6309297535714574\u001b[0m, Time: 587 microseconds. Covered lines: 7 in file, 3 in function (100.0% of function lines). Covered arcs: 10 in file, 4 in function.\n",
      "\n",
      "[log->logn via NameRtrnPerm*][sqrd->sqrt via NameRtrnConvr] | distance=6\n",
      "\t\u001b[96msqrd(7.0): 2.6457513110645907\u001b[0m, Time: 565 microseconds. Covered lines: 6 in file, 2 in function (100.0% of function lines). Covered arcs: 9 in file, 3 in function.\n",
      "\t\u001b[96mlog(3.0, 2.0): 1.5849625007211563\u001b[0m, Time: 622 microseconds. Covered lines: 7 in file, 3 in function (100.0% of function lines). Covered arcs: 10 in file, 4 in function.\n",
      "\n"
     ]
    }
   ],
   "source": [
    "stimulus_sheet = get_stimulus_sheet(\"calc4_demo.csv\")\n",
    "allSequenceExecutionRecords = execute_test(stimulus_sheet, adapted_module, successful_mappings, interfaceSpecification)\n",
    "for sequenceExecutionRecord in allSequenceExecutionRecords:\n",
    "    print(sequenceExecutionRecord)"
   ]
  }
 ],
 "metadata": {
  "kernelspec": {
   "display_name": "Python 3",
   "language": "python",
   "name": "python3"
  },
  "language_info": {
   "codemirror_mode": {
    "name": "ipython",
    "version": 3
   },
   "file_extension": ".py",
   "mimetype": "text/x-python",
   "name": "python",
   "nbconvert_exporter": "python",
   "pygments_lexer": "ipython3",
   "version": "3.9.9"
  }
 },
 "nbformat": 4,
 "nbformat_minor": 2
}
