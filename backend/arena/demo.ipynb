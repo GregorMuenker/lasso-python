{
 "cells": [
  {
   "cell_type": "code",
   "execution_count": 1,
   "metadata": {},
   "outputs": [],
   "source": [
    "from adaptation import AdaptationHandler, create_adapted_module\n",
    "from execution import execute_test\n",
    "from stimulus_sheet_reader import get_stimulus_sheet\n",
    "from solr_parser import parse_solr_response\n",
    "from solr_query import translate_to_solr_query\n",
    "from lql_parser import parse_interface_spec\n",
    "import pysolr"
   ]
  },
  {
   "cell_type": "code",
   "execution_count": 2,
   "metadata": {},
   "outputs": [
    {
     "name": "stdout",
     "output_type": "stream",
     "text": [
      "InterfaceSpecification(className=Calculator, constructors=[MethodSignature(methodName=Calculator, returnType=None, parameterTypes=['int'])], methods=[MethodSignature(methodName=log, returnType=float, parameterTypes=['int', 'int']), MethodSignature(methodName=sqrd, returnType=str, parameterTypes=['int'])])\n"
     ]
    }
   ],
   "source": [
    "lql_string = \"\"\"\n",
    "Calculator {\n",
    "    Calculator(int)->None\n",
    "    log(int, int)->float\n",
    "    sqrd(int)->str\n",
    "}\n",
    "\"\"\"\n",
    "interfaceSpecification = parse_interface_spec(lql_string)\n",
    "print(interfaceSpecification)"
   ]
  },
  {
   "cell_type": "code",
   "execution_count": 3,
   "metadata": {},
   "outputs": [
    {
     "name": "stdout",
     "output_type": "stream",
     "text": [
      "QUERY: (name:log~0.1 AND (arguments.datatype:('int') AND arguments.datatype:('int'))) OR (name:log~0.1 AND count_positional_args:(2)) OR (name:sqrd~0.1 AND (arguments.datatype:('int'))) OR (name:sqrd~0.1 AND count_positional_args:(1)) OR (name:__init__ OR name:__new__ AND (arguments.datatype:('int'))) OR ((name:__init__ OR name:__new) AND count_positional_args:(1))&group=true&group.field=module\n",
      "Found 10 results\n",
      "numpy.lib.scimath\n",
      "urllib3.connection\n",
      "urllib3.response\n",
      "numpy.distutils.ccompiler_opt\n",
      "numpy.distutils.command.config\n",
      "numpy.distutils.cpuinfo\n",
      "Generated 6 ModuleUnderTest objects.\n"
     ]
    }
   ],
   "source": [
    "solr_url = \"http://localhost:8983/solr/lasso_quickstart\"\n",
    "solr = pysolr.Solr(solr_url)\n",
    "solr_query = translate_to_solr_query(interfaceSpecification)\n",
    "print(\"QUERY:\", solr_query)\n",
    "results = solr.search(solr_query)\n",
    "print(f\"Found {len(results)} results\")\n",
    "\n",
    "allModulesUnderTest = parse_solr_response(results)\n",
    "moduleUnderTest = allModulesUnderTest[0]"
   ]
  },
  {
   "cell_type": "code",
   "execution_count": 4,
   "metadata": {},
   "outputs": [
    {
     "name": "stdout",
     "output_type": "stream",
     "text": [
      "\n",
      "\u001b[95m-----------------\n",
      "IDENTIFY MAPPINGS\n",
      "-----------------\u001b[0m\n",
      "\n",
      "                  sqrt                            logn\n",
      "log              None  [NameRtrnConvr, NameRtrnPerm*]\n",
      "sqrd  [NameRtrnConvr]                            None \n",
      "\n"
     ]
    }
   ],
   "source": [
    "adaptationHandler = AdaptationHandler(interfaceSpecification, moduleUnderTest, excludeClasses=False, useFunctionDefaultValues=False)\n",
    "adaptationHandler.identifyAdaptations(maxParamPermutationTries=2)\n",
    "adaptationHandler.visualizeAdaptations()"
   ]
  },
  {
   "cell_type": "code",
   "execution_count": 5,
   "metadata": {},
   "outputs": [
    {
     "name": "stdout",
     "output_type": "stream",
     "text": [
      "Generated 2 potential mappings.\n",
      "[log->logn via NameRtrnPerm*][sqrd->sqrt via NameRtrnConvr] | score=16\n",
      "[log->logn via NameRtrnConvr][sqrd->sqrt via NameRtrnConvr] | score=9\n"
     ]
    }
   ],
   "source": [
    "adaptationHandler.generateMappings(onlyKeepTopN=10)"
   ]
  },
  {
   "cell_type": "code",
   "execution_count": 6,
   "metadata": {},
   "outputs": [
    {
     "name": "stdout",
     "output_type": "stream",
     "text": [
      "\n",
      "-----------------------------\n",
      "TRYING ADAPTATION FOR MAPPING [log->logn via NameRtrnPerm*][sqrd->sqrt via NameRtrnConvr] | score=16.\n",
      "-----------------------------\n",
      "Trying to adapt return type of <function logn at 0x7fe246d765e0> to float.\n",
      "Trying to blindly adapt parameter order of <function logn at 0x7fe246d765e0>.\n",
      "Created adapted wrapper function.\n",
      "Adapted name of function <function adapt_function.<locals>.decorator.<locals>.wrapper at 0x7fe24868ad30> to log.\n",
      "Trying to adapt return type of <function sqrt at 0x7fe246d763a0> to str.\n",
      "Trying to adapt parameter types of <function sqrt at 0x7fe246d763a0> to ['Any'].\n",
      "Created adapted wrapper function.\n",
      "Adapted name of function <function adapt_function.<locals>.decorator.<locals>.wrapper at 0x7fe24868aee0> to sqrd.\n",
      "\u001b[92mSuccessful creation of submodule 0 for this mapping.\u001b[0m\n",
      "\n",
      "-----------------------------\n",
      "TRYING ADAPTATION FOR MAPPING [log->logn via NameRtrnConvr][sqrd->sqrt via NameRtrnConvr] | score=9.\n",
      "-----------------------------\n",
      "Trying to adapt return type of <function logn at 0x7fe246d765e0> to float.\n",
      "Trying to adapt parameter types of <function logn at 0x7fe246d765e0> to ['Any', 'Any'].\n",
      "Created adapted wrapper function.\n",
      "Adapted name of function <function adapt_function.<locals>.decorator.<locals>.wrapper at 0x7fe248719040> to log.\n",
      "Trying to adapt return type of <function sqrt at 0x7fe246d763a0> to str.\n",
      "Trying to adapt parameter types of <function sqrt at 0x7fe246d763a0> to ['Any'].\n",
      "Created adapted wrapper function.\n",
      "Adapted name of function <function adapt_function.<locals>.decorator.<locals>.wrapper at 0x7fe248719160> to sqrd.\n",
      "\u001b[92mSuccessful creation of submodule 1 for this mapping.\u001b[0m\n",
      "\n",
      "2/2 adapted mappings.\n"
     ]
    }
   ],
   "source": [
    "(adapted_module, successful_mappings)  = create_adapted_module(adaptationHandler, moduleUnderTest.moduleName, use_constructor_default_values=True)"
   ]
  },
  {
   "cell_type": "code",
   "execution_count": 7,
   "metadata": {},
   "outputs": [
    {
     "name": "stdout",
     "output_type": "stream",
     "text": [
      "\n",
      "\u001b[96m----------------------\n",
      "EXECUTE STIMULUS SHEET\n",
      "----------------------\u001b[0m\n",
      "Module: numpy.lib.scimath\n",
      "\n",
      "    output_param method_name  instance_param input_params\n",
      "1         343.0        sqrd             NaN        [7.0]\n",
      "2           1.0         log             NaN   [3.0, 2.0]\n",
      "\n",
      "0 [log->logn via NameRtrnPerm*][sqrd->sqrt via NameRtrnConvr] | score=16\t\n",
      "\t\u001b[93msqrd(7.0): 2.6457513110645907\u001b[0m, Lines: 6 total, 2/3 in function. Arcs: 9 total, 3 in function.\n",
      "\t\u001b[93mlog(3.0, 2.0): 1.5849625007211563\u001b[0m, Lines: 7 total, 3/4 in function. Arcs: 10 total, 4 in function.\n",
      "1 [log->logn via NameRtrnConvr][sqrd->sqrt via NameRtrnConvr] | score=9\t\n",
      "\t\u001b[93msqrd(7.0): 2.6457513110645907\u001b[0m, Lines: 6 total, 2/3 in function. Arcs: 9 total, 3 in function.\n",
      "\t\u001b[93mlog(3.0, 2.0): 0.6309297535714574\u001b[0m, Lines: 7 total, 3/4 in function. Arcs: 10 total, 4 in function.\n"
     ]
    }
   ],
   "source": [
    "stimulus_sheet = get_stimulus_sheet(\"calc4.csv\")\n",
    "execute_test(stimulus_sheet, adapted_module, successful_mappings)"
   ]
  }
 ],
 "metadata": {
  "kernelspec": {
   "display_name": "Python 3",
   "language": "python",
   "name": "python3"
  },
  "language_info": {
   "codemirror_mode": {
    "name": "ipython",
    "version": 3
   },
   "file_extension": ".py",
   "mimetype": "text/x-python",
   "name": "python",
   "nbconvert_exporter": "python",
   "pygments_lexer": "ipython3",
   "version": "3.9.9"
  }
 },
 "nbformat": 4,
 "nbformat_minor": 2
}
