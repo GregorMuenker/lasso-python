{
 "cells": [
  {
   "cell_type": "code",
   "id": "initial_id",
   "metadata": {
    "collapsed": true,
    "ExecuteTime": {
     "end_time": "2024-07-19T07:24:17.373280Z",
     "start_time": "2024-07-19T07:24:17.346192Z"
    }
   },
   "source": [
    "import ast\n",
    "import inspect\n",
    "import importlib\n",
    "\n",
    "sub_module = importlib.import_module(\"urllib3.connection\")\n",
    "source = inspect.getsource(sub_module)\n",
    "tree = ast.parse(source)"
   ],
   "outputs": [
    {
     "name": "stderr",
     "output_type": "stream",
     "text": [
      "/Users/maxlautenbach/Documents/GitHub/lasso-python/venv/lib/python3.9/site-packages/urllib3/__init__.py:35: NotOpenSSLWarning: urllib3 v2 only supports OpenSSL 1.1.1+, currently the 'ssl' module is compiled with 'LibreSSL 2.8.3'. See: https://github.com/urllib3/urllib3/issues/3020\n",
      "  warnings.warn(\n"
     ]
    }
   ],
   "execution_count": 1
  },
  {
   "metadata": {},
   "cell_type": "code",
   "outputs": [],
   "execution_count": null,
   "source": "tree.body[38].body",
   "id": "ceefd809110d3bcc"
  },
  {
   "metadata": {
    "ExecuteTime": {
     "end_time": "2024-07-19T07:38:50.892552Z",
     "start_time": "2024-07-19T07:38:50.888923Z"
    }
   },
   "cell_type": "code",
   "source": "init_f = tree.body[38].body[13]",
   "id": "b54970a94f479ae7",
   "outputs": [],
   "execution_count": 10
  },
  {
   "metadata": {
    "ExecuteTime": {
     "end_time": "2024-07-19T07:46:38.850009Z",
     "start_time": "2024-07-19T07:46:38.838373Z"
    }
   },
   "cell_type": "code",
   "source": "print(ast.get_source_segment(source, init_f.args.args[1]))",
   "id": "7899e569b1d1b9d3",
   "outputs": [
    {
     "name": "stdout",
     "output_type": "stream",
     "text": [
      "host: str\n"
     ]
    }
   ],
   "execution_count": 15
  },
  {
   "metadata": {
    "ExecuteTime": {
     "end_time": "2024-07-19T10:23:31.958267Z",
     "start_time": "2024-07-19T10:23:31.953909Z"
    }
   },
   "cell_type": "code",
   "source": [
    "with open(\"test_packages/calculator-0.0.1/calculator/base_functions.py\") as file:\n",
    "    source = file.read()\n",
    "    tree = ast.parse(source)"
   ],
   "id": "b6a3e06a81eac091",
   "outputs": [],
   "execution_count": 27
  },
  {
   "metadata": {
    "ExecuteTime": {
     "end_time": "2024-07-19T10:23:41.240774Z",
     "start_time": "2024-07-19T10:23:41.237725Z"
    }
   },
   "cell_type": "code",
   "source": "ast.get_source_segment(source, tree.body[2].returns) ",
   "id": "9c9b5f741a9707e3",
   "outputs": [
    {
     "data": {
      "text/plain": [
       "'int'"
      ]
     },
     "execution_count": 29,
     "metadata": {},
     "output_type": "execute_result"
    }
   ],
   "execution_count": 29
  },
  {
   "metadata": {},
   "cell_type": "code",
   "outputs": [],
   "execution_count": null,
   "source": "",
   "id": "4aee9ebe5b8f007d"
  }
 ],
 "metadata": {
  "kernelspec": {
   "display_name": "Python 3",
   "language": "python",
   "name": "python3"
  },
  "language_info": {
   "codemirror_mode": {
    "name": "ipython",
    "version": 2
   },
   "file_extension": ".py",
   "mimetype": "text/x-python",
   "name": "python",
   "nbconvert_exporter": "python",
   "pygments_lexer": "ipython2",
   "version": "2.7.6"
  }
 },
 "nbformat": 4,
 "nbformat_minor": 5
}
