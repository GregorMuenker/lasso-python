{
 "cells": [
  {
   "metadata": {
    "ExecuteTime": {
     "end_time": "2024-09-11T16:17:11.701011Z",
     "start_time": "2024-09-11T16:17:11.615813Z"
    }
   },
   "cell_type": "code",
   "source": [
    "import json\n",
    "import os\n",
    "from backend.constants import *\n",
    "\n",
    "file = open('../../arena/evaluation_sanitized-mbpp.json', 'r')\n",
    "tasks = json.load(file)  \n",
    "\n",
    "\n",
    "code = \"\"\n",
    "for task in tasks:\n",
    "    code += task[\"code\"] + \"\\n\\n\""
   ],
   "id": "f96424bf37ad28cb",
   "outputs": [],
   "execution_count": 1
  },
  {
   "metadata": {
    "ExecuteTime": {
     "end_time": "2024-09-11T16:17:11.706068Z",
     "start_time": "2024-09-11T16:17:11.702156Z"
    }
   },
   "cell_type": "code",
   "source": [
    "import os\n",
    "import uuid\n",
    "\n",
    "# Define the folder and file structure\n",
    "version_folder = \"lasso-llm-0.0.1\"\n",
    "subfolder = \"lasso_llm\"\n",
    "file_name = f\"{uuid.uuid4()}.py\"\n",
    "\n",
    "# Full path creation\n",
    "full_path = os.path.join(INSTALLED, version_folder, subfolder)\n",
    "os.makedirs(full_path, exist_ok=True)\n",
    "\n",
    "# Full path to the file\n",
    "file_path = os.path.join(full_path, file_name)\n",
    "\n",
    "# Write the content of the `code` variable into the Python file\n",
    "with open(file_path, 'w') as file:\n",
    "    file.write(code)\n",
    "    \n",
    "# Create an __init__.py file to make the subfolder a package, including the version\n",
    "init_file_path = os.path.join(full_path, '__init__.py')\n",
    "with open(init_file_path, 'w') as init_file:\n",
    "    init_file.write(f'\"\"\"lasso-llm package.\"\"\"\\n')\n",
    "    init_file.write(f'__version__ = \"0.0.1\"\\n')\n",
    "\n",
    "print(f\"File created at: {file_path}\")"
   ],
   "id": "c62a27d32d200337",
   "outputs": [
    {
     "name": "stdout",
     "output_type": "stream",
     "text": [
      "File created at: /Users/maxlautenbach/Documents/GitHub/lasso-python/backend/crawl/installed/lasso-llm-0.0.1/lasso_llm/239a4f90-d701-4922-a376-c3c17847804b.py\n"
     ]
    }
   ],
   "execution_count": 2
  },
  {
   "metadata": {
    "ExecuteTime": {
     "end_time": "2024-09-11T16:17:11.725620Z",
     "start_time": "2024-09-11T16:17:11.706835Z"
    }
   },
   "cell_type": "code",
   "source": [
    "from backend.crawl import import_helper\n",
    "\n",
    "imp_helper = import_helper.ImportHelper()\n",
    "imp_helper.pre_load_package(\"lasso-llm\", \"0.0.1\")"
   ],
   "id": "7f0ca53b21998ca1",
   "outputs": [],
   "execution_count": 3
  },
  {
   "metadata": {
    "ExecuteTime": {
     "end_time": "2024-09-11T16:17:11.728758Z",
     "start_time": "2024-09-11T16:17:11.726958Z"
    }
   },
   "cell_type": "code",
   "source": "import lasso_llm",
   "id": "d62c906ce778c1ac",
   "outputs": [],
   "execution_count": 4
  },
  {
   "metadata": {
    "ExecuteTime": {
     "end_time": "2024-09-11T16:17:11.873567Z",
     "start_time": "2024-09-11T16:17:11.729405Z"
    }
   },
   "cell_type": "code",
   "source": [
    "from backend.crawl.splitting import get_module_index\n",
    "\n",
    "index = get_module_index(\"lasso_llm\",\"lasso_llm\",\"0.0.1\")"
   ],
   "id": "ee46f817302d1a7a",
   "outputs": [
    {
     "name": "stdout",
     "output_type": "stream",
     "text": [
      "lasso_llm indexed\n"
     ]
    }
   ],
   "execution_count": 5
  },
  {
   "metadata": {
    "ExecuteTime": {
     "end_time": "2024-09-11T16:17:11.925774Z",
     "start_time": "2024-09-11T16:17:11.874253Z"
    }
   },
   "cell_type": "code",
   "source": [
    "from backend.crawl.nexus import Package, Nexus\n",
    "\n",
    "pkg = Package(\"lasso-llm\", \"0.0.1\")\n",
    "pkg.compress()\n",
    "nexus = Nexus()\n",
    "nexus.upload(pkg)"
   ],
   "id": "2dac06ccf929d3b1",
   "outputs": [
    {
     "name": "stdout",
     "output_type": "stream",
     "text": [
      "Nexus is up and running!\n",
      "Failed to upload /Users/maxlautenbach/Documents/GitHub/lasso-python/backend/crawl/installed/lasso-llm-0.0.1.tar.gz. HTTP Status Code: 404\n"
     ]
    },
    {
     "data": {
      "text/plain": [
       "False"
      ]
     },
     "execution_count": 6,
     "metadata": {},
     "output_type": "execute_result"
    }
   ],
   "execution_count": 6
  },
  {
   "metadata": {
    "ExecuteTime": {
     "end_time": "2024-09-11T16:17:11.927952Z",
     "start_time": "2024-09-11T16:17:11.926545Z"
    }
   },
   "cell_type": "code",
   "source": "",
   "id": "817945c61c9cd965",
   "outputs": [],
   "execution_count": 6
  }
 ],
 "metadata": {
  "kernelspec": {
   "display_name": "Python 3",
   "language": "python",
   "name": "python3"
  },
  "language_info": {
   "codemirror_mode": {
    "name": "ipython",
    "version": 2
   },
   "file_extension": ".py",
   "mimetype": "text/x-python",
   "name": "python",
   "nbconvert_exporter": "python",
   "pygments_lexer": "ipython2",
   "version": "2.7.6"
  }
 },
 "nbformat": 4,
 "nbformat_minor": 5
}
