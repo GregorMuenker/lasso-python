{
 "cells": [
  {
   "metadata": {
    "ExecuteTime": {
     "end_time": "2024-09-11T18:42:34.037594Z",
     "start_time": "2024-09-11T18:42:34.034258Z"
    }
   },
   "cell_type": "code",
   "source": "llm_file = \"../../arena/evaluation_sanitized-mbpp.json\"",
   "id": "817945c61c9cd965",
   "outputs": [],
   "execution_count": 52
  },
  {
   "metadata": {
    "ExecuteTime": {
     "end_time": "2024-09-11T18:42:34.288402Z",
     "start_time": "2024-09-11T18:42:34.282367Z"
    }
   },
   "cell_type": "code",
   "source": [
    "import json\n",
    "\n",
    "file = open(llm_file, 'r')\n",
    "tasks = json.load(file)"
   ],
   "id": "7e6cfaf4d8ff47ed",
   "outputs": [],
   "execution_count": 53
  },
  {
   "metadata": {
    "ExecuteTime": {
     "end_time": "2024-09-11T18:42:34.516610Z",
     "start_time": "2024-09-11T18:42:34.513261Z"
    }
   },
   "cell_type": "code",
   "source": [
    "task = tasks[0]\n",
    "tests = task[\"test_list\"]\n",
    "test = tests[0]"
   ],
   "id": "c05dff44ce686af",
   "outputs": [],
   "execution_count": 54
  },
  {
   "metadata": {
    "ExecuteTime": {
     "end_time": "2024-09-11T18:42:34.948305Z",
     "start_time": "2024-09-11T18:42:34.945924Z"
    }
   },
   "cell_type": "code",
   "source": [
    "import ast\n",
    "\n",
    "test_ast = ast.parse(test).body[0]"
   ],
   "id": "39be19cff45f4e22",
   "outputs": [],
   "execution_count": 55
  },
  {
   "metadata": {
    "ExecuteTime": {
     "end_time": "2024-09-11T18:12:09.515806Z",
     "start_time": "2024-09-11T18:12:09.512902Z"
    }
   },
   "cell_type": "code",
   "source": "ast.get_source_segment(test, test_ast.test.left)",
   "id": "2c4e47a5be4b002b",
   "outputs": [
    {
     "data": {
      "text/plain": [
       "'set(similar_elements((3, 4, 5, 6),(5, 7, 4, 10)))'"
      ]
     },
     "execution_count": 30,
     "metadata": {},
     "output_type": "execute_result"
    }
   ],
   "execution_count": 30
  },
  {
   "metadata": {
    "ExecuteTime": {
     "end_time": "2024-09-11T18:35:02.388865Z",
     "start_time": "2024-09-11T18:35:02.381468Z"
    }
   },
   "cell_type": "code",
   "source": [
    "import builtins\n",
    "\n",
    "def create_sequence_sheet_entries(test, element):\n",
    "    global cell_number\n",
    "    sequence_sheet = []\n",
    "    if type(element) == ast.Call:\n",
    "        args = []\n",
    "        for arg in element.args:\n",
    "            if type(arg) == ast.Call:\n",
    "                sequence_sheet += create_sequence_sheet_entries(test, arg)\n",
    "                args.append(f\"A{cell_number-1}\")\n",
    "            else:\n",
    "                args.append(ast.get_source_segment(test, arg))\n",
    "        function_name = element.func.id\n",
    "        if function_name in dir(builtins):\n",
    "            function_name = \"python.\" + function_name\n",
    "        sequence_sheet.append([f\"A{cell_number}\", function_name] + [args])\n",
    "    cell_number += 1\n",
    "    return sequence_sheet\n",
    "\n",
    "cell_number = 1\n",
    "create_sequence_sheet_entries(test, test_ast.test.left)"
   ],
   "id": "ac87df30ffd53cb2",
   "outputs": [
    {
     "data": {
      "text/plain": [
       "[['A1', 'similar_elements', ['(3, 4, 5, 6)', '(5, 7, 4, 10)']],\n",
       " ['A2', 'python.set', ['A1']]]"
      ]
     },
     "execution_count": 45,
     "metadata": {},
     "output_type": "execute_result"
    }
   ],
   "execution_count": 45
  },
  {
   "metadata": {
    "ExecuteTime": {
     "end_time": "2024-09-11T18:35:46.185340Z",
     "start_time": "2024-09-11T18:35:46.182475Z"
    }
   },
   "cell_type": "code",
   "source": [
    "cell_number = 1\n",
    "create_sequence_sheet_entries(test, test_ast.test.comparators[0])"
   ],
   "id": "e16ea26fc47c0cd",
   "outputs": [
    {
     "data": {
      "text/plain": [
       "[['A1', 'python.set', ['(4, 5)']]]"
      ]
     },
     "execution_count": 46,
     "metadata": {},
     "output_type": "execute_result"
    }
   ],
   "execution_count": 46
  },
  {
   "metadata": {
    "ExecuteTime": {
     "end_time": "2024-09-11T18:47:47.475766Z",
     "start_time": "2024-09-11T18:47:47.472440Z"
    }
   },
   "cell_type": "code",
   "source": [
    "sequence_sheets = []\n",
    "for task in tasks[:2]:\n",
    "    tests = task[\"test_list\"]\n",
    "    sequence_sheet = []\n",
    "    for test in tests:\n",
    "        test_ast = ast.parse(test).body[0].test\n",
    "        if type(test_ast) == ast.Compare:\n",
    "            cell_number = 1\n",
    "            left = create_sequence_sheet_entries(test, test_ast.left)\n",
    "            cell_number = 1\n",
    "            right = create_sequence_sheet_entries(test, test_ast.comparators[0])\n",
    "            sequence_sheet += (left + right)\n",
    "    sequence_sheets.append(sequence_sheet)"
   ],
   "id": "d3f1a0ad7b275b10",
   "outputs": [],
   "execution_count": 60
  },
  {
   "metadata": {},
   "cell_type": "code",
   "outputs": [],
   "execution_count": null,
   "source": "",
   "id": "5e4a77b05cb023b3"
  }
 ],
 "metadata": {
  "kernelspec": {
   "display_name": "Python 3",
   "language": "python",
   "name": "python3"
  },
  "language_info": {
   "codemirror_mode": {
    "name": "ipython",
    "version": 2
   },
   "file_extension": ".py",
   "mimetype": "text/x-python",
   "name": "python",
   "nbconvert_exporter": "python",
   "pygments_lexer": "ipython2",
   "version": "2.7.6"
  }
 },
 "nbformat": 4,
 "nbformat_minor": 5
}
