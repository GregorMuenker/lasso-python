{
 "cells": [
  {
   "metadata": {
    "ExecuteTime": {
     "end_time": "2024-09-14T08:36:02.276533Z",
     "start_time": "2024-09-14T08:36:02.273189Z"
    }
   },
   "cell_type": "code",
   "source": [
    "import ast\n",
    "\n",
    "source = \"a = -5\"\n",
    "tree = ast.parse(source)"
   ],
   "id": "bbb1bd7079b44c1b",
   "outputs": [],
   "execution_count": 9
  },
  {
   "metadata": {
    "ExecuteTime": {
     "end_time": "2024-09-14T08:36:31.298537Z",
     "start_time": "2024-09-14T08:36:31.293816Z"
    }
   },
   "cell_type": "code",
   "source": "type(tree.body[0].value.operand.value)",
   "id": "6b36fb7be1cfeaa9",
   "outputs": [
    {
     "data": {
      "text/plain": [
       "int"
      ]
     },
     "execution_count": 10,
     "metadata": {},
     "output_type": "execute_result"
    }
   ],
   "execution_count": 10
  },
  {
   "metadata": {
    "ExecuteTime": {
     "end_time": "2024-09-14T08:41:28.744379Z",
     "start_time": "2024-09-14T08:41:28.742134Z"
    }
   },
   "cell_type": "code",
   "source": [
    "source = 'int(\\\"15.10\\\")'\n",
    "tree = ast.parse('int(\\'15.10\\')')"
   ],
   "id": "2d192de685a26266",
   "outputs": [],
   "execution_count": 17
  },
  {
   "metadata": {
    "ExecuteTime": {
     "end_time": "2024-09-14T08:43:54.618260Z",
     "start_time": "2024-09-14T08:43:54.615506Z"
    }
   },
   "cell_type": "code",
   "source": "ast.get_source_segment(source, tree.body[0].value.args[0])[1:-1]",
   "id": "cb067ba3a2523126",
   "outputs": [
    {
     "data": {
      "text/plain": [
       "'15.10'"
      ]
     },
     "execution_count": 20,
     "metadata": {},
     "output_type": "execute_result"
    }
   ],
   "execution_count": 20
  },
  {
   "metadata": {
    "ExecuteTime": {
     "end_time": "2024-09-14T09:03:07.786614Z",
     "start_time": "2024-09-14T09:03:07.783847Z"
    }
   },
   "cell_type": "code",
   "source": "bool('False')",
   "id": "1e3834f5e6e7db02",
   "outputs": [
    {
     "data": {
      "text/plain": [
       "True"
      ]
     },
     "execution_count": 22,
     "metadata": {},
     "output_type": "execute_result"
    }
   ],
   "execution_count": 22
  },
  {
   "metadata": {
    "ExecuteTime": {
     "end_time": "2024-09-14T09:30:10.272092Z",
     "start_time": "2024-09-14T09:30:10.267408Z"
    }
   },
   "cell_type": "code",
   "source": [
    "from tqdm import tqdm\n",
    "\n",
    "for i, row in enumerate(tqdm([1,2,3])):\n",
    "    print(row)"
   ],
   "id": "8d54185557eaa0e6",
   "outputs": [
    {
     "name": "stderr",
     "output_type": "stream",
     "text": [
      "100%|██████████| 3/3 [00:00<00:00, 54471.48it/s]"
     ]
    },
    {
     "name": "stdout",
     "output_type": "stream",
     "text": [
      "1\n",
      "2\n",
      "3\n"
     ]
    },
    {
     "name": "stderr",
     "output_type": "stream",
     "text": [
      "\n"
     ]
    }
   ],
   "execution_count": 24
  },
  {
   "metadata": {},
   "cell_type": "code",
   "outputs": [],
   "execution_count": null,
   "source": "",
   "id": "7565ce270d5c7520"
  }
 ],
 "metadata": {
  "kernelspec": {
   "display_name": "Python 3",
   "language": "python",
   "name": "python3"
  },
  "language_info": {
   "codemirror_mode": {
    "name": "ipython",
    "version": 2
   },
   "file_extension": ".py",
   "mimetype": "text/x-python",
   "name": "python",
   "nbconvert_exporter": "python",
   "pygments_lexer": "ipython2",
   "version": "2.7.6"
  }
 },
 "nbformat": 4,
 "nbformat_minor": 5
}
