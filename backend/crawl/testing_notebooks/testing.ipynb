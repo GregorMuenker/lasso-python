{
 "cells": [
  {
   "metadata": {
    "ExecuteTime": {
     "end_time": "2024-09-03T07:24:45.605362Z",
     "start_time": "2024-09-03T07:24:44.920593Z"
    }
   },
   "cell_type": "code",
   "source": [
    "from backend.arena.solr_parser import parse_solr_response\n",
    "from backend.arena import solr_query\n",
    "import pysolr\n",
    "\n",
    "solr_url = \"http://localhost:8983/solr/lasso_quickstart\"\n",
    "solr = pysolr.Solr(solr_url, always_commit=True)"
   ],
   "id": "5bd7b851de339840",
   "outputs": [],
   "execution_count": 2
  },
  {
   "metadata": {
    "ExecuteTime": {
     "end_time": "2024-09-03T07:24:46.267517Z",
     "start_time": "2024-09-03T07:24:46.240998Z"
    }
   },
   "cell_type": "code",
   "source": [
    "from backend.lql.antlr_parser import parse_interface_spec\n",
    "\n",
    "lql_string = \"\"\"\n",
    "    Calculator {\n",
    "        Calculator(int)->None\n",
    "        mean(list)->float\n",
    "    }\n",
    "    \"\"\"\n",
    "\n",
    "interfaceSpecification = parse_interface_spec(lql_string)"
   ],
   "id": "71d34a6cabe83a6e",
   "outputs": [
    {
     "name": "stdout",
     "output_type": "stream",
     "text": [
      "Interface Specification: InterfaceSpecification(className=Calculator, constructors=[MethodSignature(methodName=Calculator, returnType=None, parameterTypes=['int'])], methods=[MethodSignature(methodName=mean, returnType=float, parameterTypes=['list'])])\n"
     ]
    }
   ],
   "execution_count": 3
  },
  {
   "metadata": {
    "ExecuteTime": {
     "end_time": "2024-09-03T07:24:47.713870Z",
     "start_time": "2024-09-03T07:24:47.710529Z"
    }
   },
   "cell_type": "code",
   "source": [
    "import importlib\n",
    "importlib.reload(solr_query)\n",
    "\n",
    "solr_url = \"http://localhost:8983/solr/lasso_quickstart\"\n",
    "solr = pysolr.Solr(solr_url)\n",
    "solr_query = solr_query.translate_to_solr_query(interfaceSpecification)\n",
    "print(\"QUERY:\", solr_query)"
   ],
   "id": "3987342c1189b640",
   "outputs": [
    {
     "name": "stdout",
     "output_type": "stream",
     "text": [
      "QUERY: (method:mean AND (methodSignatureParamsOrderedNodefault:*pt_list*)) OR (method:mean AND count_positional_non_default_args:(1))&group=true&group.field=module\n"
     ]
    }
   ],
   "execution_count": 4
  },
  {
   "metadata": {},
   "cell_type": "code",
   "outputs": [],
   "execution_count": null,
   "source": [
    "results = solr.search(solr_query)\n",
    "print(f\"Found {len(results)} results\")\n",
    "\n",
    "allModulesUnderTest = parse_solr_response(results)\n",
    "moduleUnderTest = allModulesUnderTest[0]"
   ],
   "id": "b7b01714d1293e52"
  }
 ],
 "metadata": {
  "kernelspec": {
   "display_name": "Python 3",
   "language": "python",
   "name": "python3"
  },
  "language_info": {
   "codemirror_mode": {
    "name": "ipython",
    "version": 2
   },
   "file_extension": ".py",
   "mimetype": "text/x-python",
   "name": "python",
   "nbconvert_exporter": "python",
   "pygments_lexer": "ipython2",
   "version": "2.7.6"
  }
 },
 "nbformat": 4,
 "nbformat_minor": 5
}
