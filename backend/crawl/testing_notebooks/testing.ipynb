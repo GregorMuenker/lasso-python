{
 "cells": [
  {
   "metadata": {
    "ExecuteTime": {
     "end_time": "2024-09-03T14:49:07.083109Z",
     "start_time": "2024-09-03T14:49:06.922371Z"
    }
   },
   "cell_type": "code",
   "source": [
    "import pysolr\n",
    "\n",
    "solr_url = \"http://localhost:8983/solr/lasso_quickstart\"\n",
    "solr = pysolr.Solr(solr_url, always_commit=True)"
   ],
   "id": "5bd7b851de339840",
   "outputs": [],
   "execution_count": 1
  },
  {
   "metadata": {
    "ExecuteTime": {
     "end_time": "2024-09-03T14:49:07.728694Z",
     "start_time": "2024-09-03T14:49:07.084936Z"
    }
   },
   "cell_type": "code",
   "source": [
    "from backend.lql.antlr_parser import parse_interface_spec\n",
    "\n",
    "lql_string = \"\"\"\n",
    "    Calculator {\n",
    "        Calculator(int)->None\n",
    "        mean(list)->float\n",
    "        sum(list)->float\n",
    "    }\n",
    "    \"\"\"\n",
    "\n",
    "interfaceSpecification = parse_interface_spec(lql_string)"
   ],
   "id": "71d34a6cabe83a6e",
   "outputs": [
    {
     "name": "stdout",
     "output_type": "stream",
     "text": [
      "Interface Specification: InterfaceSpecification(className=Calculator, constructors=[MethodSignature(methodName=Calculator, returnType=None, parameterTypes=['int'])], methods=[MethodSignature(methodName=mean, returnType=float, parameterTypes=['list']), MethodSignature(methodName=sum, returnType=float, parameterTypes=['list'])])\n"
     ]
    }
   ],
   "execution_count": 2
  },
  {
   "metadata": {
    "ExecuteTime": {
     "end_time": "2024-09-03T14:49:07.740716Z",
     "start_time": "2024-09-03T14:49:07.731431Z"
    }
   },
   "cell_type": "code",
   "source": [
    "from backend.arena import solr_query\n",
    "import importlib\n",
    "importlib.reload(solr_query)\n",
    "\n",
    "solr_url = \"http://localhost:8983/solr/lasso_quickstart\"\n",
    "solr = pysolr.Solr(solr_url)\n",
    "solr_queries = solr_query.translate_to_solr_queries(interfaceSpecification)\n",
    "solr_queries"
   ],
   "id": "3987342c1189b640",
   "outputs": [
    {
     "data": {
      "text/plain": [
       "['(methodSignatureParamsOrderedNodefault:1*) OR (methodSignatureParamsOrderedNodefault:*pt_list*) OR ((method:mean) AND (methodSignatureParamsOrderedNodefault:1*))^2 OR ((method:mean) AND (methodSignatureParamsOrderedNodefault:*pt_list*))^2 OR ((methodSignatureParamsOrderedNodefault:*pt_list*) OR (methodSignatureParamsOrderedNodefault:1*))^3',\n",
       " '(methodSignatureParamsOrderedNodefault:1*) OR (methodSignatureParamsOrderedNodefault:*pt_list*) OR ((method:sum) AND (methodSignatureParamsOrderedNodefault:1*))^2 OR ((method:sum) AND (methodSignatureParamsOrderedNodefault:*pt_list*))^2 OR ((methodSignatureParamsOrderedNodefault:*pt_list*) OR (methodSignatureParamsOrderedNodefault:1*))^3']"
      ]
     },
     "execution_count": 3,
     "metadata": {},
     "output_type": "execute_result"
    }
   ],
   "execution_count": 3
  },
  {
   "metadata": {
    "ExecuteTime": {
     "end_time": "2024-09-03T14:49:07.804175Z",
     "start_time": "2024-09-03T14:49:07.741511Z"
    }
   },
   "cell_type": "code",
   "source": [
    "results = []\n",
    "for query in solr_queries:\n",
    "    results += solr.search(query)"
   ],
   "id": "44af9826a1c77a89",
   "outputs": [],
   "execution_count": 4
  },
  {
   "metadata": {
    "ExecuteTime": {
     "end_time": "2024-09-03T14:49:07.810020Z",
     "start_time": "2024-09-03T14:49:07.805796Z"
    }
   },
   "cell_type": "code",
   "source": [
    "from backend.arena import solr_parser\n",
    "from backend.arena.solr_parser import parse_solr_response\n",
    "importlib.reload(solr_parser)\n",
    "allModulesUnderTest = parse_solr_response(results)\n",
    "moduleUnderTest = allModulesUnderTest[0]"
   ],
   "id": "b7b01714d1293e52",
   "outputs": [
    {
     "name": "stdout",
     "output_type": "stream",
     "text": [
      "numpy._core.fromnumeric\n",
      "numpy._core.arrayprint\n",
      "Generated 2 ModuleUnderTest objects.\n"
     ]
    }
   ],
   "execution_count": 5
  }
 ],
 "metadata": {
  "kernelspec": {
   "display_name": "Python 3",
   "language": "python",
   "name": "python3"
  },
  "language_info": {
   "codemirror_mode": {
    "name": "ipython",
    "version": 2
   },
   "file_extension": ".py",
   "mimetype": "text/x-python",
   "name": "python",
   "nbconvert_exporter": "python",
   "pygments_lexer": "ipython2",
   "version": "2.7.6"
  }
 },
 "nbformat": 4,
 "nbformat_minor": 5
}
