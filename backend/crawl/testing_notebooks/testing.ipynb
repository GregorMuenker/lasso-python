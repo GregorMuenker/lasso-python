{
 "cells": [
  {
   "metadata": {
    "ExecuteTime": {
     "end_time": "2024-08-29T13:57:32.934210Z",
     "start_time": "2024-08-29T13:57:32.309252Z"
    }
   },
   "cell_type": "code",
   "source": [
    "from backend.arena.solr_parser import parse_solr_response\n",
    "from backend.arena.solr_query import translate_to_solr_query\n",
    "import pysolr\n",
    "\n",
    "solr_url = \"http://localhost:8983/solr/lasso_quickstart\"\n",
    "solr = pysolr.Solr(solr_url, always_commit=True)"
   ],
   "id": "5bd7b851de339840",
   "outputs": [],
   "execution_count": 1
  },
  {
   "metadata": {
    "ExecuteTime": {
     "end_time": "2024-08-29T13:57:33.015426Z",
     "start_time": "2024-08-29T13:57:32.992085Z"
    }
   },
   "cell_type": "code",
   "source": [
    "from backend.lql.antlr_parser import parse_interface_spec\n",
    "\n",
    "lql_string = \"\"\"\n",
    "    Calculator {\n",
    "        Calculator(int)->None\n",
    "        mean(list)->float\n",
    "    }\n",
    "    \"\"\"\n",
    "\n",
    "interfaceSpecification = parse_interface_spec(lql_string)"
   ],
   "id": "71d34a6cabe83a6e",
   "outputs": [
    {
     "name": "stdout",
     "output_type": "stream",
     "text": [
      "Interface Specification: InterfaceSpecification(className=Calculator, constructors=[MethodSignature(methodName=Calculator, returnType=None, parameterTypes=['int'])], methods=[MethodSignature(methodName=mean, returnType=float, parameterTypes=['list'])])\n"
     ]
    }
   ],
   "execution_count": 2
  },
  {
   "metadata": {
    "ExecuteTime": {
     "end_time": "2024-08-29T13:57:33.052387Z",
     "start_time": "2024-08-29T13:57:33.016228Z"
    }
   },
   "cell_type": "code",
   "source": [
    "solr_url = \"http://localhost:8983/solr/lasso_quickstart\"\n",
    "solr = pysolr.Solr(solr_url)\n",
    "solr_query = translate_to_solr_query(interfaceSpecification)\n",
    "print(\"QUERY:\", solr_query)\n",
    "results = solr.search(solr_query)\n",
    "print(f\"Found {len(results)} results\")\n",
    "\n",
    "allModulesUnderTest = parse_solr_response(results)\n",
    "moduleUnderTest = allModulesUnderTest[0]"
   ],
   "id": "3987342c1189b640",
   "outputs": [
    {
     "name": "stdout",
     "output_type": "stream",
     "text": [
      "QUERY: (method:mean AND (methodSignatureParameters.datatype:('list'))) OR (method:mean AND count_positional_non_default_args:(1))&group=true&group.field=module\n",
      "Found 1 results\n",
      "numpy._core.fromnumeric\n",
      "Generated 1 ModuleUnderTest objects.\n"
     ]
    }
   ],
   "execution_count": 3
  },
  {
   "metadata": {
    "ExecuteTime": {
     "end_time": "2024-09-01T12:49:41.667448Z",
     "start_time": "2024-09-01T12:49:41.665398Z"
    }
   },
   "cell_type": "code",
   "source": [
    "import ast\n",
    "\n",
    "\n",
    "source = '''\n",
    "@staticmethod\n",
    "def sum(a, b):\n",
    "    return a+b\n",
    "'''\n",
    "tree = ast.parse(source)"
   ],
   "id": "92856e5a78fd5e67",
   "outputs": [],
   "execution_count": 19
  },
  {
   "metadata": {
    "ExecuteTime": {
     "end_time": "2024-09-01T12:50:03.889060Z",
     "start_time": "2024-09-01T12:50:03.885880Z"
    }
   },
   "cell_type": "code",
   "source": "ast.dump(tree.body[0].decorator_list[0])",
   "id": "56db2cdd52aefb9f",
   "outputs": [
    {
     "data": {
      "text/plain": [
       "\"Name(id='staticmethod', ctx=Load())\""
      ]
     },
     "execution_count": 36,
     "metadata": {},
     "output_type": "execute_result"
    }
   ],
   "execution_count": 36
  },
  {
   "metadata": {
    "ExecuteTime": {
     "end_time": "2024-09-01T12:50:04.114233Z",
     "start_time": "2024-09-01T12:50:04.109810Z"
    }
   },
   "cell_type": "code",
   "source": "ast.get_source_segment(source, tree.body[0].decorator_list[0])",
   "id": "b58ae5fa8ab10f3e",
   "outputs": [
    {
     "data": {
      "text/plain": [
       "'staticmethod'"
      ]
     },
     "execution_count": 37,
     "metadata": {},
     "output_type": "execute_result"
    }
   ],
   "execution_count": 37
  },
  {
   "metadata": {
    "ExecuteTime": {
     "end_time": "2024-09-01T13:21:33.601997Z",
     "start_time": "2024-09-01T13:21:33.597720Z"
    }
   },
   "cell_type": "code",
   "source": [
    "import inspect\n",
    "import importlib\n",
    "\n",
    "sub_module = importlib.import_module(\"requests.adapters\")\n",
    "source = inspect.getsource(sub_module)"
   ],
   "id": "57f439f6691ac87a",
   "outputs": [],
   "execution_count": 66
  },
  {
   "metadata": {
    "ExecuteTime": {
     "end_time": "2024-09-01T13:21:33.833485Z",
     "start_time": "2024-09-01T13:21:33.826684Z"
    }
   },
   "cell_type": "code",
   "source": "tree = ast.parse(source)",
   "id": "cbe34711c069544",
   "outputs": [],
   "execution_count": 67
  },
  {
   "metadata": {
    "ExecuteTime": {
     "end_time": "2024-09-01T13:32:00.146862Z",
     "start_time": "2024-09-01T13:32:00.143718Z"
    }
   },
   "cell_type": "code",
   "source": [
    "func = tree.body[33].body[2]\n",
    "ast.dump(tree.body[33].body[2].args.defaults[0])"
   ],
   "id": "10a7b2b70f6a36cd",
   "outputs": [
    {
     "data": {
      "text/plain": [
       "\"Name(id='DEFAULT_POOLSIZE', ctx=Load())\""
      ]
     },
     "execution_count": 75,
     "metadata": {},
     "output_type": "execute_result"
    }
   ],
   "execution_count": 75
  },
  {
   "metadata": {
    "ExecuteTime": {
     "end_time": "2024-09-01T13:32:07.244486Z",
     "start_time": "2024-09-01T13:32:07.238259Z"
    }
   },
   "cell_type": "code",
   "source": "ast.get_source_segment(source, tree.body[33].body[2].args.defaults[0])",
   "id": "a321b18d3fb16617",
   "outputs": [
    {
     "data": {
      "text/plain": [
       "'DEFAULT_POOLSIZE'"
      ]
     },
     "execution_count": 77,
     "metadata": {},
     "output_type": "execute_result"
    }
   ],
   "execution_count": 77
  },
  {
   "metadata": {},
   "cell_type": "code",
   "outputs": [],
   "execution_count": null,
   "source": "",
   "id": "89807bf7de4f0198"
  }
 ],
 "metadata": {
  "kernelspec": {
   "display_name": "Python 3",
   "language": "python",
   "name": "python3"
  },
  "language_info": {
   "codemirror_mode": {
    "name": "ipython",
    "version": 2
   },
   "file_extension": ".py",
   "mimetype": "text/x-python",
   "name": "python",
   "nbconvert_exporter": "python",
   "pygments_lexer": "ipython2",
   "version": "2.7.6"
  }
 },
 "nbformat": 4,
 "nbformat_minor": 5
}
