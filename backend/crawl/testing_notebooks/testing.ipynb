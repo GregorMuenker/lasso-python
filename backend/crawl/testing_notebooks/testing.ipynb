{
 "cells": [
  {
   "metadata": {
    "ExecuteTime": {
     "end_time": "2024-09-13T09:02:48.232531Z",
     "start_time": "2024-09-13T09:02:48.221412Z"
    }
   },
   "cell_type": "code",
   "source": "llm_file = \"../../evaluation/evaluation_sanitized-mbpp.json\"",
   "id": "817945c61c9cd965",
   "outputs": [],
   "execution_count": 70
  },
  {
   "metadata": {
    "ExecuteTime": {
     "end_time": "2024-09-13T09:02:48.257602Z",
     "start_time": "2024-09-13T09:02:48.245617Z"
    }
   },
   "cell_type": "code",
   "source": [
    "import json\n",
    "\n",
    "file = open(llm_file, 'r')\n",
    "tasks = json.load(file)"
   ],
   "id": "7e6cfaf4d8ff47ed",
   "outputs": [],
   "execution_count": 71
  },
  {
   "metadata": {
    "ExecuteTime": {
     "end_time": "2024-09-13T09:02:48.276840Z",
     "start_time": "2024-09-13T09:02:48.272425Z"
    }
   },
   "cell_type": "code",
   "source": [
    "import ast\n",
    "\n",
    "task = tasks[0]\n",
    "task[\"task_id\"]"
   ],
   "id": "c05dff44ce686af",
   "outputs": [
    {
     "data": {
      "text/plain": [
       "2"
      ]
     },
     "execution_count": 72,
     "metadata": {},
     "output_type": "execute_result"
    }
   ],
   "execution_count": 72
  },
  {
   "metadata": {
    "ExecuteTime": {
     "end_time": "2024-09-13T09:02:48.350040Z",
     "start_time": "2024-09-13T09:02:48.347613Z"
    }
   },
   "cell_type": "code",
   "source": "print(\"\\n\".join(task[\"test_list\"]))",
   "id": "16f8e874375773a4",
   "outputs": [
    {
     "name": "stdout",
     "output_type": "stream",
     "text": [
      "assert set(similar_elements((3, 4, 5, 6),(5, 7, 4, 10))) == set((4, 5))\n",
      "assert set(similar_elements((1, 2, 3, 4),(5, 4, 3, 7))) == set((3, 4))\n",
      "assert set(similar_elements((11, 12, 14, 13),(17, 15, 14, 13))) == set((13, 14))\n"
     ]
    }
   ],
   "execution_count": 73
  },
  {
   "metadata": {
    "ExecuteTime": {
     "end_time": "2024-09-13T09:02:48.422767Z",
     "start_time": "2024-09-13T09:02:48.419734Z"
    }
   },
   "cell_type": "code",
   "source": "test_ast = ast.parse(task[\"test_list\"][0])",
   "id": "2d81f1939c94a142",
   "outputs": [],
   "execution_count": 74
  },
  {
   "metadata": {
    "ExecuteTime": {
     "end_time": "2024-09-13T09:02:48.432282Z",
     "start_time": "2024-09-13T09:02:48.430448Z"
    }
   },
   "cell_type": "code",
   "source": "Set()",
   "id": "20dd2801b8305df2",
   "outputs": [],
   "execution_count": null
  }
 ],
 "metadata": {
  "kernelspec": {
   "display_name": "Python 3",
   "language": "python",
   "name": "python3"
  },
  "language_info": {
   "codemirror_mode": {
    "name": "ipython",
    "version": 2
   },
   "file_extension": ".py",
   "mimetype": "text/x-python",
   "name": "python",
   "nbconvert_exporter": "python",
   "pygments_lexer": "ipython2",
   "version": "2.7.6"
  }
 },
 "nbformat": 4,
 "nbformat_minor": 5
}
