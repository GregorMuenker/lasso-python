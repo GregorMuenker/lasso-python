{
 "cells": [
  {
   "cell_type": "code",
   "id": "initial_id",
   "metadata": {
    "collapsed": true,
    "ExecuteTime": {
     "end_time": "2024-08-22T11:01:18.924975Z",
     "start_time": "2024-08-22T11:01:18.799645Z"
    }
   },
   "source": [
    "from backend.crawl import install\n",
    "\n",
    "package = \"scikit-learn\"\n",
    "install_handler = install.installHandler()\n",
    "package, version = install_handler.install(package)"
   ],
   "outputs": [
    {
     "name": "stdout",
     "output_type": "stream",
     "text": [
      "scikit-learn already installed!\n",
      "numpy already installed!\n",
      "numpy 1.26.4\n",
      "scipy already installed!\n",
      "numpy already installed!\n",
      "numpy 1.26.4\n",
      "scipy 1.13.1\n",
      "joblib already installed!\n",
      "joblib 1.4.2\n",
      "threadpoolctl already installed!\n",
      "threadpoolctl 3.5.0\n"
     ]
    }
   ],
   "execution_count": 4
  },
  {
   "metadata": {
    "ExecuteTime": {
     "end_time": "2024-08-22T11:01:19.418645Z",
     "start_time": "2024-08-22T11:01:19.416546Z"
    }
   },
   "cell_type": "code",
   "source": [
    "import sys, os\n",
    "from backend.constants import INSTALLED\n",
    "\n",
    "sys.path.insert(0, os.path.join(INSTALLED, f\"{package}-{version}\"))"
   ],
   "id": "51f546752e77ae25",
   "outputs": [],
   "execution_count": 5
  },
  {
   "metadata": {
    "ExecuteTime": {
     "end_time": "2024-08-22T11:01:20.797136Z",
     "start_time": "2024-08-22T11:01:19.928717Z"
    }
   },
   "cell_type": "code",
   "source": "import sklearn",
   "id": "495f1ede61d53d7c",
   "outputs": [],
   "execution_count": 6
  },
  {
   "metadata": {},
   "cell_type": "code",
   "outputs": [],
   "execution_count": 7,
   "source": "sys.path.remove(os.path.join(INSTALLED, f\"{package}-{version}\"))",
   "id": "cabe69d68d4688b5"
  },
  {
   "metadata": {
    "ExecuteTime": {
     "end_time": "2024-08-22T11:01:21.776766Z",
     "start_time": "2024-08-22T11:01:21.773921Z"
    }
   },
   "cell_type": "code",
   "source": "sys.path",
   "id": "bc0b897e05d31f5f",
   "outputs": [
    {
     "data": {
      "text/plain": [
       "['/Users/maxlautenbach/Documents/GitHub/lasso-python',\n",
       " '/Users/maxlautenbach/Applications/PyCharm Professional Edition.app/Contents/plugins/python/helpers-pro/jupyter_debug',\n",
       " '/Users/maxlautenbach/Applications/PyCharm Professional Edition.app/Contents/plugins/python/helpers/pydev',\n",
       " '/Users/maxlautenbach/Documents/GitHub/lasso-python',\n",
       " '/Applications/Xcode.app/Contents/Developer/Library/Frameworks/Python3.framework/Versions/3.9/lib/python39.zip',\n",
       " '/Applications/Xcode.app/Contents/Developer/Library/Frameworks/Python3.framework/Versions/3.9/lib/python3.9',\n",
       " '/Applications/Xcode.app/Contents/Developer/Library/Frameworks/Python3.framework/Versions/3.9/lib/python3.9/lib-dynload',\n",
       " '',\n",
       " '/Users/maxlautenbach/Documents/GitHub/lasso-python/venv/lib/python3.9/site-packages']"
      ]
     },
     "execution_count": 8,
     "metadata": {},
     "output_type": "execute_result"
    }
   ],
   "execution_count": 8
  },
  {
   "metadata": {
    "ExecuteTime": {
     "end_time": "2024-08-22T10:52:13.669411Z",
     "start_time": "2024-08-22T10:52:13.668161Z"
    }
   },
   "cell_type": "code",
   "source": "",
   "id": "e95fcf203c51f4bb",
   "outputs": [],
   "execution_count": 21
  }
 ],
 "metadata": {
  "kernelspec": {
   "display_name": "Python 3",
   "language": "python",
   "name": "python3"
  },
  "language_info": {
   "codemirror_mode": {
    "name": "ipython",
    "version": 2
   },
   "file_extension": ".py",
   "mimetype": "text/x-python",
   "name": "python",
   "nbconvert_exporter": "python",
   "pygments_lexer": "ipython2",
   "version": "2.7.6"
  }
 },
 "nbformat": 4,
 "nbformat_minor": 5
}
