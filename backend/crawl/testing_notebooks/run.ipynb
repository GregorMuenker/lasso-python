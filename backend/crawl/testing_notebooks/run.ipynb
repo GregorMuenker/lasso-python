{
 "cells": [
  {
   "metadata": {
    "ExecuteTime": {
     "end_time": "2024-08-24T07:16:46.094320Z",
     "start_time": "2024-08-24T07:16:46.005453Z"
    }
   },
   "cell_type": "code",
   "source": [
    "import os\n",
    "\n",
    "import numpy.core.numeric\n",
    "\n",
    "from backend.constants import INSTALLED\n",
    "\n",
    "import sys\n",
    "\n",
    "package_name = \"requests\"\n",
    "version = \"2.32.3\"\n",
    "\n",
    "sys.path.insert(0, os.path.join(INSTALLED, f\"{package_name}-{version}\"))"
   ],
   "id": "3f88c937ae8dd2e8",
   "outputs": [],
   "execution_count": 2
  },
  {
   "metadata": {
    "ExecuteTime": {
     "end_time": "2024-08-24T07:16:46.131584Z",
     "start_time": "2024-08-24T07:16:46.095519Z"
    }
   },
   "cell_type": "code",
   "source": [
    "import cryptography.fernet\n",
    "\n",
    "cryptography.fernet.__file__\n"
   ],
   "id": "126f52d340d5bb99",
   "outputs": [
    {
     "data": {
      "text/plain": [
       "'/Users/maxlautenbach/Documents/GitHub/lasso-python/venv/lib/python3.9/site-packages/cryptography/fernet.py'"
      ]
     },
     "execution_count": 3,
     "metadata": {},
     "output_type": "execute_result"
    }
   ],
   "execution_count": 3
  },
  {
   "metadata": {
    "ExecuteTime": {
     "end_time": "2024-08-24T08:00:17.809611Z",
     "start_time": "2024-08-24T08:00:17.796287Z"
    }
   },
   "cell_type": "code",
   "source": [
    "import inspect\n",
    "import ast\n",
    "\n",
    "source = inspect.getsource(cryptography.fernet)\n",
    "tree = ast.parse(source)\n",
    "element = tree.body[13].body[1]"
   ],
   "id": "c2746525afe41302",
   "outputs": [
    {
     "ename": "NameError",
     "evalue": "name 'cryptography' is not defined",
     "output_type": "error",
     "traceback": [
      "\u001B[0;31m---------------------------------------------------------------------------\u001B[0m",
      "\u001B[0;31mNameError\u001B[0m                                 Traceback (most recent call last)",
      "Cell \u001B[0;32mIn[2], line 4\u001B[0m\n\u001B[1;32m      1\u001B[0m \u001B[38;5;28;01mimport\u001B[39;00m \u001B[38;5;21;01minspect\u001B[39;00m\n\u001B[1;32m      2\u001B[0m \u001B[38;5;28;01mimport\u001B[39;00m \u001B[38;5;21;01mast\u001B[39;00m\n\u001B[0;32m----> 4\u001B[0m source \u001B[38;5;241m=\u001B[39m inspect\u001B[38;5;241m.\u001B[39mgetsource(\u001B[43mcryptography\u001B[49m\u001B[38;5;241m.\u001B[39mfernet)\n\u001B[1;32m      5\u001B[0m tree \u001B[38;5;241m=\u001B[39m ast\u001B[38;5;241m.\u001B[39mparse(source)\n\u001B[1;32m      6\u001B[0m element \u001B[38;5;241m=\u001B[39m tree\u001B[38;5;241m.\u001B[39mbody[\u001B[38;5;241m13\u001B[39m]\u001B[38;5;241m.\u001B[39mbody[\u001B[38;5;241m1\u001B[39m]\n",
      "\u001B[0;31mNameError\u001B[0m: name 'cryptography' is not defined"
     ]
    }
   ],
   "execution_count": 2
  },
  {
   "metadata": {
    "ExecuteTime": {
     "end_time": "2024-08-24T07:16:46.141405Z",
     "start_time": "2024-08-24T07:16:46.137785Z"
    }
   },
   "cell_type": "code",
   "source": "[ast.get_source_segment(source, x) for x in element.decorator_list]",
   "id": "8257b7058e0444fb",
   "outputs": [
    {
     "data": {
      "text/plain": [
       "['classmethod']"
      ]
     },
     "execution_count": 5,
     "metadata": {},
     "output_type": "execute_result"
    }
   ],
   "execution_count": 5
  },
  {
   "metadata": {
    "ExecuteTime": {
     "end_time": "2024-08-24T08:00:20.033262Z",
     "start_time": "2024-08-24T08:00:20.028609Z"
    }
   },
   "cell_type": "code",
   "source": [
    "from backend.crawl.test_packages.calculator import base_functions\n",
    "\n",
    "source = inspect.getsource(base_functions)\n",
    "tree = ast.parse(source)\n",
    "print(ast.dump(tree, indent=6))"
   ],
   "id": "f98511eedc6b6a6",
   "outputs": [
    {
     "name": "stdout",
     "output_type": "stream",
     "text": [
      "Module(\n",
      "      body=[\n",
      "            FunctionDef(\n",
      "                  name='add',\n",
      "                  args=arguments(\n",
      "                        posonlyargs=[],\n",
      "                        args=[\n",
      "                              arg(\n",
      "                                    arg='a',\n",
      "                                    annotation=Name(id='int', ctx=Load())),\n",
      "                              arg(\n",
      "                                    arg='b',\n",
      "                                    annotation=Name(id='int', ctx=Load()))],\n",
      "                        kwonlyargs=[],\n",
      "                        kw_defaults=[],\n",
      "                        defaults=[]),\n",
      "                  body=[\n",
      "                        Return(\n",
      "                              value=BinOp(\n",
      "                                    left=Name(id='a', ctx=Load()),\n",
      "                                    op=Add(),\n",
      "                                    right=Name(id='b', ctx=Load())))],\n",
      "                  decorator_list=[],\n",
      "                  returns=Name(id='int', ctx=Load())),\n",
      "            FunctionDef(\n",
      "                  name='subtract',\n",
      "                  args=arguments(\n",
      "                        posonlyargs=[],\n",
      "                        args=[\n",
      "                              arg(arg='a'),\n",
      "                              arg(arg='b')],\n",
      "                        kwonlyargs=[],\n",
      "                        kw_defaults=[],\n",
      "                        defaults=[]),\n",
      "                  body=[\n",
      "                        Return(\n",
      "                              value=BinOp(\n",
      "                                    left=Name(id='a', ctx=Load()),\n",
      "                                    op=Sub(),\n",
      "                                    right=Name(id='b', ctx=Load())))],\n",
      "                  decorator_list=[]),\n",
      "            FunctionDef(\n",
      "                  name='multiply',\n",
      "                  args=arguments(\n",
      "                        posonlyargs=[],\n",
      "                        args=[\n",
      "                              arg(arg='a'),\n",
      "                              arg(arg='b')],\n",
      "                        kwonlyargs=[],\n",
      "                        kw_defaults=[],\n",
      "                        defaults=[]),\n",
      "                  body=[\n",
      "                        Assign(\n",
      "                              targets=[\n",
      "                                    Name(id='product', ctx=Store())],\n",
      "                              value=Constant(value=0)),\n",
      "                        For(\n",
      "                              target=Name(id='_', ctx=Store()),\n",
      "                              iter=Call(\n",
      "                                    func=Name(id='range', ctx=Load()),\n",
      "                                    args=[\n",
      "                                          Name(id='b', ctx=Load())],\n",
      "                                    keywords=[]),\n",
      "                              body=[\n",
      "                                    Assign(\n",
      "                                          targets=[\n",
      "                                                Name(id='product', ctx=Store())],\n",
      "                                          value=Call(\n",
      "                                                func=Name(id='add', ctx=Load()),\n",
      "                                                args=[\n",
      "                                                      Name(id='product', ctx=Load()),\n",
      "                                                      Name(id='a', ctx=Load())],\n",
      "                                                keywords=[]))],\n",
      "                              orelse=[]),\n",
      "                        If(\n",
      "                              test=Compare(\n",
      "                                    left=Name(id='product', ctx=Load()),\n",
      "                                    ops=[\n",
      "                                          Eq()],\n",
      "                                    comparators=[\n",
      "                                          Constant(value=0)]),\n",
      "                              body=[\n",
      "                                    Return(\n",
      "                                          value=Constant(value=False))],\n",
      "                              orelse=[]),\n",
      "                        Return(\n",
      "                              value=Name(id='product', ctx=Load()))],\n",
      "                  decorator_list=[],\n",
      "                  returns=Name(id='int', ctx=Load()))],\n",
      "      type_ignores=[])\n"
     ]
    }
   ],
   "execution_count": 3
  },
  {
   "metadata": {
    "ExecuteTime": {
     "end_time": "2024-08-24T08:53:49.750274Z",
     "start_time": "2024-08-24T08:53:49.609607Z"
    }
   },
   "cell_type": "code",
   "source": [
    "from backend.crawl import splitting\n",
    "\n",
    "index = splitting.get_module_index(\"calculator\", \"calculator\", \"1.0.0\", path=\"/Users/maxlautenbach/Documents/GitHub/lasso-python/backend/crawl/test_packages/calculator\", type_inferencing_engine=None)"
   ],
   "id": "a08e34252c5149aa",
   "outputs": [],
   "execution_count": 4
  },
  {
   "metadata": {
    "ExecuteTime": {
     "end_time": "2024-08-24T08:54:11.205066Z",
     "start_time": "2024-08-24T08:54:11.202841Z"
    }
   },
   "cell_type": "code",
   "source": "print(index[0])",
   "id": "a7948656dfbffdf7",
   "outputs": [
    {
     "name": "stdout",
     "output_type": "stream",
     "text": [
      "{'packagename_fq': 'calculator.base_functions', 'method_fq': 'add', 'name_fq': None, 'methodSignatureParameters': [{'name': 'a', 'datatype': ['int'], 'keyword_arg': False, 'has_default_val': False, 'default_val': 'NODEFAULT'}, {'name': 'b', 'datatype': ['int'], 'keyword_arg': False, 'has_default_val': False, 'default_val': 'NODEFAULT'}], 'return_types': ['int'], 'default_index': None, 'count_positional_args': 2, 'count_positional_non_default_args': 2, 'count_kw_args': 0, 'lang': 'python', 'decorators': [], 'id': 'a9911ae7edc65f35a59074d44c13198a'}\n"
     ]
    }
   ],
   "execution_count": 5
  },
  {
   "metadata": {
    "ExecuteTime": {
     "end_time": "2024-08-25T09:30:15.504971Z",
     "start_time": "2024-08-25T09:30:15.500858Z"
    }
   },
   "cell_type": "code",
   "source": "import numpy.core.numeric\n",
   "id": "b8d6ec6c8fe46011",
   "outputs": [
    {
     "data": {
      "text/plain": [
       "'/Users/maxlautenbach/Documents/GitHub/lasso-python/venv/lib/python3.9/site-packages/numpy/core/numeric.py'"
      ]
     },
     "execution_count": 3,
     "metadata": {},
     "output_type": "execute_result"
    }
   ],
   "execution_count": 3
  },
  {
   "metadata": {
    "ExecuteTime": {
     "end_time": "2024-08-25T11:23:37.212393Z",
     "start_time": "2024-08-25T11:23:37.210546Z"
    }
   },
   "cell_type": "code",
   "source": "import numpy, os",
   "id": "767eb1dfc1b0aac1",
   "outputs": [],
   "execution_count": 6
  },
  {
   "metadata": {
    "ExecuteTime": {
     "end_time": "2024-08-25T11:23:50.902399Z",
     "start_time": "2024-08-25T11:23:48.743454Z"
    }
   },
   "cell_type": "code",
   "source": [
    "from backend.crawl.inference_engines import hityper\n",
    "\n",
    "hityper.infer_datatypes_module(numpy.core.numeric.__file__, numpy.__path__[0], \"numpy.core.numeric\")"
   ],
   "id": "cf3ae9de6cbab3fe",
   "outputs": [
    {
     "name": "stdout",
     "output_type": "stream",
     "text": [
      "hityper infer -s /Users/maxlautenbach/Documents/GitHub/lasso-python/venv/lib/python3.9/site-packages/numpy/core/numeric.py -d /Users/maxlautenbach/Documents/GitHub/lasso-python/backend/crawl/temp -p /Users/maxlautenbach/Documents/GitHub/lasso-python/venv/lib/python3.9/site-packages/numpy\n"
     ]
    }
   ],
   "execution_count": 8
  },
  {
   "metadata": {
    "ExecuteTime": {
     "end_time": "2024-08-25T09:39:01.387303Z",
     "start_time": "2024-08-25T09:38:59.260178Z"
    }
   },
   "cell_type": "code",
   "source": [
    "import subprocess\n",
    "from backend.constants import TYPE_INFERENCING_TEMP\n",
    "\n",
    "subprocess.run(f\"hityper infer -s {numpy.core.numeric.__file__} -d {TYPE_INFERENCING_TEMP} -p {numpy.__path__[0]}\", shell=True)"
   ],
   "id": "2e278ee9ae6d92e",
   "outputs": [
    {
     "data": {
      "text/plain": [
       "CompletedProcess(args='hityper infer -s /Users/maxlautenbach/Documents/GitHub/lasso-python/venv/lib/python3.9/site-packages/numpy/core/numeric.py -d /Users/maxlautenbach/Documents/GitHub/lasso-python/backend/crawl/temp -p /Users/maxlautenbach/Documents/GitHub/lasso-python/venv/lib/python3.9/site-packages/numpy', returncode=0)"
      ]
     },
     "execution_count": 11,
     "metadata": {},
     "output_type": "execute_result"
    }
   ],
   "execution_count": 11
  },
  {
   "metadata": {},
   "cell_type": "code",
   "outputs": [],
   "execution_count": null,
   "source": "",
   "id": "5bd7b851de339840"
  }
 ],
 "metadata": {
  "kernelspec": {
   "display_name": "Python 3",
   "language": "python",
   "name": "python3"
  },
  "language_info": {
   "codemirror_mode": {
    "name": "ipython",
    "version": 2
   },
   "file_extension": ".py",
   "mimetype": "text/x-python",
   "name": "python",
   "nbconvert_exporter": "python",
   "pygments_lexer": "ipython2",
   "version": "2.7.6"
  }
 },
 "nbformat": 4,
 "nbformat_minor": 5
}
