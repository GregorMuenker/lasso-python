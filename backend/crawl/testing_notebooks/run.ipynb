{
 "cells": [
  {
   "metadata": {
    "ExecuteTime": {
     "end_time": "2024-08-22T14:54:49.019809Z",
     "start_time": "2024-08-22T14:54:48.944867Z"
    }
   },
   "cell_type": "code",
   "source": [
    "import os\n",
    "from backend.constants import INSTALLED\n",
    "\n",
    "import sys\n",
    "\n",
    "package_name = \"requests\"\n",
    "version = \"2.32.3\"\n",
    "\n",
    "sys.path.insert(0, os.path.join(INSTALLED, f\"{package_name}-{version}\"))"
   ],
   "id": "3f88c937ae8dd2e8",
   "outputs": [],
   "execution_count": 1
  },
  {
   "metadata": {
    "ExecuteTime": {
     "end_time": "2024-08-22T14:54:49.478633Z",
     "start_time": "2024-08-22T14:54:49.461660Z"
    }
   },
   "cell_type": "code",
   "source": [
    "import cryptography.fernet\n",
    "\n",
    "cryptography.fernet.__file__\n"
   ],
   "id": "126f52d340d5bb99",
   "outputs": [
    {
     "data": {
      "text/plain": [
       "'/Users/maxlautenbach/Documents/GitHub/lasso-python/venv/lib/python3.9/site-packages/cryptography/fernet.py'"
      ]
     },
     "execution_count": 2,
     "metadata": {},
     "output_type": "execute_result"
    }
   ],
   "execution_count": 2
  },
  {
   "metadata": {
    "ExecuteTime": {
     "end_time": "2024-08-22T15:27:30.957941Z",
     "start_time": "2024-08-22T15:27:30.953687Z"
    }
   },
   "cell_type": "code",
   "source": [
    "import inspect\n",
    "import ast\n",
    "\n",
    "source = inspect.getsource(cryptography.fernet)\n",
    "tree = ast.parse(source)\n",
    "element = tree.body[13].body[1]"
   ],
   "id": "c2746525afe41302",
   "outputs": [],
   "execution_count": 4
  },
  {
   "metadata": {
    "ExecuteTime": {
     "end_time": "2024-08-22T15:27:31.395895Z",
     "start_time": "2024-08-22T15:27:31.391821Z"
    }
   },
   "cell_type": "code",
   "source": "[ast.get_source_segment(source, x) for x in element.decorator_list]",
   "id": "8257b7058e0444fb",
   "outputs": [
    {
     "data": {
      "text/plain": [
       "['classmethod']"
      ]
     },
     "execution_count": 5,
     "metadata": {},
     "output_type": "execute_result"
    }
   ],
   "execution_count": 5
  },
  {
   "metadata": {},
   "cell_type": "code",
   "outputs": [],
   "execution_count": null,
   "source": "",
   "id": "f98511eedc6b6a6"
  }
 ],
 "metadata": {
  "kernelspec": {
   "display_name": "Python 3",
   "language": "python",
   "name": "python3"
  },
  "language_info": {
   "codemirror_mode": {
    "name": "ipython",
    "version": 2
   },
   "file_extension": ".py",
   "mimetype": "text/x-python",
   "name": "python",
   "nbconvert_exporter": "python",
   "pygments_lexer": "ipython2",
   "version": "2.7.6"
  }
 },
 "nbformat": 4,
 "nbformat_minor": 5
}
