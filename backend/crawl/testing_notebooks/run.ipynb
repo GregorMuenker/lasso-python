{
 "cells": [
  {
   "metadata": {
    "ExecuteTime": {
     "end_time": "2024-08-22T12:30:42.015990Z",
     "start_time": "2024-08-22T12:30:42.012180Z"
    }
   },
   "cell_type": "code",
   "source": [
    "import os\n",
    "from backend.constants import INSTALLED\n",
    "\n",
    "import sys\n",
    "\n",
    "package_name = \"requests\"\n",
    "version = \"2.32.3\"\n",
    "\n",
    "sys.path.insert(0, os.path.join(INSTALLED, f\"{package_name}-{version}\"))"
   ],
   "id": "3f88c937ae8dd2e8",
   "outputs": [],
   "execution_count": 3
  },
  {
   "metadata": {
    "ExecuteTime": {
     "end_time": "2024-08-22T12:30:51.113219Z",
     "start_time": "2024-08-22T12:30:51.054394Z"
    }
   },
   "cell_type": "code",
   "source": [
    "import requests\n",
    "\n",
    "requests.__file__"
   ],
   "id": "126f52d340d5bb99",
   "outputs": [
    {
     "data": {
      "text/plain": [
       "'/Users/maxlautenbach/Documents/GitHub/lasso-python/backend/crawl/installed/requests-2.32.3/requests/__init__.py'"
      ]
     },
     "execution_count": 5,
     "metadata": {},
     "output_type": "execute_result"
    }
   ],
   "execution_count": 5
  },
  {
   "metadata": {},
   "cell_type": "code",
   "outputs": [],
   "execution_count": null,
   "source": "",
   "id": "c2746525afe41302"
  }
 ],
 "metadata": {
  "kernelspec": {
   "display_name": "Python 3",
   "language": "python",
   "name": "python3"
  },
  "language_info": {
   "codemirror_mode": {
    "name": "ipython",
    "version": 2
   },
   "file_extension": ".py",
   "mimetype": "text/x-python",
   "name": "python",
   "nbconvert_exporter": "python",
   "pygments_lexer": "ipython2",
   "version": "2.7.6"
  }
 },
 "nbformat": 4,
 "nbformat_minor": 5
}
