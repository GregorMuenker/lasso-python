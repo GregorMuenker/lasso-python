{
 "cells": [
  {
   "cell_type": "code",
   "id": "initial_id",
   "metadata": {
    "collapsed": true,
    "ExecuteTime": {
     "end_time": "2024-08-22T10:52:23.179731Z",
     "start_time": "2024-08-22T10:52:23.088425Z"
    }
   },
   "source": [
    "from backend.crawl import install\n",
    "\n",
    "package = \"scikit-learn\"\n",
    "install_handler = install.installHandler()\n",
    "package, version = install_handler.install(package)"
   ],
   "outputs": [
    {
     "ename": "FileNotFoundError",
     "evalue": "[Errno 2] No such file or directory: 'installed'",
     "output_type": "error",
     "traceback": [
      "\u001B[0;31m---------------------------------------------------------------------------\u001B[0m",
      "\u001B[0;31mFileNotFoundError\u001B[0m                         Traceback (most recent call last)",
      "Cell \u001B[0;32mIn[3], line 5\u001B[0m\n\u001B[1;32m      3\u001B[0m package \u001B[38;5;241m=\u001B[39m \u001B[38;5;124m\"\u001B[39m\u001B[38;5;124mscikit-learn\u001B[39m\u001B[38;5;124m\"\u001B[39m\n\u001B[1;32m      4\u001B[0m install_handler \u001B[38;5;241m=\u001B[39m install\u001B[38;5;241m.\u001B[39minstallHandler()\n\u001B[0;32m----> 5\u001B[0m package, version \u001B[38;5;241m=\u001B[39m \u001B[43minstall_handler\u001B[49m\u001B[38;5;241;43m.\u001B[39;49m\u001B[43minstall\u001B[49m\u001B[43m(\u001B[49m\u001B[43mpackage\u001B[49m\u001B[43m)\u001B[49m\n",
      "File \u001B[0;32m~/Documents/GitHub/lasso-python/backend/crawl/install.py:279\u001B[0m, in \u001B[0;36minstallHandler.install\u001B[0;34m(self, package)\u001B[0m\n\u001B[1;32m    276\u001B[0m     \u001B[38;5;28;01mraise\u001B[39;00m \u001B[38;5;167;01mBaseException\u001B[39;00m(\u001B[38;5;124m\"\u001B[39m\u001B[38;5;124mCould not identify package name.\u001B[39m\u001B[38;5;124m\"\u001B[39m)\n\u001B[1;32m    278\u001B[0m requirements \u001B[38;5;241m=\u001B[39m reformat_dependency(package)\n\u001B[0;32m--> 279\u001B[0m satisfactory_versions \u001B[38;5;241m=\u001B[39m \u001B[43mcheck_request\u001B[49m\u001B[43m(\u001B[49m\u001B[43mname\u001B[49m\u001B[43m,\u001B[49m\u001B[43m \u001B[49m\u001B[43mrequirements\u001B[49m\u001B[43m)\u001B[49m\n\u001B[1;32m    281\u001B[0m \u001B[38;5;28;01mif\u001B[39;00m \u001B[38;5;129;01mnot\u001B[39;00m satisfactory_versions:\n\u001B[1;32m    282\u001B[0m     path \u001B[38;5;241m=\u001B[39m \u001B[38;5;124m\"\u001B[39m\u001B[38;5;124minstalled/tmp\u001B[39m\u001B[38;5;124m\"\u001B[39m\n",
      "File \u001B[0;32m~/Documents/GitHub/lasso-python/backend/crawl/install.py:140\u001B[0m, in \u001B[0;36mcheck_request\u001B[0;34m(project, requirements)\u001B[0m\n\u001B[1;32m    130\u001B[0m \u001B[38;5;28;01mdef\u001B[39;00m \u001B[38;5;21mcheck_request\u001B[39m(project, requirements):\n\u001B[1;32m    131\u001B[0m \u001B[38;5;250m    \u001B[39m\u001B[38;5;124;03m\"\"\"Checks if install request is already satisfied.\u001B[39;00m\n\u001B[1;32m    132\u001B[0m \n\u001B[1;32m    133\u001B[0m \u001B[38;5;124;03m    Args:\u001B[39;00m\n\u001B[0;32m   (...)\u001B[0m\n\u001B[1;32m    138\u001B[0m \u001B[38;5;124;03m        result (list of strings): List of local versions that satisfy the requirements.\u001B[39;00m\n\u001B[1;32m    139\u001B[0m \u001B[38;5;124;03m    \"\"\"\u001B[39;00m\n\u001B[0;32m--> 140\u001B[0m     local_versions \u001B[38;5;241m=\u001B[39m \u001B[43mget_local_versions\u001B[49m\u001B[43m(\u001B[49m\u001B[43mproject\u001B[49m\u001B[43m)\u001B[49m\n\u001B[1;32m    141\u001B[0m     result \u001B[38;5;241m=\u001B[39m []\n\u001B[1;32m    143\u001B[0m     \u001B[38;5;28;01mif\u001B[39;00m \u001B[38;5;129;01mnot\u001B[39;00m requirements:\n",
      "File \u001B[0;32m~/Documents/GitHub/lasso-python/backend/crawl/install.py:169\u001B[0m, in \u001B[0;36mget_local_versions\u001B[0;34m(project)\u001B[0m\n\u001B[1;32m    160\u001B[0m \u001B[38;5;28;01mdef\u001B[39;00m \u001B[38;5;21mget_local_versions\u001B[39m(project):\n\u001B[1;32m    161\u001B[0m \u001B[38;5;250m    \u001B[39m\u001B[38;5;124;03m\"\"\"Provides a list of local version for a provided package.\u001B[39;00m\n\u001B[1;32m    162\u001B[0m \n\u001B[1;32m    163\u001B[0m \u001B[38;5;124;03m    Args:\u001B[39;00m\n\u001B[0;32m   (...)\u001B[0m\n\u001B[1;32m    167\u001B[0m \u001B[38;5;124;03m        versions (list of strings): List of locally installed versions.\u001B[39;00m\n\u001B[1;32m    168\u001B[0m \u001B[38;5;124;03m    \"\"\"\u001B[39;00m\n\u001B[0;32m--> 169\u001B[0m     folders \u001B[38;5;241m=\u001B[39m [folder \u001B[38;5;28;01mfor\u001B[39;00m folder \u001B[38;5;129;01min\u001B[39;00m \u001B[43mos\u001B[49m\u001B[38;5;241;43m.\u001B[39;49m\u001B[43mlistdir\u001B[49m\u001B[43m(\u001B[49m\n\u001B[1;32m    170\u001B[0m \u001B[43m        \u001B[49m\u001B[38;5;124;43m\"\u001B[39;49m\u001B[38;5;124;43minstalled\u001B[39;49m\u001B[38;5;124;43m\"\u001B[39;49m\u001B[43m)\u001B[49m \u001B[38;5;28;01mif\u001B[39;00m folder\u001B[38;5;241m.\u001B[39mstartswith(project)]\n\u001B[1;32m    171\u001B[0m     versions \u001B[38;5;241m=\u001B[39m []\n\u001B[1;32m    172\u001B[0m     \u001B[38;5;28;01mfor\u001B[39;00m folder \u001B[38;5;129;01min\u001B[39;00m folders:\n",
      "\u001B[0;31mFileNotFoundError\u001B[0m: [Errno 2] No such file or directory: 'installed'"
     ]
    }
   ],
   "execution_count": 3
  },
  {
   "metadata": {
    "ExecuteTime": {
     "end_time": "2024-08-22T10:52:19.110685Z",
     "start_time": "2024-08-22T10:52:19.014115Z"
    }
   },
   "cell_type": "code",
   "source": [
    "import sys, os\n",
    "from backend.constants import INSTALLED\n",
    "\n",
    "sys.path.insert(0, os.path.join(INSTALLED, f\"{package}-{version}\"))"
   ],
   "id": "51f546752e77ae25",
   "outputs": [
    {
     "ename": "NameError",
     "evalue": "name 'package' is not defined",
     "output_type": "error",
     "traceback": [
      "\u001B[0;31m---------------------------------------------------------------------------\u001B[0m",
      "\u001B[0;31mNameError\u001B[0m                                 Traceback (most recent call last)",
      "Cell \u001B[0;32mIn[2], line 4\u001B[0m\n\u001B[1;32m      1\u001B[0m \u001B[38;5;28;01mimport\u001B[39;00m \u001B[38;5;21;01msys\u001B[39;00m\u001B[38;5;241m,\u001B[39m \u001B[38;5;21;01mos\u001B[39;00m\n\u001B[1;32m      2\u001B[0m \u001B[38;5;28;01mfrom\u001B[39;00m \u001B[38;5;21;01mbackend\u001B[39;00m\u001B[38;5;21;01m.\u001B[39;00m\u001B[38;5;21;01mconstants\u001B[39;00m \u001B[38;5;28;01mimport\u001B[39;00m INSTALLED\n\u001B[0;32m----> 4\u001B[0m sys\u001B[38;5;241m.\u001B[39mpath\u001B[38;5;241m.\u001B[39minsert(\u001B[38;5;241m0\u001B[39m, os\u001B[38;5;241m.\u001B[39mpath\u001B[38;5;241m.\u001B[39mjoin(INSTALLED, \u001B[38;5;124mf\u001B[39m\u001B[38;5;124m\"\u001B[39m\u001B[38;5;132;01m{\u001B[39;00mpackage\u001B[38;5;132;01m}\u001B[39;00m\u001B[38;5;124m-\u001B[39m\u001B[38;5;132;01m{\u001B[39;00mversion\u001B[38;5;132;01m}\u001B[39;00m\u001B[38;5;124m\"\u001B[39m))\n",
      "\u001B[0;31mNameError\u001B[0m: name 'package' is not defined"
     ]
    }
   ],
   "execution_count": 2
  },
  {
   "metadata": {
    "ExecuteTime": {
     "end_time": "2024-08-22T10:52:17.630200Z",
     "start_time": "2024-08-22T10:52:17.498263Z"
    }
   },
   "cell_type": "code",
   "source": "import sklearn",
   "id": "495f1ede61d53d7c",
   "outputs": [
    {
     "ename": "ModuleNotFoundError",
     "evalue": "No module named 'sklearn'",
     "output_type": "error",
     "traceback": [
      "\u001B[0;31m---------------------------------------------------------------------------\u001B[0m",
      "\u001B[0;31mModuleNotFoundError\u001B[0m                       Traceback (most recent call last)",
      "Cell \u001B[0;32mIn[1], line 1\u001B[0m\n\u001B[0;32m----> 1\u001B[0m \u001B[38;5;28;01mimport\u001B[39;00m \u001B[38;5;21;01msklearn\u001B[39;00m\n",
      "\u001B[0;31mModuleNotFoundError\u001B[0m: No module named 'sklearn'"
     ]
    }
   ],
   "execution_count": 1
  },
  {
   "metadata": {
    "ExecuteTime": {
     "end_time": "2024-08-22T10:52:13.664243Z",
     "start_time": "2024-08-22T10:52:13.662410Z"
    }
   },
   "cell_type": "code",
   "source": "sys.path.remove(os.path.join(INSTALLED, f\"{package}-{version}\"))",
   "id": "cabe69d68d4688b5",
   "outputs": [],
   "execution_count": 20
  },
  {
   "metadata": {
    "ExecuteTime": {
     "end_time": "2024-08-22T10:52:13.667444Z",
     "start_time": "2024-08-22T10:52:13.665019Z"
    }
   },
   "cell_type": "code",
   "source": "sys.path",
   "id": "bc0b897e05d31f5f",
   "outputs": [
    {
     "data": {
      "text/plain": [
       "['/Users/maxlautenbach/Documents/GitHub/lasso-python/backend/crawl/installed/scikit-learn-1.5.1',\n",
       " '/Users/maxlautenbach/Applications/PyCharm Professional Edition.app/Contents/plugins/python/helpers-pro/jupyter_debug',\n",
       " '/Users/maxlautenbach/Applications/PyCharm Professional Edition.app/Contents/plugins/python/helpers/pydev',\n",
       " '/Users/maxlautenbach/Documents/GitHub/lasso-python',\n",
       " '/Applications/Xcode.app/Contents/Developer/Library/Frameworks/Python3.framework/Versions/3.9/lib/python39.zip',\n",
       " '/Applications/Xcode.app/Contents/Developer/Library/Frameworks/Python3.framework/Versions/3.9/lib/python3.9',\n",
       " '/Applications/Xcode.app/Contents/Developer/Library/Frameworks/Python3.framework/Versions/3.9/lib/python3.9/lib-dynload',\n",
       " '',\n",
       " '/Users/maxlautenbach/Documents/GitHub/lasso-python/venv/lib/python3.9/site-packages']"
      ]
     },
     "execution_count": 21,
     "metadata": {},
     "output_type": "execute_result"
    }
   ],
   "execution_count": 21
  },
  {
   "metadata": {
    "ExecuteTime": {
     "end_time": "2024-08-22T10:52:13.669411Z",
     "start_time": "2024-08-22T10:52:13.668161Z"
    }
   },
   "cell_type": "code",
   "source": "",
   "id": "e95fcf203c51f4bb",
   "outputs": [],
   "execution_count": 21
  }
 ],
 "metadata": {
  "kernelspec": {
   "display_name": "Python 3",
   "language": "python",
   "name": "python3"
  },
  "language_info": {
   "codemirror_mode": {
    "name": "ipython",
    "version": 2
   },
   "file_extension": ".py",
   "mimetype": "text/x-python",
   "name": "python",
   "nbconvert_exporter": "python",
   "pygments_lexer": "ipython2",
   "version": "2.7.6"
  }
 },
 "nbformat": 4,
 "nbformat_minor": 5
}
