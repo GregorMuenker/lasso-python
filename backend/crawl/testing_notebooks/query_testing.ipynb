{
 "cells": [
  {
   "metadata": {
    "ExecuteTime": {
     "end_time": "2024-09-04T15:07:22.525074Z",
     "start_time": "2024-09-04T15:07:22.504444Z"
    }
   },
   "cell_type": "code",
   "source": [
    "import pysolr\n",
    "\n",
    "solr_url = \"http://localhost:8983/solr/lasso_quickstart\"\n",
    "solr = pysolr.Solr(solr_url, always_commit=True)"
   ],
   "id": "5bd7b851de339840",
   "outputs": [],
   "execution_count": 14
  },
  {
   "metadata": {
    "ExecuteTime": {
     "end_time": "2024-09-04T15:07:22.538581Z",
     "start_time": "2024-09-04T15:07:22.526710Z"
    }
   },
   "cell_type": "code",
   "source": [
    "from backend.lql.antlr_parser import parse_interface_spec\n",
    "\n",
    "lql_string = \"\"\"\n",
    "    Array {\n",
    "        Array(list)->None\n",
    "        mean()->float\n",
    "        sum()->float\n",
    "    }\n",
    "    \"\"\"\n",
    "\n",
    "interfaceSpecification = parse_interface_spec(lql_string)"
   ],
   "id": "71d34a6cabe83a6e",
   "outputs": [
    {
     "name": "stdout",
     "output_type": "stream",
     "text": [
      "Interface Specification: InterfaceSpecification(className=Array, constructors=[MethodSignature(methodName=Array, returnType=None, parameterTypes=['list'])], methods=[MethodSignature(methodName=mean, returnType=float, parameterTypes=[]), MethodSignature(methodName=sum, returnType=float, parameterTypes=[])])\n"
     ]
    }
   ],
   "execution_count": 15
  },
  {
   "metadata": {
    "ExecuteTime": {
     "end_time": "2024-09-04T15:07:22.547997Z",
     "start_time": "2024-09-04T15:07:22.539619Z"
    }
   },
   "cell_type": "code",
   "source": [
    "from backend.arena import lasso_solr_connector\n",
    "import importlib\n",
    "\n",
    "solr_url = \"http://localhost:8983/solr/lasso_quickstart\"\n",
    "solr_conn = lasso_solr_connector.LassoSolrConnector(solr_url)"
   ],
   "id": "3987342c1189b640",
   "outputs": [],
   "execution_count": 16
  },
  {
   "metadata": {
    "ExecuteTime": {
     "end_time": "2024-09-04T15:07:22.623737Z",
     "start_time": "2024-09-04T15:07:22.548849Z"
    }
   },
   "cell_type": "code",
   "source": [
    "allModulesUnderTest = solr_conn.generate_modules_under_test(interfaceSpecification)\n",
    "moduleUnderTest = allModulesUnderTest[0]"
   ],
   "id": "b7b01714d1293e52",
   "outputs": [
    {
     "name": "stdout",
     "output_type": "stream",
     "text": [
      "numpy.ma.core\n",
      "numpy.matrixlib.defmatrix\n",
      "numpy._core.arrayprint\n",
      "numpy._core.defchararray\n",
      "Generated 4 ModuleUnderTest objects.\n"
     ]
    }
   ],
   "execution_count": 17
  },
  {
   "metadata": {
    "ExecuteTime": {
     "end_time": "2024-09-04T15:07:22.626646Z",
     "start_time": "2024-09-04T15:07:22.625243Z"
    }
   },
   "cell_type": "code",
   "source": "",
   "id": "c9de51bcdef94049",
   "outputs": [],
   "execution_count": 17
  }
 ],
 "metadata": {
  "kernelspec": {
   "display_name": "Python 3",
   "language": "python",
   "name": "python3"
  },
  "language_info": {
   "codemirror_mode": {
    "name": "ipython",
    "version": 2
   },
   "file_extension": ".py",
   "mimetype": "text/x-python",
   "name": "python",
   "nbconvert_exporter": "python",
   "pygments_lexer": "ipython2",
   "version": "2.7.6"
  }
 },
 "nbformat": 4,
 "nbformat_minor": 5
}
