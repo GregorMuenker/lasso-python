{
 "cells": [
  {
   "cell_type": "code",
   "id": "initial_id",
   "metadata": {
    "collapsed": true,
    "ExecuteTime": {
     "end_time": "2024-07-17T12:58:18.398275Z",
     "start_time": "2024-07-17T12:58:18.252912Z"
    }
   },
   "source": [
    "from pytype.main import _run_pytype\n",
    "from pytype import config\n",
    "\n",
    "\n",
    "_run_pytype(config.Options.create(\"temp.py\"))"
   ],
   "outputs": [
    {
     "name": "stderr",
     "output_type": "stream",
     "text": [
      "File \"temp.py\", line 5, in get_char_arr: bad return type [bad-return-type]\n",
      "           Expected: int\n",
      "  Actually returned: List[int]\n",
      "\n",
      "For more details, see https://google.github.io/pytype/errors.html#bad-return-type\n"
     ]
    },
    {
     "data": {
      "text/plain": [
       "1"
      ]
     },
     "execution_count": 17,
     "metadata": {},
     "output_type": "execute_result"
    }
   ],
   "execution_count": 17
  },
  {
   "metadata": {
    "ExecuteTime": {
     "end_time": "2024-07-17T14:43:05.499131Z",
     "start_time": "2024-07-17T14:43:05.489687Z"
    }
   },
   "cell_type": "code",
   "source": [
    "options = config.Options.create(\"temp.py\")\n",
    "options"
   ],
   "id": "a7ae2e8c868e2477",
   "outputs": [
    {
     "data": {
      "text/plain": [
       "analyze_annotated: True\n",
       "bind_decorated_methods: False\n",
       "check: True\n",
       "check_preconditions: False\n",
       "color: False\n",
       "debug: None\n",
       "debug_logs: None\n",
       "disable: []\n",
       "enable_only: []\n",
       "exec_log: None\n",
       "generate_builtins: None\n",
       "imports_map: None\n",
       "input: 'temp.py'\n",
       "memory_snapshots: False\n",
       "metrics: None\n",
       "module_name: 'temp'\n",
       "no_return_any: False\n",
       "nofail: False\n",
       "none_is_not_bool: False\n",
       "open_function: <built-in function open>\n",
       "output: None\n",
       "output_debug: None\n",
       "output_errors_csv: None\n",
       "overriding_renamed_parameter_count_checks: False\n",
       "parse_pyi: False\n",
       "pickle_metadata: []\n",
       "pickle_output: False\n",
       "platform: 'darwin'\n",
       "precise_return: False\n",
       "precompiled_builtins: None\n",
       "profile: None\n",
       "protocols: False\n",
       "python_exe: None\n",
       "python_version: (3, 9)\n",
       "pythonpath: ['']\n",
       "quick: None\n",
       "report_errors: True\n",
       "require_override_decorator: False\n",
       "return_success: False\n",
       "show_config: None\n",
       "skip_repeat_calls: True\n",
       "strict_import: False\n",
       "strict_none_binding: False\n",
       "strict_parameter_checks: False\n",
       "strict_primitive_comparisons: False\n",
       "strict_undefined_checks: False\n",
       "timeout: None\n",
       "timestamp_logs: None\n",
       "touch: None\n",
       "typeshed: True\n",
       "unused_imports_info_files: None\n",
       "use_fiddle_overlay: False\n",
       "use_pickled_files: False\n",
       "use_rewrite: False\n",
       "validate_version: True\n",
       "verbosity: 1\n",
       "verify_pickle: None\n",
       "version: None"
      ]
     },
     "execution_count": 30,
     "metadata": {},
     "output_type": "execute_result"
    }
   ],
   "execution_count": 30
  },
  {
   "metadata": {
    "ExecuteTime": {
     "end_time": "2024-07-17T14:48:20.876730Z",
     "start_time": "2024-07-17T14:48:20.733040Z"
    }
   },
   "cell_type": "code",
   "source": [
    "from pytype.io import *\n",
    "\n",
    "res = process_one_file(options)"
   ],
   "id": "62eaf9b13aa48769",
   "outputs": [
    {
     "name": "stderr",
     "output_type": "stream",
     "text": [
      "File \"temp.py\", line 5, in get_char_arr: bad return type [bad-return-type]\n",
      "           Expected: int\n",
      "  Actually returned: List[int]\n",
      "\n",
      "For more details, see https://google.github.io/pytype/errors.html#bad-return-type\n"
     ]
    }
   ],
   "execution_count": 36
  },
  {
   "metadata": {
    "ExecuteTime": {
     "end_time": "2024-07-18T11:39:35.642137Z",
     "start_time": "2024-07-18T11:39:35.557775Z"
    }
   },
   "cell_type": "code",
   "source": [
    "loader = load_pytd.create_loader(options)\n",
    "src = read_source_file(options.input, options.open_function)\n",
    "#ret = check_or_generate_pyi(options)"
   ],
   "id": "9e0028038f399971",
   "outputs": [],
   "execution_count": 41
  },
  {
   "metadata": {
    "ExecuteTime": {
     "end_time": "2024-07-18T11:39:36.148189Z",
     "start_time": "2024-07-18T11:39:36.039984Z"
    }
   },
   "cell_type": "code",
   "source": [
    "from pytype.analyze import infer_types\n",
    "\n",
    "res = infer_types(src, options, loader)"
   ],
   "id": "e62583e091e0c5dd",
   "outputs": [],
   "execution_count": 42
  },
  {
   "metadata": {},
   "cell_type": "code",
   "outputs": [],
   "execution_count": null,
   "source": "",
   "id": "7e8deb26ea9a6b8b"
  }
 ],
 "metadata": {
  "kernelspec": {
   "display_name": "Python 3",
   "language": "python",
   "name": "python3"
  },
  "language_info": {
   "codemirror_mode": {
    "name": "ipython",
    "version": 2
   },
   "file_extension": ".py",
   "mimetype": "text/x-python",
   "name": "python",
   "nbconvert_exporter": "python",
   "pygments_lexer": "ipython2",
   "version": "2.7.6"
  }
 },
 "nbformat": 4,
 "nbformat_minor": 5
}
