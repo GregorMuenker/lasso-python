{
 "cells": [
  {
   "cell_type": "code",
   "id": "initial_id",
   "metadata": {
    "collapsed": true,
    "ExecuteTime": {
     "end_time": "2024-08-03T11:24:07.498629Z",
     "start_time": "2024-08-03T11:24:06.504727Z"
    }
   },
   "source": [
    "from pytype.main import _run_pytype\n",
    "from pytype import config\n",
    "\n",
    "\n",
    "_run_pytype(config.Options.create(\"temp.py\"))"
   ],
   "outputs": [
    {
     "name": "stderr",
     "output_type": "stream",
     "text": [
      "File \"temp.py\", line 2, in add: unsupported operand type(s) for +: tuple and str [unsupported-operands]\n",
      "  Function __add__ on tuple expects tuple\n",
      "\n",
      "For more details, see https://google.github.io/pytype/errors.html#unsupported-operands\n"
     ]
    },
    {
     "data": {
      "text/plain": [
       "1"
      ]
     },
     "execution_count": 1,
     "metadata": {},
     "output_type": "execute_result"
    }
   ],
   "execution_count": 1
  },
  {
   "metadata": {
    "ExecuteTime": {
     "end_time": "2024-08-03T11:24:07.504848Z",
     "start_time": "2024-08-03T11:24:07.500329Z"
    }
   },
   "cell_type": "code",
   "source": [
    "options = config.Options.create(\"temp.py\")\n",
    "options"
   ],
   "id": "a7ae2e8c868e2477",
   "outputs": [
    {
     "data": {
      "text/plain": [
       "analyze_annotated: True\n",
       "bind_decorated_methods: False\n",
       "check: True\n",
       "check_preconditions: False\n",
       "color: False\n",
       "debug: None\n",
       "debug_logs: None\n",
       "disable: []\n",
       "enable_only: []\n",
       "exec_log: None\n",
       "generate_builtins: None\n",
       "imports_map: None\n",
       "input: 'temp.py'\n",
       "memory_snapshots: False\n",
       "metrics: None\n",
       "module_name: 'temp'\n",
       "no_return_any: False\n",
       "nofail: False\n",
       "none_is_not_bool: False\n",
       "open_function: <built-in function open>\n",
       "output: None\n",
       "output_debug: None\n",
       "output_errors_csv: None\n",
       "overriding_renamed_parameter_count_checks: False\n",
       "parse_pyi: False\n",
       "pickle_metadata: []\n",
       "pickle_output: False\n",
       "platform: 'darwin'\n",
       "precise_return: False\n",
       "precompiled_builtins: None\n",
       "profile: None\n",
       "protocols: False\n",
       "python_exe: None\n",
       "python_version: (3, 9)\n",
       "pythonpath: ['']\n",
       "quick: None\n",
       "report_errors: True\n",
       "require_override_decorator: False\n",
       "return_success: False\n",
       "show_config: None\n",
       "skip_repeat_calls: True\n",
       "strict_import: False\n",
       "strict_none_binding: False\n",
       "strict_parameter_checks: False\n",
       "strict_primitive_comparisons: False\n",
       "strict_undefined_checks: False\n",
       "timeout: None\n",
       "timestamp_logs: None\n",
       "touch: None\n",
       "typeshed: True\n",
       "unused_imports_info_files: None\n",
       "use_fiddle_overlay: False\n",
       "use_pickled_files: False\n",
       "use_rewrite: False\n",
       "validate_version: True\n",
       "verbosity: 1\n",
       "verify_pickle: None\n",
       "version: None"
      ]
     },
     "execution_count": 2,
     "metadata": {},
     "output_type": "execute_result"
    }
   ],
   "execution_count": 2
  },
  {
   "metadata": {
    "ExecuteTime": {
     "end_time": "2024-08-03T11:24:07.633493Z",
     "start_time": "2024-08-03T11:24:07.505719Z"
    }
   },
   "cell_type": "code",
   "source": [
    "from pytype.io import *\n",
    "\n",
    "res = process_one_file(options)"
   ],
   "id": "62eaf9b13aa48769",
   "outputs": [
    {
     "name": "stderr",
     "output_type": "stream",
     "text": [
      "File \"temp.py\", line 2, in add: unsupported operand type(s) for +: tuple and str [unsupported-operands]\n",
      "  Function __add__ on tuple expects tuple\n",
      "\n",
      "For more details, see https://google.github.io/pytype/errors.html#unsupported-operands\n"
     ]
    }
   ],
   "execution_count": 3
  },
  {
   "metadata": {
    "ExecuteTime": {
     "end_time": "2024-08-03T11:24:07.679527Z",
     "start_time": "2024-08-03T11:24:07.634408Z"
    }
   },
   "cell_type": "code",
   "source": [
    "loader = load_pytd.create_loader(options)\n",
    "src = read_source_file(options.input, options.open_function)\n",
    "#ret = check_or_generate_pyi(options)"
   ],
   "id": "9e0028038f399971",
   "outputs": [],
   "execution_count": 4
  },
  {
   "metadata": {
    "ExecuteTime": {
     "end_time": "2024-08-03T11:24:07.769858Z",
     "start_time": "2024-08-03T11:24:07.681332Z"
    }
   },
   "cell_type": "code",
   "source": [
    "from pytype.analyze import infer_types\n",
    "\n",
    "res = infer_types(src, options, loader)"
   ],
   "id": "e62583e091e0c5dd",
   "outputs": [],
   "execution_count": 5
  },
  {
   "metadata": {
    "ExecuteTime": {
     "end_time": "2024-08-03T11:25:16.614727Z",
     "start_time": "2024-08-03T11:25:06.334215Z"
    }
   },
   "cell_type": "code",
   "source": "%pip install python-pycg",
   "id": "7e8deb26ea9a6b8b",
   "outputs": [
    {
     "name": "stdout",
     "output_type": "stream",
     "text": [
      "Collecting python-pycg\r\n",
      "  Obtaining dependency information for python-pycg from https://files.pythonhosted.org/packages/51/76/22e951f5f6cf413fe9e1bf39430dee60d14a01949648aca29f268a659c06/python_pycg-0.9.1-py3-none-any.whl.metadata\r\n",
      "  Downloading python_pycg-0.9.1-py3-none-any.whl.metadata (3.8 kB)\r\n",
      "Requirement already satisfied: numpy in /Users/maxlautenbach/Documents/GitHub/lasso-python/venv/lib/python3.9/site-packages (from python-pycg) (1.26.4)\r\n",
      "Requirement already satisfied: matplotlib in /Users/maxlautenbach/Documents/GitHub/lasso-python/venv/lib/python3.9/site-packages (from python-pycg) (3.9.0)\r\n",
      "Collecting pyquaternion (from python-pycg)\r\n",
      "  Obtaining dependency information for pyquaternion from https://files.pythonhosted.org/packages/49/b3/d8482e8cacc8ea15a356efea13d22ce1c5914a9ee36622ba250523240bf2/pyquaternion-0.9.9-py3-none-any.whl.metadata\r\n",
      "  Downloading pyquaternion-0.9.9-py3-none-any.whl.metadata (1.4 kB)\r\n",
      "Requirement already satisfied: pyyaml in /Users/maxlautenbach/Documents/GitHub/lasso-python/venv/lib/python3.9/site-packages (from python-pycg) (6.0.1)\r\n",
      "Collecting omegaconf (from python-pycg)\r\n",
      "  Obtaining dependency information for omegaconf from https://files.pythonhosted.org/packages/e3/94/1843518e420fa3ed6919835845df698c7e27e183cb997394e4a670973a65/omegaconf-2.3.0-py3-none-any.whl.metadata\r\n",
      "  Downloading omegaconf-2.3.0-py3-none-any.whl.metadata (3.9 kB)\r\n",
      "Requirement already satisfied: tqdm in /Users/maxlautenbach/Documents/GitHub/lasso-python/venv/lib/python3.9/site-packages (from python-pycg) (4.66.4)\r\n",
      "Collecting pynvml (from python-pycg)\r\n",
      "  Obtaining dependency information for pynvml from https://files.pythonhosted.org/packages/54/5b/16e50abf152be7f18120f11dfff495014a9eaff7b764626e1656f04ad262/pynvml-11.5.3-py3-none-any.whl.metadata\r\n",
      "  Downloading pynvml-11.5.3-py3-none-any.whl.metadata (8.8 kB)\r\n",
      "Collecting calmsize (from python-pycg)\r\n",
      "  Downloading calmsize-0.1.3.tar.gz (3.7 kB)\r\n",
      "  Preparing metadata (setup.py) ... \u001B[?25ldone\r\n",
      "\u001B[?25hCollecting rich (from python-pycg)\r\n",
      "  Obtaining dependency information for rich from https://files.pythonhosted.org/packages/87/67/a37f6214d0e9fe57f6ae54b2956d550ca8365857f42a1ce0392bb21d9410/rich-13.7.1-py3-none-any.whl.metadata\r\n",
      "  Using cached rich-13.7.1-py3-none-any.whl.metadata (18 kB)\r\n",
      "Collecting plyfile (from python-pycg)\r\n",
      "  Obtaining dependency information for plyfile from https://files.pythonhosted.org/packages/8b/ab/8be662b4070c14789f7c18f5f92c8a862a05a59755b88c546651bfa1b38b/plyfile-1.0.3-py3-none-any.whl.metadata\r\n",
      "  Downloading plyfile-1.0.3-py3-none-any.whl.metadata (2.1 kB)\r\n",
      "Collecting trimesh (from python-pycg)\r\n",
      "  Obtaining dependency information for trimesh from https://files.pythonhosted.org/packages/71/63/bbe0395bb7dd414188fb0df0e97132098e541a6ad7b64c7faf3b1886d222/trimesh-4.4.3-py3-none-any.whl.metadata\r\n",
      "  Downloading trimesh-4.4.3-py3-none-any.whl.metadata (18 kB)\r\n",
      "Collecting imageio (from python-pycg)\r\n",
      "  Obtaining dependency information for imageio from https://files.pythonhosted.org/packages/3d/84/f1647217231f6cc46883e5d26e870cc3e1520d458ecd52d6df750810d53c/imageio-2.34.2-py3-none-any.whl.metadata\r\n",
      "  Downloading imageio-2.34.2-py3-none-any.whl.metadata (4.9 kB)\r\n",
      "Collecting screeninfo (from python-pycg)\r\n",
      "  Obtaining dependency information for screeninfo from https://files.pythonhosted.org/packages/6e/bf/c5205d480307bef660e56544b9e3d7ff687da776abb30c9cb3f330887570/screeninfo-0.8.1-py3-none-any.whl.metadata\r\n",
      "  Downloading screeninfo-0.8.1-py3-none-any.whl.metadata (2.9 kB)\r\n",
      "Requirement already satisfied: pillow in /Users/maxlautenbach/Documents/GitHub/lasso-python/venv/lib/python3.9/site-packages (from python-pycg) (10.3.0)\r\n",
      "Collecting usd-core (from python-pycg)\r\n",
      "  Obtaining dependency information for usd-core from https://files.pythonhosted.org/packages/6e/7e/b785839471fa67147584ced02f98df05c4d006aaa02e5a5c4959df9356a7/usd_core-24.8-cp39-none-macosx_10_9_universal2.whl.metadata\r\n",
      "  Downloading usd_core-24.8-cp39-none-macosx_10_9_universal2.whl.metadata (1.6 kB)\r\n",
      "Requirement already satisfied: scipy in /Users/maxlautenbach/Documents/GitHub/lasso-python/venv/lib/python3.9/site-packages (from python-pycg) (1.13.1)\r\n",
      "Requirement already satisfied: setuptools in /Users/maxlautenbach/Documents/GitHub/lasso-python/venv/lib/python3.9/site-packages (from calmsize->python-pycg) (68.2.0)\r\n",
      "Requirement already satisfied: contourpy>=1.0.1 in /Users/maxlautenbach/Documents/GitHub/lasso-python/venv/lib/python3.9/site-packages (from matplotlib->python-pycg) (1.2.1)\r\n",
      "Requirement already satisfied: cycler>=0.10 in /Users/maxlautenbach/Documents/GitHub/lasso-python/venv/lib/python3.9/site-packages (from matplotlib->python-pycg) (0.12.1)\r\n",
      "Requirement already satisfied: fonttools>=4.22.0 in /Users/maxlautenbach/Documents/GitHub/lasso-python/venv/lib/python3.9/site-packages (from matplotlib->python-pycg) (4.53.0)\r\n",
      "Requirement already satisfied: kiwisolver>=1.3.1 in /Users/maxlautenbach/Documents/GitHub/lasso-python/venv/lib/python3.9/site-packages (from matplotlib->python-pycg) (1.4.5)\r\n",
      "Requirement already satisfied: packaging>=20.0 in /Users/maxlautenbach/Documents/GitHub/lasso-python/venv/lib/python3.9/site-packages (from matplotlib->python-pycg) (24.1)\r\n",
      "Requirement already satisfied: pyparsing>=2.3.1 in /Users/maxlautenbach/Documents/GitHub/lasso-python/venv/lib/python3.9/site-packages (from matplotlib->python-pycg) (3.1.2)\r\n",
      "Requirement already satisfied: python-dateutil>=2.7 in /Users/maxlautenbach/Documents/GitHub/lasso-python/venv/lib/python3.9/site-packages (from matplotlib->python-pycg) (2.9.0.post0)\r\n",
      "Requirement already satisfied: importlib-resources>=3.2.0 in /Users/maxlautenbach/Documents/GitHub/lasso-python/venv/lib/python3.9/site-packages (from matplotlib->python-pycg) (6.4.0)\r\n",
      "Collecting antlr4-python3-runtime==4.9.* (from omegaconf->python-pycg)\r\n",
      "  Downloading antlr4-python3-runtime-4.9.3.tar.gz (117 kB)\r\n",
      "\u001B[2K     \u001B[90m━━━━━━━━━━━━━━━━━━━━━━━━━━━━━━━━━━━━━━━\u001B[0m \u001B[32m117.0/117.0 kB\u001B[0m \u001B[31m6.8 MB/s\u001B[0m eta \u001B[36m0:00:00\u001B[0m\r\n",
      "\u001B[?25h  Preparing metadata (setup.py) ... \u001B[?25ldone\r\n",
      "\u001B[?25hCollecting markdown-it-py>=2.2.0 (from rich->python-pycg)\r\n",
      "  Obtaining dependency information for markdown-it-py>=2.2.0 from https://files.pythonhosted.org/packages/42/d7/1ec15b46af6af88f19b8e5ffea08fa375d433c998b8a7639e76935c14f1f/markdown_it_py-3.0.0-py3-none-any.whl.metadata\r\n",
      "  Using cached markdown_it_py-3.0.0-py3-none-any.whl.metadata (6.9 kB)\r\n",
      "Requirement already satisfied: pygments<3.0.0,>=2.13.0 in /Users/maxlautenbach/Documents/GitHub/lasso-python/venv/lib/python3.9/site-packages (from rich->python-pycg) (2.18.0)\r\n",
      "Collecting Cython (from screeninfo->python-pycg)\r\n",
      "  Obtaining dependency information for Cython from https://files.pythonhosted.org/packages/b6/83/b0a63fc7b315edd46821a1a381d18765c1353d201246da44558175cddd56/Cython-3.0.10-py2.py3-none-any.whl.metadata\r\n",
      "  Using cached Cython-3.0.10-py2.py3-none-any.whl.metadata (3.2 kB)\r\n",
      "Collecting pyobjc-framework-Cocoa (from screeninfo->python-pycg)\r\n",
      "  Obtaining dependency information for pyobjc-framework-Cocoa from https://files.pythonhosted.org/packages/70/52/0376b7548a73c724dfcf38623e6ec843dd3bf164ca6193c7ed145e60dded/pyobjc_framework_Cocoa-10.3.1-cp39-cp39-macosx_10_9_universal2.whl.metadata\r\n",
      "  Downloading pyobjc_framework_Cocoa-10.3.1-cp39-cp39-macosx_10_9_universal2.whl.metadata (2.3 kB)\r\n",
      "Requirement already satisfied: zipp>=3.1.0 in /Users/maxlautenbach/Documents/GitHub/lasso-python/venv/lib/python3.9/site-packages (from importlib-resources>=3.2.0->matplotlib->python-pycg) (3.19.2)\r\n",
      "Collecting mdurl~=0.1 (from markdown-it-py>=2.2.0->rich->python-pycg)\r\n",
      "  Obtaining dependency information for mdurl~=0.1 from https://files.pythonhosted.org/packages/b3/38/89ba8ad64ae25be8de66a6d463314cf1eb366222074cfda9ee839c56a4b4/mdurl-0.1.2-py3-none-any.whl.metadata\r\n",
      "  Using cached mdurl-0.1.2-py3-none-any.whl.metadata (1.6 kB)\r\n",
      "Requirement already satisfied: six>=1.5 in /Users/maxlautenbach/Documents/GitHub/lasso-python/venv/lib/python3.9/site-packages (from python-dateutil>=2.7->matplotlib->python-pycg) (1.16.0)\r\n",
      "Collecting pyobjc-core>=10.3.1 (from pyobjc-framework-Cocoa->screeninfo->python-pycg)\r\n",
      "  Obtaining dependency information for pyobjc-core>=10.3.1 from https://files.pythonhosted.org/packages/b5/60/219460b689b10a8bdc0699e6512165b050545fbfc76c1ba5bc7f33c18bbd/pyobjc_core-10.3.1-cp39-cp39-macosx_10_9_universal2.whl.metadata\r\n",
      "  Downloading pyobjc_core-10.3.1-cp39-cp39-macosx_10_9_universal2.whl.metadata (2.5 kB)\r\n",
      "Downloading python_pycg-0.9.1-py3-none-any.whl (31.4 MB)\r\n",
      "\u001B[2K   \u001B[90m━━━━━━━━━━━━━━━━━━━━━━━━━━━━━━━━━━━━━━━━\u001B[0m \u001B[32m31.4/31.4 MB\u001B[0m \u001B[31m11.2 MB/s\u001B[0m eta \u001B[36m0:00:00\u001B[0m00:01\u001B[0m00:01\u001B[0m\r\n",
      "\u001B[?25hDownloading imageio-2.34.2-py3-none-any.whl (313 kB)\r\n",
      "\u001B[2K   \u001B[90m━━━━━━━━━━━━━━━━━━━━━━━━━━━━━━━━━━━━━━━━\u001B[0m \u001B[32m313.5/313.5 kB\u001B[0m \u001B[31m30.4 MB/s\u001B[0m eta \u001B[36m0:00:00\u001B[0m\r\n",
      "\u001B[?25hDownloading omegaconf-2.3.0-py3-none-any.whl (79 kB)\r\n",
      "\u001B[2K   \u001B[90m━━━━━━━━━━━━━━━━━━━━━━━━━━━━━━━━━━━━━━━━\u001B[0m \u001B[32m79.5/79.5 kB\u001B[0m \u001B[31m10.8 MB/s\u001B[0m eta \u001B[36m0:00:00\u001B[0m\r\n",
      "\u001B[?25hDownloading plyfile-1.0.3-py3-none-any.whl (23 kB)\r\n",
      "Downloading pynvml-11.5.3-py3-none-any.whl (53 kB)\r\n",
      "\u001B[2K   \u001B[90m━━━━━━━━━━━━━━━━━━━━━━━━━━━━━━━━━━━━━━━━\u001B[0m \u001B[32m53.1/53.1 kB\u001B[0m \u001B[31m6.0 MB/s\u001B[0m eta \u001B[36m0:00:00\u001B[0m\r\n",
      "\u001B[?25hDownloading pyquaternion-0.9.9-py3-none-any.whl (14 kB)\r\n",
      "Using cached rich-13.7.1-py3-none-any.whl (240 kB)\r\n",
      "Downloading screeninfo-0.8.1-py3-none-any.whl (12 kB)\r\n",
      "Downloading trimesh-4.4.3-py3-none-any.whl (695 kB)\r\n",
      "\u001B[2K   \u001B[90m━━━━━━━━━━━━━━━━━━━━━━━━━━━━━━━━━━━━━━━━\u001B[0m \u001B[32m695.9/695.9 kB\u001B[0m \u001B[31m39.3 MB/s\u001B[0m eta \u001B[36m0:00:00\u001B[0m\r\n",
      "\u001B[?25hDownloading usd_core-24.8-cp39-none-macosx_10_9_universal2.whl (37.8 MB)\r\n",
      "\u001B[2K   \u001B[90m━━━━━━━━━━━━━━━━━━━━━━━━━━━━━━━━━━━━━━━━\u001B[0m \u001B[32m37.8/37.8 MB\u001B[0m \u001B[31m40.0 MB/s\u001B[0m eta \u001B[36m0:00:00\u001B[0m00:01\u001B[0m00:01\u001B[0m\r\n",
      "\u001B[?25hUsing cached markdown_it_py-3.0.0-py3-none-any.whl (87 kB)\r\n",
      "Using cached Cython-3.0.10-py2.py3-none-any.whl (1.2 MB)\r\n",
      "Downloading pyobjc_framework_Cocoa-10.3.1-cp39-cp39-macosx_10_9_universal2.whl (396 kB)\r\n",
      "\u001B[2K   \u001B[90m━━━━━━━━━━━━━━━━━━━━━━━━━━━━━━━━━━━━━━━━\u001B[0m \u001B[32m396.1/396.1 kB\u001B[0m \u001B[31m26.5 MB/s\u001B[0m eta \u001B[36m0:00:00\u001B[0m\r\n",
      "\u001B[?25hUsing cached mdurl-0.1.2-py3-none-any.whl (10.0 kB)\r\n",
      "Downloading pyobjc_core-10.3.1-cp39-cp39-macosx_10_9_universal2.whl (780 kB)\r\n",
      "\u001B[2K   \u001B[90m━━━━━━━━━━━━━━━━━━━━━━━━━━━━━━━━━━━━━━━━\u001B[0m \u001B[32m780.3/780.3 kB\u001B[0m \u001B[31m31.5 MB/s\u001B[0m eta \u001B[36m0:00:00\u001B[0m\r\n",
      "\u001B[?25hBuilding wheels for collected packages: calmsize, antlr4-python3-runtime\r\n",
      "  Building wheel for calmsize (setup.py) ... \u001B[?25ldone\r\n",
      "\u001B[?25h  Created wheel for calmsize: filename=calmsize-0.1.3-py3-none-any.whl size=2868 sha256=d8f871a56ca3da83b8811d330f09ec4367b365b7c7fa750c42606f935fa1e208\r\n",
      "  Stored in directory: /Users/maxlautenbach/Library/Caches/pip/wheels/a4/cd/78/3f6807652db5c03857d3240776d8f679189293e82d7c4b9f8e\r\n",
      "  Building wheel for antlr4-python3-runtime (setup.py) ... \u001B[?25ldone\r\n",
      "\u001B[?25h  Created wheel for antlr4-python3-runtime: filename=antlr4_python3_runtime-4.9.3-py3-none-any.whl size=144554 sha256=53e162b674c744192e2abfde4795391784a7e73fe1187d30a4e6ac5881b6a93f\r\n",
      "  Stored in directory: /Users/maxlautenbach/Library/Caches/pip/wheels/23/cf/80/f3efa822e6ab23277902ee9165fe772eeb1dfb8014f359020a\r\n",
      "Successfully built calmsize antlr4-python3-runtime\r\n",
      "Installing collected packages: antlr4-python3-runtime, usd-core, trimesh, pyquaternion, pyobjc-core, pynvml, plyfile, omegaconf, mdurl, imageio, Cython, calmsize, pyobjc-framework-Cocoa, markdown-it-py, screeninfo, rich, python-pycg\r\n",
      "Successfully installed Cython-3.0.10 antlr4-python3-runtime-4.9.3 calmsize-0.1.3 imageio-2.34.2 markdown-it-py-3.0.0 mdurl-0.1.2 omegaconf-2.3.0 plyfile-1.0.3 pynvml-11.5.3 pyobjc-core-10.3.1 pyobjc-framework-Cocoa-10.3.1 pyquaternion-0.9.9 python-pycg-0.9.1 rich-13.7.1 screeninfo-0.8.1 trimesh-4.4.3 usd-core-24.8\r\n",
      "\r\n",
      "\u001B[1m[\u001B[0m\u001B[34;49mnotice\u001B[0m\u001B[1;39;49m]\u001B[0m\u001B[39;49m A new release of pip is available: \u001B[0m\u001B[31;49m23.2.1\u001B[0m\u001B[39;49m -> \u001B[0m\u001B[32;49m24.2\u001B[0m\r\n",
      "\u001B[1m[\u001B[0m\u001B[34;49mnotice\u001B[0m\u001B[1;39;49m]\u001B[0m\u001B[39;49m To update, run: \u001B[0m\u001B[32;49mpip install --upgrade pip\u001B[0m\r\n",
      "Note: you may need to restart the kernel to use updated packages.\n"
     ]
    }
   ],
   "execution_count": 6
  },
  {
   "metadata": {},
   "cell_type": "code",
   "outputs": [],
   "execution_count": null,
   "source": "",
   "id": "65fd0a7fcab29357"
  }
 ],
 "metadata": {
  "kernelspec": {
   "display_name": "Python 3",
   "language": "python",
   "name": "python3"
  },
  "language_info": {
   "codemirror_mode": {
    "name": "ipython",
    "version": 2
   },
   "file_extension": ".py",
   "mimetype": "text/x-python",
   "name": "python",
   "nbconvert_exporter": "python",
   "pygments_lexer": "ipython2",
   "version": "2.7.6"
  }
 },
 "nbformat": 4,
 "nbformat_minor": 5
}
