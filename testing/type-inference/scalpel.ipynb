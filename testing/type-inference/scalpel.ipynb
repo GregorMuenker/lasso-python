{
 "cells": [
  {
   "cell_type": "code",
   "id": "initial_id",
   "metadata": {
    "collapsed": true,
    "ExecuteTime": {
     "end_time": "2024-08-12T09:02:08.992449Z",
     "start_time": "2024-08-12T09:02:08.984640Z"
    }
   },
   "source": [
    "from scalpel.typeinfer.typeinfer import TypeInference\n",
    "\n",
    "path = \"../../backend/crawl/installed/calculator-01-1.0.0/calculator_01\"\n",
    "inferer = TypeInference(entry_point=path, name=\"calculator\")"
   ],
   "outputs": [],
   "execution_count": 5
  },
  {
   "metadata": {
    "ExecuteTime": {
     "end_time": "2024-08-12T09:02:12.729721Z",
     "start_time": "2024-08-12T09:02:09.437772Z"
    }
   },
   "cell_type": "code",
   "source": "inferer.infer_types()",
   "id": "2f799ca7b022453b",
   "outputs": [],
   "execution_count": 6
  },
  {
   "metadata": {
    "ExecuteTime": {
     "end_time": "2024-08-12T09:02:22.839557Z",
     "start_time": "2024-08-12T09:02:22.833420Z"
    }
   },
   "cell_type": "code",
   "source": "inferer.get_types()",
   "id": "7c5e3a79db0199ef",
   "outputs": [
    {
     "data": {
      "text/plain": [
       "[{'file': 'calculator_main.py',\n",
       "  'line_number': 19,\n",
       "  'function': 'addition',\n",
       "  'type': {'any'}},\n",
       " {'file': 'calculator_main.py',\n",
       "  'line_number': 39,\n",
       "  'function': 'subtraction',\n",
       "  'type': {'any'}},\n",
       " {'file': 'calculator_main.py',\n",
       "  'line_number': 59,\n",
       "  'function': 'multiply',\n",
       "  'type': {'float'}},\n",
       " {'file': 'calculator_main.py',\n",
       "  'line_number': 79,\n",
       "  'function': 'division',\n",
       "  'type': {'float'}},\n",
       " {'file': 'calculator_main.py',\n",
       "  'line_number': 101,\n",
       "  'function': 'root',\n",
       "  'type': {'any'}},\n",
       " {'file': 'calculator_main.py',\n",
       "  'line_number': 19,\n",
       "  'function': 'Calculator.addition',\n",
       "  'type': {'any'}},\n",
       " {'file': 'calculator_main.py',\n",
       "  'line_number': 39,\n",
       "  'function': 'Calculator.subtraction',\n",
       "  'type': {'any'}},\n",
       " {'file': 'calculator_main.py',\n",
       "  'line_number': 59,\n",
       "  'function': 'Calculator.multiply',\n",
       "  'type': {'float'}},\n",
       " {'file': 'calculator_main.py',\n",
       "  'line_number': 79,\n",
       "  'function': 'Calculator.division',\n",
       "  'type': {'float'}},\n",
       " {'file': 'calculator_main.py',\n",
       "  'line_number': 101,\n",
       "  'function': 'Calculator.root',\n",
       "  'type': {'any'}},\n",
       " {'file': 'calculator_main.py',\n",
       "  'line_number': 15,\n",
       "  'parameter': 'num_1',\n",
       "  'function': '__init__',\n",
       "  'type': {'any'}},\n",
       " {'file': 'calculator_main.py',\n",
       "  'line_number': 15,\n",
       "  'parameter': 'num_2',\n",
       "  'function': '__init__',\n",
       "  'type': {'any'}},\n",
       " {'file': 'calculator_main.py',\n",
       "  'line_number': 15,\n",
       "  'parameter': 'num_1',\n",
       "  'function': '__init__',\n",
       "  'type': {'any'}},\n",
       " {'file': 'calculator_main.py',\n",
       "  'line_number': 15,\n",
       "  'parameter': 'num_2',\n",
       "  'function': '__init__',\n",
       "  'type': {'any'}}]"
      ]
     },
     "execution_count": 7,
     "metadata": {},
     "output_type": "execute_result"
    }
   ],
   "execution_count": 7
  }
 ],
 "metadata": {
  "kernelspec": {
   "display_name": "Python 3",
   "language": "python",
   "name": "python3"
  },
  "language_info": {
   "codemirror_mode": {
    "name": "ipython",
    "version": 2
   },
   "file_extension": ".py",
   "mimetype": "text/x-python",
   "name": "python",
   "nbconvert_exporter": "python",
   "pygments_lexer": "ipython2",
   "version": "2.7.6"
  }
 },
 "nbformat": 4,
 "nbformat_minor": 5
}
