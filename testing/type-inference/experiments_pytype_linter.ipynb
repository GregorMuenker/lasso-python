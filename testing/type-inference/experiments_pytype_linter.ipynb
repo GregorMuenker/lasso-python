{
 "cells": [
  {
   "cell_type": "code",
   "id": "initial_id",
   "metadata": {
    "collapsed": true
   },
   "source": [
    "import builtins\n",
    "import copy\n",
    "\n",
    "from tqdm import tqdm\n",
    "from pytype.main import _run_pytype\n",
    "from pytype import config\n",
    "from ast import Name\n",
    "\n",
    "import crawl.run\n",
    "\n",
    "options = config.Options.create(\"temp.py\")"
   ],
   "outputs": [],
   "execution_count": null
  },
  {
   "metadata": {},
   "cell_type": "code",
   "source": [
    "import ast\n",
    "\n",
    "with open(\"temp.py\", \"r\") as file:\n",
    "    source = file.read()\n",
    "    original_tree = ast.parse(source)"
   ],
   "id": "a7ae2e8c868e2477",
   "outputs": [],
   "execution_count": null
  },
  {
   "metadata": {},
   "cell_type": "code",
   "source": [
    "tree = copy.deepcopy(original_tree)\n",
    "tree.body[0].args.args[0].annotation = ast.Name('str')\n",
    "tree.body[0].args.args[1].annotation = ast.Name('int')\n",
    "with open(\"temp.py\", \"w\") as file:\n",
    "    file.write(ast.unparse(tree))"
   ],
   "id": "ea580cd77efb64a1",
   "outputs": [],
   "execution_count": null
  },
  {
   "metadata": {},
   "cell_type": "code",
   "source": [
    "from pytype.io import *\n",
    "\n",
    "res = check_or_generate_pyi(options)\n",
    "\n",
    "errorlog = res.context.errorlog\n",
    "len(errorlog)"
   ],
   "id": "62eaf9b13aa48769",
   "outputs": [],
   "execution_count": null
  },
  {
   "metadata": {
    "ExecuteTime": {
     "end_time": "2024-07-18T12:24:17.579009Z",
     "start_time": "2024-07-18T12:23:57.738085Z"
    }
   },
   "cell_type": "code",
   "source": [
    "import builtins\n",
    "import itertools\n",
    "from pytype.io import *\n",
    "\n",
    "builtin_types = [d for d in dir(builtins) if (isinstance(getattr(builtins, d), type)) and ord(d[0]) >= 97]\n",
    "type_sample = ['bool',\n",
    " 'bytearray',\n",
    " 'bytes',\n",
    " 'dict',\n",
    " 'float',\n",
    " 'int',\n",
    " 'list',\n",
    " 'map',\n",
    " 'set',\n",
    " 'slice',\n",
    " 'staticmethod',\n",
    " 'str',\n",
    " 'tuple'\n",
    "]\n",
    "\n",
    "def test_types_function(original_tree, element):\n",
    "    options = config.Options.create(\"temp.py\")\n",
    "    tree = copy.deepcopy(original_tree)\n",
    "    function_def = tree.body[original_tree.body.index(element)]\n",
    "    arguments = function_def.args.args\n",
    "    possible_arg_types = list(itertools.permutations(type_sample, len(arguments)))\n",
    "    tested_arg_types = []\n",
    "    for arg_types in tqdm(possible_arg_types):\n",
    "        for i, arg_type in enumerate(arg_types):\n",
    "            arguments[i].annotation = ast.Name(arg_type)\n",
    "        with open(\"temp.py\", \"w\") as file:\n",
    "            file.write(ast.unparse(tree))      \n",
    "        res = check_or_generate_pyi(options)\n",
    "        errorlog = res.context.errorlog\n",
    "        if len(errorlog) == 0:\n",
    "            tested_arg_types.append(arg_types)\n",
    "    return tested_arg_types\n",
    "tested_arg_types = test_types_function(original_tree, original_tree.body[0])"
   ],
   "id": "97f596764ab4f1da",
   "outputs": [
    {
     "name": "stderr",
     "output_type": "stream",
     "text": [
      "100%|██████████| 156/156 [00:19<00:00,  7.87it/s]\n"
     ]
    }
   ],
   "execution_count": 148
  },
  {
   "metadata": {
    "ExecuteTime": {
     "end_time": "2024-07-18T11:58:34.430481Z",
     "start_time": "2024-07-18T11:58:34.426243Z"
    }
   },
   "cell_type": "code",
   "source": [
    "with open(\"temp.py\", \"w\") as file:\n",
    "    file.write(ast.unparse(original_tree)) "
   ],
   "id": "3e67ebc3be5636f2",
   "outputs": [],
   "execution_count": 146
  },
  {
   "metadata": {
    "ExecuteTime": {
     "end_time": "2024-07-18T12:42:45.778677Z",
     "start_time": "2024-07-18T12:42:45.719949Z"
    }
   },
   "cell_type": "code",
   "source": [
    "import inspect\n",
    "import importlib\n",
    "\n",
    "sub_module = importlib.import_module(\"numpy._core.fromnumeric\")\n",
    "source = inspect.getsource(sub_module)\n",
    "original_tree = ast.parse(source)"
   ],
   "id": "d6af6d7a5d82173f",
   "outputs": [],
   "execution_count": 151
  },
  {
   "metadata": {},
   "cell_type": "code",
   "outputs": [],
   "execution_count": null,
   "source": "",
   "id": "99ec52b22ea57ba0"
  }
 ],
 "metadata": {
  "kernelspec": {
   "display_name": "Python 3",
   "language": "python",
   "name": "python3"
  },
  "language_info": {
   "codemirror_mode": {
    "name": "ipython",
    "version": 2
   },
   "file_extension": ".py",
   "mimetype": "text/x-python",
   "name": "python",
   "nbconvert_exporter": "python",
   "pygments_lexer": "ipython2",
   "version": "2.7.6"
  }
 },
 "nbformat": 4,
 "nbformat_minor": 5
}
