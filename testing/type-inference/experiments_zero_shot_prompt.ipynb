{
 "cells": [
  {
   "cell_type": "code",
   "id": "initial_id",
   "metadata": {
    "collapsed": true,
    "ExecuteTime": {
     "end_time": "2024-07-10T14:29:55.731776Z",
     "start_time": "2024-07-10T14:29:55.382797Z"
    }
   },
   "source": [
    "from langchain_core.prompts import PromptTemplate\n",
    "from langchain_community.llms import Ollama\n",
    "\n",
    "llm = Ollama(model=\"gemma2:27b\")"
   ],
   "outputs": [
    {
     "name": "stderr",
     "output_type": "stream",
     "text": [
      "/Users/maxlautenbach/Documents/GitHub/lasso-python/venv/lib/python3.9/site-packages/urllib3/__init__.py:35: NotOpenSSLWarning: urllib3 v2 only supports OpenSSL 1.1.1+, currently the 'ssl' module is compiled with 'LibreSSL 2.8.3'. See: https://github.com/urllib3/urllib3/issues/3020\n",
      "  warnings.warn(\n"
     ]
    }
   ],
   "execution_count": 1
  },
  {
   "metadata": {
    "ExecuteTime": {
     "end_time": "2024-07-10T14:31:09.940935Z",
     "start_time": "2024-07-10T14:31:01.462688Z"
    }
   },
   "cell_type": "code",
   "source": [
    "typeevalpy_prompt_2 = '''\n",
    "You are a type inference bot. As you know, most of the python function do not have a datatype annotate. Your task is it to imagine, which datatypes are possible to be processed by the function given by the user.\n",
    "\n",
    "Therefore, your tasks are:\n",
    "1. Infer all possible input and return datatypes of the function. You can use groups of datatypes. Please use python definitions like \"int\" or \"char\", that are also accessible within python code. Please be as restrictive as it is allowed by the function.\n",
    "2. Build up a JSON. Please stick to the given format.\n",
    "3. Please do only output the JSON.\n",
    "\n",
    "JSON-Format:\n",
    "{\n",
    "  \"arguments\": [\n",
    "    {\n",
    "      \"name\": \"<ARGUMENT 1 NAME>\",\n",
    "      \"datatypes\": [\"<DATATYPE 1>\", \"<DATATYPE 2>\"]\n",
    "    }\n",
    "  ],\n",
    "  \"returns\": [\n",
    "    {\n",
    "      \"datatypes\": [\"<DATATYPE 1>\", \"<DATATYPE 2>\"]\n",
    "    }\n",
    "  ]\n",
    "}\n",
    "\n",
    "Example:\n",
    "Python code:\n",
    "def get_char_arr(string):\n",
    "    arr = []\n",
    "    for chr in string:\n",
    "        arr.append(ord(chr))\n",
    "    return arr\n",
    "    \n",
    "Type JSON:\n",
    "{\n",
    "\"arguments\": [\n",
    "  {\n",
    "    \"name\": \"string\",\n",
    "    \"datatypes\": [\"str\"]\n",
    "  }\n",
    "],\n",
    "\"returns\": [\n",
    "  {\n",
    "    \"datatypes\": [\"list\"]\n",
    "  }\n",
    "]\n",
    "}\n",
    "\n",
    "Python code:\n",
    "\n",
    "'''\n",
    "\n",
    "code = '''\n",
    "def get_char_arr(string):\n",
    "    arr = []\n",
    "    for chr in string:\n",
    "        arr.append(ord(chr))\n",
    "    return arr\n",
    "'''\n",
    "\n",
    "print(llm.invoke(typeevalpy_prompt_2 + code))"
   ],
   "id": "585ff185b1f537c4",
   "outputs": [
    {
     "name": "stdout",
     "output_type": "stream",
     "text": [
      "```json\n",
      "{\n",
      "\"arguments\": [\n",
      "  {\n",
      "    \"name\": \"string\",\n",
      "    \"datatypes\": [\"str\"]\n",
      "  }\n",
      "],\n",
      "\"returns\": [\n",
      "  {\n",
      "    \"datatypes\": [\"list\", \"int\"]\n",
      "  }\n",
      "]\n",
      "}\n",
      "```\n"
     ]
    }
   ],
   "execution_count": 5
  },
  {
   "metadata": {
    "ExecuteTime": {
     "end_time": "2024-07-10T14:30:07.455457Z",
     "start_time": "2024-07-10T14:30:01.553542Z"
    }
   },
   "cell_type": "code",
   "source": [
    "code = '''\n",
    "def add(el1, el2):\n",
    "    return el1 + el2\n",
    "'''\n",
    "\n",
    "print(llm.invoke(typeevalpy_prompt_2 + code))"
   ],
   "id": "24959892a9cb6887",
   "outputs": [
    {
     "name": "stdout",
     "output_type": "stream",
     "text": [
      "```json\n",
      "{\n",
      "  \"arguments\": [\n",
      "    {\n",
      "      \"name\": \"el1\",\n",
      "      \"datatypes\": [\"int\", \"float\"]\n",
      "    },\n",
      "    {\n",
      "      \"name\": \"el2\",\n",
      "      \"datatypes\": [\"int\", \"float\"]\n",
      "    }\n",
      "  ],\n",
      "  \"returns\": [\n",
      "    {\n",
      "      \"datatypes\": [\"int\", \"float\"]\n",
      "    }\n",
      "  ]\n",
      "}\n",
      "```\n"
     ]
    }
   ],
   "execution_count": 3
  },
  {
   "metadata": {
    "ExecuteTime": {
     "end_time": "2024-07-10T14:30:07.459993Z",
     "start_time": "2024-07-10T14:30:07.457497Z"
    }
   },
   "cell_type": "code",
   "source": "print(typeevalpy_prompt_2 + code)",
   "id": "15e6cacbaa5784fc",
   "outputs": [
    {
     "name": "stdout",
     "output_type": "stream",
     "text": [
      "\n",
      "You are a type inference bot. As you know, most of the python function do not have a datatype annotate. Your task is it to imagine, which datatypes are possible to be processed by the function given by the user.\n",
      "\n",
      "Therefore, your tasks are:\n",
      "1. Infer all possible input and return datatypes of the function. You can use groups of datatypes. Please use python definitions like \"int\" or \"char\", that are also accessible within python code. Please be as restrictive as it is allowed by the function.\n",
      "2. Build up a JSON. Please stick to the given format.\n",
      "3. Please do only output the JSON.\n",
      "\n",
      "JSON-Format:\n",
      "{\n",
      "  \"arguments\": [\n",
      "    {\n",
      "      \"name\": \"<ARGUMENT 1 NAME>\",\n",
      "      \"datatypes\": [\"<DATATYPE 1>\", \"<DATATYPE 2>\"]\n",
      "    }\n",
      "  ],\n",
      "  \"returns\": [\n",
      "    {\n",
      "      \"datatypes\": [\"<DATATYPE 1>\", \"<DATATYPE 2>\"]\n",
      "    }\n",
      "  ]\n",
      "}\n",
      "\n",
      "Here is an Example:\n",
      "\n",
      "Python code:\n",
      "def get_char_arr(string):\n",
      "    arr = []\n",
      "    for chr in string:\n",
      "        arr.append(ord(chr))\n",
      "    return arr\n",
      "    \n",
      "Type JSON:\n",
      "{\n",
      "\"arguments\": [\n",
      "  {\n",
      "    \"name\": \"string\",\n",
      "    \"datatypes\": [\"str\"]\n",
      "  }\n",
      "],\n",
      "\"returns\": [\n",
      "  {\n",
      "    \"datatypes\": [\"list\"]\n",
      "  }\n",
      "]\n",
      "}\n",
      "\n",
      "---\n",
      "\n",
      "Python code:\n",
      "\n",
      "def add(el1, el2):\n",
      "    return el1 + el2\n",
      "\n"
     ]
    }
   ],
   "execution_count": 4
  },
  {
   "metadata": {
    "ExecuteTime": {
     "end_time": "2024-07-10T14:30:07.464332Z",
     "start_time": "2024-07-10T14:30:07.462861Z"
    }
   },
   "cell_type": "code",
   "source": "",
   "id": "526f87e9e9be84d2",
   "outputs": [],
   "execution_count": 4
  }
 ],
 "metadata": {
  "kernelspec": {
   "display_name": "Python 3",
   "language": "python",
   "name": "python3"
  },
  "language_info": {
   "codemirror_mode": {
    "name": "ipython",
    "version": 2
   },
   "file_extension": ".py",
   "mimetype": "text/x-python",
   "name": "python",
   "nbconvert_exporter": "python",
   "pygments_lexer": "ipython2",
   "version": "2.7.6"
  }
 },
 "nbformat": 4,
 "nbformat_minor": 5
}
